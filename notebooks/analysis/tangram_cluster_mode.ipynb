{
 "cells": [
  {
   "cell_type": "code",
   "execution_count": 1,
   "metadata": {},
   "outputs": [
    {
     "name": "stderr",
     "output_type": "stream",
     "text": [
      "/vol/storage/miniconda3/envs/cell2loc_env/lib/python3.9/site-packages/tqdm/auto.py:21: TqdmWarning: IProgress not found. Please update jupyter and ipywidgets. See https://ipywidgets.readthedocs.io/en/stable/user_install.html\n",
      "  from .autonotebook import tqdm as notebook_tqdm\n"
     ]
    }
   ],
   "source": [
    "import mudata as mu\n",
    "from deconvatac.tl import tangram\n",
    "import pandas as pd\n",
    "import numpy as np\n",
    "import seml\n",
    "import pandas as pd\n",
    "import glob\n",
    "import deconvatac as de\n",
    "import seaborn as sns\n",
    "import tqdm\n",
    "import os"
   ]
  },
  {
   "cell_type": "markdown",
   "metadata": {},
   "source": [
    "## Run Tangram on Cluster Mode"
   ]
  },
  {
   "cell_type": "code",
   "execution_count": 16,
   "metadata": {},
   "outputs": [],
   "source": [
    "class ExperimentWrapper:\n",
    "    \"\"\"\n",
    "    A simple wrapper around a sacred experiment, making use of sacred's captured functions with prefixes.\n",
    "    This allows a modular design of the configuration, where certain sub-dictionaries (e.g., \"data\") are parsed by\n",
    "    specific method. This avoids having one large \"main\" function which takes all parameters as input.\n",
    "    \"\"\"\n",
    "\n",
    "    def __init__(self, init_all=True):\n",
    "        if init_all:\n",
    "            self.init_all()\n",
    "\n",
    "    def init_dataset(self, mdata_spatial_path, mdata_reference_path, var_HVF_column, labels_key, modality):\n",
    "\n",
    "        self.spatial_path = mdata_spatial_path\n",
    "        self.adata_spatial = mu.read_h5mu(mdata_spatial_path).mod[modality]\n",
    "        self.adata_reference = mu.read_h5mu(mdata_reference_path).mod[modality]\n",
    "        # subset on HVFs\n",
    "        self.adata_spatial = self.adata_spatial[:, self.adata_reference.var[var_HVF_column]]\n",
    "        self.adata_reference = self.adata_reference[:, self.adata_reference.var[var_HVF_column]]\n",
    "\n",
    "        self.modality = modality\n",
    "        self.labels_key = labels_key\n",
    "        self.var_HVF_column = var_HVF_column\n",
    "\n",
    "    def init_method(self, method_id):\n",
    "        self.method_id = method_id\n",
    "\n",
    "    def init_all(self):\n",
    "        self.init_dataset()\n",
    "        self.init_method()\n",
    "\n",
    "    def run(self, output_path):\n",
    "\n",
    "        dataset = self.spatial_path.split(\"/\")[-1].split(\".\")[0]\n",
    "        dataset_var_column = dataset + \"_\" + self.var_HVF_column\n",
    "        output_path = output_path + self.modality + \"/\" + dataset_var_column\n",
    "\n",
    "        tangram(\n",
    "            adata_spatial=self.adata_spatial,\n",
    "            adata_ref=self.adata_reference,\n",
    "            labels_key=self.labels_key,\n",
    "            run_rank_genes=False,\n",
    "            result_path=output_path,\n",
    "            device=\"cuda:0\",\n",
    "            num_epochs=1000,\n",
    "            **{\"cluster_label\": self.labels_key, \"mode\": \"clusters\"},\n",
    "        )\n",
    "\n",
    "        results = {\n",
    "            \"result_path\": output_path + \"/tangram_ct_pred.csv\",\n",
    "            \"dataset\": dataset,\n",
    "            \"modality\": self.modality,\n",
    "            \"var_HVF_column\": self.var_HVF_column,\n",
    "        }\n",
    "        return results"
   ]
  },
  {
   "cell_type": "code",
   "execution_count": 13,
   "metadata": {},
   "outputs": [],
   "source": [
    "def run_tangram(ref_path, spatial_path, modality): \n",
    "    mdata_reference_path = ref_path\n",
    "    mdata_spatial_path = spatial_path\n",
    "    method_id =  \"Tangram\"\n",
    "    output_path =  \"/vol/storage/data/deconvolution_results/test2/cluster_mode/\" \n",
    "    labels_key = \"cell_type\"\n",
    "    modality = modality\n",
    "    var_HVF_column = \"highly_variable\"\n",
    "    ex = ExperimentWrapper(init_all=False)\n",
    "    ex.init_dataset(mdata_spatial_path, mdata_reference_path, var_HVF_column, labels_key, modality)\n",
    "    ex.init_method(method_id)\n",
    "    ex.run(output_path)\n",
    "    if modality == \"atac\": \n",
    "        var_HVF_column = \"highly_accessible\"\n",
    "        ex = ExperimentWrapper(init_all=False)\n",
    "        ex.init_dataset(mdata_spatial_path, mdata_reference_path, var_HVF_column, labels_key, modality)\n",
    "        ex.init_method(method_id)\n",
    "        ex.run(output_path)\n"
   ]
  },
  {
   "cell_type": "markdown",
   "metadata": {},
   "source": [
    "Heart Datasets"
   ]
  },
  {
   "cell_type": "code",
   "execution_count": null,
   "metadata": {},
   "outputs": [],
   "source": [
    "ref_paths = \"/vol/storage/data/simulations/human_cardiac_niches.h5mu\""
   ]
  },
  {
   "cell_type": "code",
   "execution_count": 5,
   "metadata": {},
   "outputs": [],
   "source": [
    "spatial_paths = [\"/vol/storage/data/simulations/Heart_1.h5mu\", \"/vol/storage/data/simulations/Heart_2.h5mu\", \n",
    "                 \"/vol/storage/data/simulations/Heart_3.h5mu\", \"/vol/storage/data/simulations/Heart_4.h5mu\"]"
   ]
  },
  {
   "cell_type": "code",
   "execution_count": null,
   "metadata": {},
   "outputs": [],
   "source": [
    "for i in range(len(spatial_paths)): \n",
    "    run_tangram(ref_paths, spatial_paths[i], \"rna\")\n",
    "    run_tangram(ref_paths, spatial_paths[i], \"atac\")"
   ]
  },
  {
   "cell_type": "markdown",
   "metadata": {},
   "source": [
    "Russell Dataset"
   ]
  },
  {
   "cell_type": "code",
   "execution_count": 14,
   "metadata": {},
   "outputs": [],
   "source": [
    "ref_path = \"/vol/storage/data/simulations/russel_ref.h5mu\"\n",
    "spatial_path = \"/vol/storage/data/simulations/russell_250.h5mu\""
   ]
  },
  {
   "cell_type": "code",
   "execution_count": 17,
   "metadata": {},
   "outputs": [
    {
     "name": "stderr",
     "output_type": "stream",
     "text": [
      "/vol/storage/miniconda3/envs/cell2loc_env/lib/python3.9/site-packages/anndata/_core/anndata.py:1113: FutureWarning: is_categorical_dtype is deprecated and will be removed in a future version. Use isinstance(dtype, CategoricalDtype) instead\n",
      "  if not is_categorical_dtype(df_full[k]):\n",
      "INFO:root:4000 training genes are saved in `uns``training_genes` of both single cell and spatial Anndatas.\n",
      "INFO:root:4000 overlapped genes are saved in `uns``overlap_genes` of both single cell and spatial Anndatas.\n",
      "INFO:root:uniform based density prior is calculated and saved in `obs``uniform_density` of the spatial Anndata.\n",
      "INFO:root:rna count based density prior is calculated and saved in `obs``rna_count_based_density` of the spatial Anndata.\n",
      "INFO:root:Allocate tensors for mapping.\n",
      "INFO:root:Begin training with 4000 genes and rna_count_based density_prior in clusters mode...\n"
     ]
    },
    {
     "name": "stdout",
     "output_type": "stream",
     "text": [
      "Running tangram\n"
     ]
    },
    {
     "name": "stderr",
     "output_type": "stream",
     "text": [
      "INFO:root:Printing scores every 100 epochs.\n"
     ]
    },
    {
     "name": "stdout",
     "output_type": "stream",
     "text": [
      "Score: 0.260, KL reg: 0.553\n",
      "Score: 0.497, KL reg: 0.003\n",
      "Score: 0.498, KL reg: 0.003\n",
      "Score: 0.499, KL reg: 0.003\n",
      "Score: 0.499, KL reg: 0.003\n",
      "Score: 0.499, KL reg: 0.003\n",
      "Score: 0.499, KL reg: 0.003\n",
      "Score: 0.499, KL reg: 0.003\n",
      "Score: 0.499, KL reg: 0.003\n",
      "Score: 0.500, KL reg: 0.003\n"
     ]
    },
    {
     "name": "stderr",
     "output_type": "stream",
     "text": [
      "INFO:root:Saving results..\n",
      "INFO:root:spatial prediction dataframe is saved in `obsm` `tangram_ct_pred` of the spatial AnnData.\n"
     ]
    },
    {
     "name": "stdout",
     "output_type": "stream",
     "text": [
      "Tangram Done, now saving results\n"
     ]
    },
    {
     "name": "stderr",
     "output_type": "stream",
     "text": [
      "INFO:root:20000 training genes are saved in `uns``training_genes` of both single cell and spatial Anndatas.\n",
      "INFO:root:20000 overlapped genes are saved in `uns``overlap_genes` of both single cell and spatial Anndatas.\n",
      "INFO:root:uniform based density prior is calculated and saved in `obs``uniform_density` of the spatial Anndata.\n",
      "INFO:root:rna count based density prior is calculated and saved in `obs``rna_count_based_density` of the spatial Anndata.\n",
      "INFO:root:Allocate tensors for mapping.\n",
      "INFO:root:Begin training with 20000 genes and rna_count_based density_prior in clusters mode...\n",
      "INFO:root:Printing scores every 100 epochs.\n"
     ]
    },
    {
     "name": "stdout",
     "output_type": "stream",
     "text": [
      "Running tangram\n",
      "Score: 0.282, KL reg: 0.563\n",
      "Score: 0.517, KL reg: 0.001\n",
      "Score: 0.519, KL reg: 0.001\n",
      "Score: 0.520, KL reg: 0.001\n",
      "Score: 0.520, KL reg: 0.001\n",
      "Score: 0.520, KL reg: 0.001\n",
      "Score: 0.520, KL reg: 0.001\n",
      "Score: 0.520, KL reg: 0.001\n",
      "Score: 0.520, KL reg: 0.001\n",
      "Score: 0.520, KL reg: 0.001\n"
     ]
    },
    {
     "name": "stderr",
     "output_type": "stream",
     "text": [
      "INFO:root:Saving results..\n",
      "INFO:root:spatial prediction dataframe is saved in `obsm` `tangram_ct_pred` of the spatial AnnData.\n"
     ]
    },
    {
     "name": "stdout",
     "output_type": "stream",
     "text": [
      "Tangram Done, now saving results\n"
     ]
    },
    {
     "name": "stderr",
     "output_type": "stream",
     "text": [
      "INFO:root:20000 training genes are saved in `uns``training_genes` of both single cell and spatial Anndatas.\n",
      "INFO:root:20000 overlapped genes are saved in `uns``overlap_genes` of both single cell and spatial Anndatas.\n",
      "INFO:root:uniform based density prior is calculated and saved in `obs``uniform_density` of the spatial Anndata.\n",
      "INFO:root:rna count based density prior is calculated and saved in `obs``rna_count_based_density` of the spatial Anndata.\n",
      "INFO:root:Allocate tensors for mapping.\n",
      "INFO:root:Begin training with 20000 genes and rna_count_based density_prior in clusters mode...\n",
      "INFO:root:Printing scores every 100 epochs.\n"
     ]
    },
    {
     "name": "stdout",
     "output_type": "stream",
     "text": [
      "Running tangram\n",
      "Score: 0.294, KL reg: 0.570\n",
      "Score: 0.557, KL reg: 0.000\n",
      "Score: 0.558, KL reg: 0.000\n",
      "Score: 0.559, KL reg: 0.000\n",
      "Score: 0.559, KL reg: 0.000\n",
      "Score: 0.559, KL reg: 0.000\n",
      "Score: 0.559, KL reg: 0.000\n",
      "Score: 0.559, KL reg: 0.000\n",
      "Score: 0.559, KL reg: 0.000\n",
      "Score: 0.559, KL reg: 0.000\n"
     ]
    },
    {
     "name": "stderr",
     "output_type": "stream",
     "text": [
      "INFO:root:Saving results..\n",
      "INFO:root:spatial prediction dataframe is saved in `obsm` `tangram_ct_pred` of the spatial AnnData.\n"
     ]
    },
    {
     "name": "stdout",
     "output_type": "stream",
     "text": [
      "Tangram Done, now saving results\n"
     ]
    }
   ],
   "source": [
    "run_tangram(ref_path, spatial_path, \"rna\")\n",
    "run_tangram(ref_path, spatial_path, \"atac\")"
   ]
  },
  {
   "cell_type": "code",
   "execution_count": null,
   "metadata": {},
   "outputs": [],
   "source": []
  },
  {
   "cell_type": "code",
   "execution_count": null,
   "metadata": {},
   "outputs": [],
   "source": []
  },
  {
   "cell_type": "markdown",
   "metadata": {},
   "source": [
    "## Evaluate results"
   ]
  },
  {
   "cell_type": "code",
   "execution_count": 18,
   "metadata": {},
   "outputs": [],
   "source": [
    "def get_proportions(adata):\n",
    "    df = pd.DataFrame(adata.obsm[\"proportions\"], columns=adata.uns[\"proportion_names\"], index=adata.obs_names)\n",
    "    return df\n",
    "\n",
    "def load_table(path, index_col):\n",
    "    res = pd.read_csv(path, index_col=index_col)\n",
    "    if \"q05cell_abundance_w_sf_\" in res.columns[0]:\n",
    "        res.columns = res.columns.to_series().str.split(\"q05cell_abundance_w_sf_\", expand=True).loc[:, 1].values\n",
    "    elif \"meanscell_abundance_w_sf_\" in res.columns[0]:\n",
    "        res.columns = res.columns.to_series().str.split(\"meanscell_abundance_w_sf_\", expand=True).loc[:, 1].values\n",
    "    if res.index[0] != 0:\n",
    "        res.index = res.index.astype(int) - 1\n",
    "    res.index = res.index.astype(str)\n",
    "    if \"cell_ID\" in res.columns:\n",
    "        res.drop(\"cell_ID\", axis=1, inplace=True)\n",
    "    res = res.div(res.sum(axis=1), axis=0)\n",
    "    return res"
   ]
  },
  {
   "cell_type": "code",
   "execution_count": 19,
   "metadata": {},
   "outputs": [],
   "source": [
    "def evaluate_results(data_paths,  modalities, mapping_dict, results_path):\n",
    "    df = [pd.DataFrame({'path': glob.glob(os.path.join(data_paths[0], modality, \"*\", \"*\"))}) for modality in modalities]\n",
    "    df = pd.concat(df)\n",
    "    df[['modality', 'dataset_features']] = df['path'].str.split('/', expand=True).iloc[:, 7:-1]\n",
    "    df[['method']] = \"tangram\"\n",
    "    df['dataset'] = df['dataset_features'].str.rsplit(\"_\", n=2).str[0]\n",
    "    df[\"features\"] = df[\"dataset_features\"].str.split(\"_\", n=2).str[-1]\n",
    "    df[\"mdata_spatial_path\"] = df['dataset'].map(mapping_dict)\n",
    "\n",
    "    jsd = []\n",
    "    rmse = []\n",
    "    for _, row in tqdm.tqdm(df.iterrows()):\n",
    "        # load ground truth\n",
    "        target_adata = mu.read(row[\"mdata_spatial_path\"])\n",
    "        targets = get_proportions(target_adata[row[\"modality\"]])\n",
    "\n",
    "        # load table\n",
    "        predictions = load_table(row[\"path\"], index_col=(None if row[\"method\"] == \"moscot\" else 0))\n",
    "        missing_cell_types = [cell_type for cell_type in targets.columns if cell_type not in predictions.columns]\n",
    "        predictions = predictions.assign(**dict.fromkeys(missing_cell_types, 0))\n",
    "        predictions = predictions.loc[targets.index, targets.columns]\n",
    "        jsd.append(de.tl.jsd(predictions, targets))\n",
    "        rmse.append(de.tl.rmse(predictions, targets))\n",
    "    df[\"jsd\"] = jsd\n",
    "    df[\"rmse\"] = rmse\n",
    "    \n",
    "    df.to_csv(results_path)\n",
    "    "
   ]
  },
  {
   "cell_type": "code",
   "execution_count": 23,
   "metadata": {},
   "outputs": [],
   "source": [
    "mapping_dict = {\n",
    "    \"russell_250\": \"/vol/storage/data/simulations/russell_250.h5mu\",\n",
    "    \"Heart_1\": \"/vol/storage/data/simulations/Heart_1.h5mu\",\n",
    "    \"Heart_2\": \"/vol/storage/data/simulations/Heart_2.h5mu\",\n",
    "    \"Heart_3\": \"/vol/storage/data/simulations/Heart_3.h5mu\",\n",
    "    \"Heart_4\": \"/vol/storage/data/simulations/Heart_4.h5mu\",\n",
    "    \"Brain_1\": \"/vol/storage/data/simulations/Brain_1.h5mu\",\n",
    "    \"Brain_2\": \"/vol/storage/data/simulations/Brain_2.h5mu\",\n",
    "    \"Brain_3\": \"/vol/storage/data/simulations/Brain_3.h5mu\",\n",
    "    \"Brain_4\": \"/vol/storage/data/simulations/Brain_4.h5mu\",\n",
    "}"
   ]
  },
  {
   "cell_type": "code",
   "execution_count": null,
   "metadata": {},
   "outputs": [],
   "source": [
    "data_path = [\"/vol/storage/data/deconvolution_results/test2/cluster_mode\"]\n",
    "methods = [\"tangram\"]\n",
    "modalities = [\"atac\", \"rna\"]"
   ]
  },
  {
   "cell_type": "code",
   "execution_count": 24,
   "metadata": {},
   "outputs": [
    {
     "name": "stderr",
     "output_type": "stream",
     "text": [
      "0it [00:00, ?it/s]"
     ]
    },
    {
     "name": "stderr",
     "output_type": "stream",
     "text": [
      "14it [02:21, 10.11s/it]\n"
     ]
    }
   ],
   "source": [
    "evaluate_results(data_paths=data_path, modalities=modalities, mapping_dict=mapping_dict, results_path=\"results_table_cluster_mode.csv\")"
   ]
  },
  {
   "cell_type": "code",
   "execution_count": 25,
   "metadata": {},
   "outputs": [
    {
     "data": {
      "text/html": [
       "<div>\n",
       "<style scoped>\n",
       "    .dataframe tbody tr th:only-of-type {\n",
       "        vertical-align: middle;\n",
       "    }\n",
       "\n",
       "    .dataframe tbody tr th {\n",
       "        vertical-align: top;\n",
       "    }\n",
       "\n",
       "    .dataframe thead th {\n",
       "        text-align: right;\n",
       "    }\n",
       "</style>\n",
       "<table border=\"1\" class=\"dataframe\">\n",
       "  <thead>\n",
       "    <tr style=\"text-align: right;\">\n",
       "      <th></th>\n",
       "      <th>path</th>\n",
       "      <th>modality</th>\n",
       "      <th>dataset_features</th>\n",
       "      <th>method</th>\n",
       "      <th>dataset</th>\n",
       "      <th>features</th>\n",
       "      <th>mdata_spatial_path</th>\n",
       "      <th>jsd</th>\n",
       "      <th>rmse</th>\n",
       "    </tr>\n",
       "  </thead>\n",
       "  <tbody>\n",
       "    <tr>\n",
       "      <th>0</th>\n",
       "      <td>/vol/storage/data/deconvolution_results/test2/...</td>\n",
       "      <td>atac</td>\n",
       "      <td>russell_250_highly_variable</td>\n",
       "      <td>tangram</td>\n",
       "      <td>russell_250</td>\n",
       "      <td>highly_variable</td>\n",
       "      <td>/vol/storage/data/simulations/russell_250.h5mu</td>\n",
       "      <td>0.494151</td>\n",
       "      <td>0.183020</td>\n",
       "    </tr>\n",
       "    <tr>\n",
       "      <th>1</th>\n",
       "      <td>/vol/storage/data/deconvolution_results/test2/...</td>\n",
       "      <td>atac</td>\n",
       "      <td>russell_250_highly_accessible</td>\n",
       "      <td>tangram</td>\n",
       "      <td>russell_250</td>\n",
       "      <td>highly_accessible</td>\n",
       "      <td>/vol/storage/data/simulations/russell_250.h5mu</td>\n",
       "      <td>0.508469</td>\n",
       "      <td>0.181423</td>\n",
       "    </tr>\n",
       "    <tr>\n",
       "      <th>2</th>\n",
       "      <td>/vol/storage/data/deconvolution_results/test2/...</td>\n",
       "      <td>atac</td>\n",
       "      <td>Heart_1_highly_accessible</td>\n",
       "      <td>tangram</td>\n",
       "      <td>Heart_1</td>\n",
       "      <td>highly_accessible</td>\n",
       "      <td>/vol/storage/data/simulations/Heart_1.h5mu</td>\n",
       "      <td>0.924113</td>\n",
       "      <td>0.241885</td>\n",
       "    </tr>\n",
       "    <tr>\n",
       "      <th>3</th>\n",
       "      <td>/vol/storage/data/deconvolution_results/test2/...</td>\n",
       "      <td>atac</td>\n",
       "      <td>Heart_4_highly_variable</td>\n",
       "      <td>tangram</td>\n",
       "      <td>Heart_4</td>\n",
       "      <td>highly_variable</td>\n",
       "      <td>/vol/storage/data/simulations/Heart_4.h5mu</td>\n",
       "      <td>0.722076</td>\n",
       "      <td>0.177725</td>\n",
       "    </tr>\n",
       "    <tr>\n",
       "      <th>4</th>\n",
       "      <td>/vol/storage/data/deconvolution_results/test2/...</td>\n",
       "      <td>atac</td>\n",
       "      <td>Heart_2_highly_accessible</td>\n",
       "      <td>tangram</td>\n",
       "      <td>Heart_2</td>\n",
       "      <td>highly_accessible</td>\n",
       "      <td>/vol/storage/data/simulations/Heart_2.h5mu</td>\n",
       "      <td>0.678814</td>\n",
       "      <td>0.154144</td>\n",
       "    </tr>\n",
       "  </tbody>\n",
       "</table>\n",
       "</div>"
      ],
      "text/plain": [
       "                                                path modality  \\\n",
       "0  /vol/storage/data/deconvolution_results/test2/...     atac   \n",
       "1  /vol/storage/data/deconvolution_results/test2/...     atac   \n",
       "2  /vol/storage/data/deconvolution_results/test2/...     atac   \n",
       "3  /vol/storage/data/deconvolution_results/test2/...     atac   \n",
       "4  /vol/storage/data/deconvolution_results/test2/...     atac   \n",
       "\n",
       "                dataset_features   method      dataset           features  \\\n",
       "0    russell_250_highly_variable  tangram  russell_250    highly_variable   \n",
       "1  russell_250_highly_accessible  tangram  russell_250  highly_accessible   \n",
       "2      Heart_1_highly_accessible  tangram      Heart_1  highly_accessible   \n",
       "3        Heart_4_highly_variable  tangram      Heart_4    highly_variable   \n",
       "4      Heart_2_highly_accessible  tangram      Heart_2  highly_accessible   \n",
       "\n",
       "                               mdata_spatial_path       jsd      rmse  \n",
       "0  /vol/storage/data/simulations/russell_250.h5mu  0.494151  0.183020  \n",
       "1  /vol/storage/data/simulations/russell_250.h5mu  0.508469  0.181423  \n",
       "2      /vol/storage/data/simulations/Heart_1.h5mu  0.924113  0.241885  \n",
       "3      /vol/storage/data/simulations/Heart_4.h5mu  0.722076  0.177725  \n",
       "4      /vol/storage/data/simulations/Heart_2.h5mu  0.678814  0.154144  "
      ]
     },
     "execution_count": 25,
     "metadata": {},
     "output_type": "execute_result"
    }
   ],
   "source": [
    "df = pd.read_csv('results_table_cluster_mode.csv', index_col=0)\n",
    "df.head()"
   ]
  },
  {
   "cell_type": "code",
   "execution_count": 30,
   "metadata": {},
   "outputs": [
    {
     "data": {
      "text/plain": [
       "method   dataset      features           modality\n",
       "tangram  Heart_1      highly_accessible  atac        0.924113\n",
       "                      highly_variable    atac        0.904940\n",
       "                                         rna         0.780529\n",
       "         Heart_2      highly_accessible  atac        0.678814\n",
       "                      highly_variable    atac        0.624794\n",
       "                                         rna         0.490643\n",
       "         Heart_3      highly_variable    atac        0.630467\n",
       "                                         rna         0.463121\n",
       "         Heart_4      highly_accessible  atac        0.778559\n",
       "                      highly_variable    atac        0.722076\n",
       "                                         rna         0.571554\n",
       "         russell_250  highly_accessible  atac        0.508469\n",
       "                      highly_variable    atac        0.494151\n",
       "                                         rna         0.462513\n",
       "dtype: float64"
      ]
     },
     "execution_count": 30,
     "metadata": {},
     "output_type": "execute_result"
    }
   ],
   "source": [
    "df.groupby(['method', \"dataset\",'features', 'modality'])[['jsd']].mean().sum(axis=1)#.sort_values()"
   ]
  },
  {
   "cell_type": "code",
   "execution_count": 31,
   "metadata": {},
   "outputs": [
    {
     "data": {
      "text/plain": [
       "method   dataset      features           modality\n",
       "tangram  Heart_1      highly_accessible  atac        0.241885\n",
       "                      highly_variable    atac        0.229489\n",
       "                                         rna         0.187021\n",
       "         Heart_2      highly_accessible  atac        0.154144\n",
       "                      highly_variable    atac        0.135193\n",
       "                                         rna         0.087696\n",
       "         Heart_3      highly_variable    atac        0.149514\n",
       "                                         rna         0.099352\n",
       "         Heart_4      highly_accessible  atac        0.197400\n",
       "                      highly_variable    atac        0.177725\n",
       "                                         rna         0.127264\n",
       "         russell_250  highly_accessible  atac        0.181423\n",
       "                      highly_variable    atac        0.183020\n",
       "                                         rna         0.166592\n",
       "dtype: float64"
      ]
     },
     "execution_count": 31,
     "metadata": {},
     "output_type": "execute_result"
    }
   ],
   "source": [
    "df.groupby(['method', \"dataset\", 'features', 'modality'])[['rmse']].mean().sum(axis=1)#.sort_values()"
   ]
  },
  {
   "cell_type": "code",
   "execution_count": null,
   "metadata": {},
   "outputs": [],
   "source": []
  },
  {
   "cell_type": "code",
   "execution_count": null,
   "metadata": {},
   "outputs": [],
   "source": []
  },
  {
   "cell_type": "code",
   "execution_count": null,
   "metadata": {},
   "outputs": [],
   "source": []
  },
  {
   "cell_type": "code",
   "execution_count": null,
   "metadata": {},
   "outputs": [],
   "source": []
  },
  {
   "cell_type": "code",
   "execution_count": null,
   "metadata": {},
   "outputs": [],
   "source": []
  }
 ],
 "metadata": {
  "kernelspec": {
   "display_name": "cell2loc_env",
   "language": "python",
   "name": "python3"
  },
  "language_info": {
   "codemirror_mode": {
    "name": "ipython",
    "version": 3
   },
   "file_extension": ".py",
   "mimetype": "text/x-python",
   "name": "python",
   "nbconvert_exporter": "python",
   "pygments_lexer": "ipython3",
   "version": "3.9.18"
  }
 },
 "nbformat": 4,
 "nbformat_minor": 2
}
