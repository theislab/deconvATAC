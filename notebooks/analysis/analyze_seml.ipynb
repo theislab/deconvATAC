{
 "cells": [
  {
   "cell_type": "code",
   "execution_count": 69,
   "metadata": {},
   "outputs": [],
   "source": [
    "import seml\n",
    "import pandas as pd\n",
    "import glob\n",
    "import mudata as mu\n",
    "import deconvatac as de\n",
    "import seaborn as sns\n",
    "import tqdm"
   ]
  },
  {
   "cell_type": "code",
   "execution_count": 70,
   "metadata": {},
   "outputs": [],
   "source": [
    "def get_proportions(adata):\n",
    "    df = pd.DataFrame(adata.obsm[\"proportions\"], columns=adata.uns[\"proportion_names\"], index=adata.obs_names)\n",
    "    return df"
   ]
  },
  {
   "cell_type": "code",
   "execution_count": 98,
   "metadata": {},
   "outputs": [],
   "source": [
    "tables = ['tangram', 'rctd', 'spatialdwls', 'destvi'] # cell2location, moscot "
   ]
  },
  {
   "cell_type": "code",
   "execution_count": 99,
   "metadata": {},
   "outputs": [
    {
     "name": "stderr",
     "output_type": "stream",
     "text": [
      "100%|██████████| 20/20 [00:00<00:00, 11878.52it/s]\n",
      "100%|██████████| 20/20 [00:00<00:00, 7933.24it/s]\n",
      "100%|██████████| 3/3 [00:00<00:00, 2279.10it/s]\n",
      "100%|██████████| 3/3 [00:00<00:00, 6183.25it/s]\n",
      "100%|██████████| 6/6 [00:00<00:00, 4531.93it/s]\n",
      "100%|██████████| 6/6 [00:00<00:00, 7514.43it/s]\n",
      "100%|██████████| 23/23 [00:00<00:00, 14089.23it/s]\n",
      "100%|██████████| 23/23 [00:00<00:00, 10145.02it/s]\n"
     ]
    }
   ],
   "source": [
    "df = [seml.get_results(table, to_data_frame=True) for table in tables]"
   ]
  },
  {
   "cell_type": "code",
   "execution_count": 100,
   "metadata": {},
   "outputs": [],
   "source": [
    "df = pd.concat(df)"
   ]
  },
  {
   "cell_type": "code",
   "execution_count": 101,
   "metadata": {},
   "outputs": [],
   "source": [
    "df.to_csv('results_table.csv')"
   ]
  },
  {
   "cell_type": "code",
   "execution_count": 85,
   "metadata": {},
   "outputs": [],
   "source": [
    "# tangram\n",
    "# columns: cell type, values not proportions --> normalization\n",
    "\n",
    "# cell2location\n",
    "# columns: meanscell_abundance_w_sf_ cell type, values not proportions --> normalization\n",
    "\n",
    "# destvi\n",
    "# columns: cell type, values are proportions \n",
    "\n",
    "# rctd\n",
    "# columns: cell type, values are proportions\n",
    "\n",
    "# spatialdwls\n",
    "# columns: cell type, values are proportions"
   ]
  },
  {
   "cell_type": "code",
   "execution_count": 88,
   "metadata": {},
   "outputs": [],
   "source": [
    "# load table\n",
    "# load ground truth\n",
    "# clean cell type names\n",
    "# sort cell types\n",
    "# normalize if necessary\n",
    "# compute metrics\n",
    "# record metric, config"
   ]
  },
  {
   "cell_type": "code",
   "execution_count": 89,
   "metadata": {},
   "outputs": [],
   "source": [
    "def load_table(path, method):\n",
    "    res = pd.read_csv(row[\"result.result_path\"], index_col=0)\n",
    "    if \"q05cell_abundance_w_sf_\" in res.columns:\n",
    "        res.columns = res.columns.to_series().str.split(\"q05cell_abundance_w_sf_\", expand=True).loc[:, 1].values\n",
    "    elif \"meanscell_abundance_w_sf_\" in res.columns:\n",
    "        res.columns = res.columns.to_series().str.split(\"meanscell_abundance_w_sf_\", expand=True).loc[:, 1].values\n",
    "    if res.index[0] != 0:\n",
    "        res.index = res.index.astype(int) - 1\n",
    "    res.index = res.index.astype(str)\n",
    "    res = res.div(res.sum(axis=1), axis=0)\n",
    "    return res"
   ]
  },
  {
   "cell_type": "code",
   "execution_count": 90,
   "metadata": {},
   "outputs": [
    {
     "name": "stderr",
     "output_type": "stream",
     "text": [
      "52it [03:37,  4.18s/it]\n"
     ]
    }
   ],
   "source": [
    "jsd = []\n",
    "rmse = []\n",
    "for i, row in tqdm.tqdm(df.iterrows()):\n",
    "    # load ground truth\n",
    "    target_adata = mu.read(row[\"config.data.mdata_spatial_path\"])\n",
    "    targets = get_proportions(target_adata[row[\"config.data.modality\"]])\n",
    "\n",
    "    # load table\n",
    "    predictions = load_table(row[\"result.result_path\"], row[\"config.method.method_id\"])\n",
    "    predictions = predictions.loc[targets.index, targets.columns]\n",
    "\n",
    "    jsd.append(de.tl.jsd(predictions, targets))\n",
    "    rmse.append(de.tl.rmse(predictions, targets))\n",
    "df[\"jsd\"] = jsd\n",
    "df[\"rmse\"] = rmse"
   ]
  },
  {
   "cell_type": "code",
   "execution_count": 91,
   "metadata": {},
   "outputs": [
    {
     "data": {
      "text/html": [
       "<div>\n",
       "<style scoped>\n",
       "    .dataframe tbody tr th:only-of-type {\n",
       "        vertical-align: middle;\n",
       "    }\n",
       "\n",
       "    .dataframe tbody tr th {\n",
       "        vertical-align: top;\n",
       "    }\n",
       "\n",
       "    .dataframe thead th {\n",
       "        text-align: right;\n",
       "    }\n",
       "</style>\n",
       "<table border=\"1\" class=\"dataframe\">\n",
       "  <thead>\n",
       "    <tr style=\"text-align: right;\">\n",
       "      <th></th>\n",
       "      <th>_id</th>\n",
       "      <th>config.overwrite</th>\n",
       "      <th>config.db_collection</th>\n",
       "      <th>config.data.labels_key</th>\n",
       "      <th>config.data.mdata_reference_path</th>\n",
       "      <th>config.data.mdata_spatial_path</th>\n",
       "      <th>config.data.modality</th>\n",
       "      <th>config.data.var_HVF_column</th>\n",
       "      <th>config.method.method_id</th>\n",
       "      <th>config.model.output_path</th>\n",
       "      <th>...</th>\n",
       "      <th>result.result_path</th>\n",
       "      <th>result.dataset</th>\n",
       "      <th>result.modality</th>\n",
       "      <th>result.var_HVF_column</th>\n",
       "      <th>config.model.r_lib_path</th>\n",
       "      <th>config.data.cluster_column</th>\n",
       "      <th>config.data.layer</th>\n",
       "      <th>config.model.n_cell</th>\n",
       "      <th>jsd</th>\n",
       "      <th>rmse</th>\n",
       "    </tr>\n",
       "  </thead>\n",
       "  <tbody>\n",
       "    <tr>\n",
       "      <th>0</th>\n",
       "      <td>1</td>\n",
       "      <td>1</td>\n",
       "      <td>tangram</td>\n",
       "      <td>cell_type</td>\n",
       "      <td>/vol/storage/data/cellxgene/human_cardiac_nich...</td>\n",
       "      <td>/vol/storage/data/simulations/Heart_1.h5mu</td>\n",
       "      <td>atac</td>\n",
       "      <td>highly_variable</td>\n",
       "      <td>Tangram</td>\n",
       "      <td>/vol/storage/data/deconvolution_results/tangram/</td>\n",
       "      <td>...</td>\n",
       "      <td>/vol/storage/data/deconvolution_results/tangra...</td>\n",
       "      <td>Heart_1</td>\n",
       "      <td>atac</td>\n",
       "      <td>highly_variable</td>\n",
       "      <td>NaN</td>\n",
       "      <td>NaN</td>\n",
       "      <td>NaN</td>\n",
       "      <td>NaN</td>\n",
       "      <td>0.925091</td>\n",
       "      <td>0.228976</td>\n",
       "    </tr>\n",
       "    <tr>\n",
       "      <th>1</th>\n",
       "      <td>2</td>\n",
       "      <td>2</td>\n",
       "      <td>tangram</td>\n",
       "      <td>cell_type</td>\n",
       "      <td>/vol/storage/data/cellxgene/human_cardiac_nich...</td>\n",
       "      <td>/vol/storage/data/simulations/Heart_1.h5mu</td>\n",
       "      <td>atac</td>\n",
       "      <td>highly_accessible</td>\n",
       "      <td>Tangram</td>\n",
       "      <td>/vol/storage/data/deconvolution_results/tangram/</td>\n",
       "      <td>...</td>\n",
       "      <td>/vol/storage/data/deconvolution_results/tangra...</td>\n",
       "      <td>Heart_1</td>\n",
       "      <td>atac</td>\n",
       "      <td>highly_accessible</td>\n",
       "      <td>NaN</td>\n",
       "      <td>NaN</td>\n",
       "      <td>NaN</td>\n",
       "      <td>NaN</td>\n",
       "      <td>0.926100</td>\n",
       "      <td>0.229473</td>\n",
       "    </tr>\n",
       "    <tr>\n",
       "      <th>2</th>\n",
       "      <td>3</td>\n",
       "      <td>3</td>\n",
       "      <td>tangram</td>\n",
       "      <td>cell_type</td>\n",
       "      <td>/vol/storage/data/cellxgene/human_cardiac_nich...</td>\n",
       "      <td>/vol/storage/data/simulations/Heart_2.h5mu</td>\n",
       "      <td>atac</td>\n",
       "      <td>highly_variable</td>\n",
       "      <td>Tangram</td>\n",
       "      <td>/vol/storage/data/deconvolution_results/tangram/</td>\n",
       "      <td>...</td>\n",
       "      <td>/vol/storage/data/deconvolution_results/tangra...</td>\n",
       "      <td>Heart_2</td>\n",
       "      <td>atac</td>\n",
       "      <td>highly_variable</td>\n",
       "      <td>NaN</td>\n",
       "      <td>NaN</td>\n",
       "      <td>NaN</td>\n",
       "      <td>NaN</td>\n",
       "      <td>0.597795</td>\n",
       "      <td>0.117293</td>\n",
       "    </tr>\n",
       "    <tr>\n",
       "      <th>3</th>\n",
       "      <td>4</td>\n",
       "      <td>4</td>\n",
       "      <td>tangram</td>\n",
       "      <td>cell_type</td>\n",
       "      <td>/vol/storage/data/cellxgene/human_cardiac_nich...</td>\n",
       "      <td>/vol/storage/data/simulations/Heart_2.h5mu</td>\n",
       "      <td>atac</td>\n",
       "      <td>highly_accessible</td>\n",
       "      <td>Tangram</td>\n",
       "      <td>/vol/storage/data/deconvolution_results/tangram/</td>\n",
       "      <td>...</td>\n",
       "      <td>/vol/storage/data/deconvolution_results/tangra...</td>\n",
       "      <td>Heart_2</td>\n",
       "      <td>atac</td>\n",
       "      <td>highly_accessible</td>\n",
       "      <td>NaN</td>\n",
       "      <td>NaN</td>\n",
       "      <td>NaN</td>\n",
       "      <td>NaN</td>\n",
       "      <td>0.603186</td>\n",
       "      <td>0.119302</td>\n",
       "    </tr>\n",
       "    <tr>\n",
       "      <th>4</th>\n",
       "      <td>5</td>\n",
       "      <td>5</td>\n",
       "      <td>tangram</td>\n",
       "      <td>cell_type</td>\n",
       "      <td>/vol/storage/data/cellxgene/human_cardiac_nich...</td>\n",
       "      <td>/vol/storage/data/simulations/Heart_3.h5mu</td>\n",
       "      <td>atac</td>\n",
       "      <td>highly_variable</td>\n",
       "      <td>Tangram</td>\n",
       "      <td>/vol/storage/data/deconvolution_results/tangram/</td>\n",
       "      <td>...</td>\n",
       "      <td>/vol/storage/data/deconvolution_results/tangra...</td>\n",
       "      <td>Heart_3</td>\n",
       "      <td>atac</td>\n",
       "      <td>highly_variable</td>\n",
       "      <td>NaN</td>\n",
       "      <td>NaN</td>\n",
       "      <td>NaN</td>\n",
       "      <td>NaN</td>\n",
       "      <td>0.628832</td>\n",
       "      <td>0.139311</td>\n",
       "    </tr>\n",
       "  </tbody>\n",
       "</table>\n",
       "<p>5 rows × 21 columns</p>\n",
       "</div>"
      ],
      "text/plain": [
       "   _id  config.overwrite config.db_collection config.data.labels_key  \\\n",
       "0    1                 1              tangram              cell_type   \n",
       "1    2                 2              tangram              cell_type   \n",
       "2    3                 3              tangram              cell_type   \n",
       "3    4                 4              tangram              cell_type   \n",
       "4    5                 5              tangram              cell_type   \n",
       "\n",
       "                    config.data.mdata_reference_path  \\\n",
       "0  /vol/storage/data/cellxgene/human_cardiac_nich...   \n",
       "1  /vol/storage/data/cellxgene/human_cardiac_nich...   \n",
       "2  /vol/storage/data/cellxgene/human_cardiac_nich...   \n",
       "3  /vol/storage/data/cellxgene/human_cardiac_nich...   \n",
       "4  /vol/storage/data/cellxgene/human_cardiac_nich...   \n",
       "\n",
       "               config.data.mdata_spatial_path config.data.modality  \\\n",
       "0  /vol/storage/data/simulations/Heart_1.h5mu                 atac   \n",
       "1  /vol/storage/data/simulations/Heart_1.h5mu                 atac   \n",
       "2  /vol/storage/data/simulations/Heart_2.h5mu                 atac   \n",
       "3  /vol/storage/data/simulations/Heart_2.h5mu                 atac   \n",
       "4  /vol/storage/data/simulations/Heart_3.h5mu                 atac   \n",
       "\n",
       "  config.data.var_HVF_column config.method.method_id  \\\n",
       "0            highly_variable                 Tangram   \n",
       "1          highly_accessible                 Tangram   \n",
       "2            highly_variable                 Tangram   \n",
       "3          highly_accessible                 Tangram   \n",
       "4            highly_variable                 Tangram   \n",
       "\n",
       "                           config.model.output_path  ...  \\\n",
       "0  /vol/storage/data/deconvolution_results/tangram/  ...   \n",
       "1  /vol/storage/data/deconvolution_results/tangram/  ...   \n",
       "2  /vol/storage/data/deconvolution_results/tangram/  ...   \n",
       "3  /vol/storage/data/deconvolution_results/tangram/  ...   \n",
       "4  /vol/storage/data/deconvolution_results/tangram/  ...   \n",
       "\n",
       "                                  result.result_path result.dataset  \\\n",
       "0  /vol/storage/data/deconvolution_results/tangra...        Heart_1   \n",
       "1  /vol/storage/data/deconvolution_results/tangra...        Heart_1   \n",
       "2  /vol/storage/data/deconvolution_results/tangra...        Heart_2   \n",
       "3  /vol/storage/data/deconvolution_results/tangra...        Heart_2   \n",
       "4  /vol/storage/data/deconvolution_results/tangra...        Heart_3   \n",
       "\n",
       "  result.modality result.var_HVF_column config.model.r_lib_path  \\\n",
       "0            atac       highly_variable                     NaN   \n",
       "1            atac     highly_accessible                     NaN   \n",
       "2            atac       highly_variable                     NaN   \n",
       "3            atac     highly_accessible                     NaN   \n",
       "4            atac       highly_variable                     NaN   \n",
       "\n",
       "  config.data.cluster_column config.data.layer config.model.n_cell       jsd  \\\n",
       "0                        NaN               NaN                 NaN  0.925091   \n",
       "1                        NaN               NaN                 NaN  0.926100   \n",
       "2                        NaN               NaN                 NaN  0.597795   \n",
       "3                        NaN               NaN                 NaN  0.603186   \n",
       "4                        NaN               NaN                 NaN  0.628832   \n",
       "\n",
       "       rmse  \n",
       "0  0.228976  \n",
       "1  0.229473  \n",
       "2  0.117293  \n",
       "3  0.119302  \n",
       "4  0.139311  \n",
       "\n",
       "[5 rows x 21 columns]"
      ]
     },
     "execution_count": 91,
     "metadata": {},
     "output_type": "execute_result"
    }
   ],
   "source": [
    "df.head()"
   ]
  },
  {
   "cell_type": "code",
   "execution_count": 97,
   "metadata": {},
   "outputs": [
    {
     "data": {
      "text/plain": [
       "config.method.method_id\n",
       "DestVI         23\n",
       "Tangram        20\n",
       "SpatialDWLS     6\n",
       "RCTD            3\n",
       "Name: count, dtype: int64"
      ]
     },
     "execution_count": 97,
     "metadata": {},
     "output_type": "execute_result"
    }
   ],
   "source": [
    "df['config.method.method_id'].value_counts()"
   ]
  },
  {
   "cell_type": "code",
   "execution_count": 96,
   "metadata": {},
   "outputs": [
    {
     "data": {
      "text/plain": [
       "<Axes: xlabel='config.method.method_id', ylabel='jsd'>"
      ]
     },
     "execution_count": 96,
     "metadata": {},
     "output_type": "execute_result"
    },
    {
     "data": {
      "image/png": "[encoded data removed]",
      "text/plain": [
       "<Figure size 640x480 with 1 Axes>"
      ]
     },
     "metadata": {},
     "output_type": "display_data"
    }
   ],
   "source": [
    "sns.boxplot(data=df.reset_index(), x=\"config.method.method_id\", y=\"jsd\", hue=\"config.data.modality\")"
   ]
  },
  {
   "cell_type": "code",
   "execution_count": 95,
   "metadata": {},
   "outputs": [
    {
     "data": {
      "text/plain": [
       "<Axes: xlabel='config.method.method_id', ylabel='rmse'>"
      ]
     },
     "execution_count": 95,
     "metadata": {},
     "output_type": "execute_result"
    },
    {
     "data": {
      "image/png": "[encoded data removed]",
      "text/plain": [
       "<Figure size 640x480 with 1 Axes>"
      ]
     },
     "metadata": {},
     "output_type": "display_data"
    }
   ],
   "source": [
    "sns.boxplot(data=df.reset_index(), x=\"config.method.method_id\", y=\"rmse\", hue='config.data.modality')"
   ]
  },
  {
   "cell_type": "code",
   "execution_count": null,
   "metadata": {},
   "outputs": [],
   "source": []
  }
 ],
 "metadata": {
  "kernelspec": {
   "display_name": "atac2space",
   "language": "python",
   "name": "python3"
  },
  "language_info": {
   "codemirror_mode": {
    "name": "ipython",
    "version": 3
   },
   "file_extension": ".py",
   "mimetype": "text/x-python",
   "name": "python",
   "nbconvert_exporter": "python",
   "pygments_lexer": "ipython3",
   "version": "3.9.18"
  }
 },
 "nbformat": 4,
 "nbformat_minor": 2
}
