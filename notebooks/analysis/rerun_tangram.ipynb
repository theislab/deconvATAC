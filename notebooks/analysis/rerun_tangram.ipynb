{
 "cells": [
  {
   "cell_type": "code",
   "execution_count": 53,
   "metadata": {},
   "outputs": [],
   "source": [
    "import mudata as mu\n",
    "from deconvatac.tl import tangram\n",
    "import pandas as pd\n",
    "import numpy as np\n",
    "\n",
    "class ExperimentWrapper:\n",
    "    \"\"\"\n",
    "    A simple wrapper around a sacred experiment, making use of sacred's captured functions with prefixes.\n",
    "    This allows a modular design of the configuration, where certain sub-dictionaries (e.g., \"data\") are parsed by\n",
    "    specific method. This avoids having one large \"main\" function which takes all parameters as input.\n",
    "    \"\"\"\n",
    "\n",
    "    def __init__(self, init_all=True):\n",
    "        if init_all:\n",
    "            self.init_all()\n",
    "\n",
    "    def init_dataset(self, mdata_spatial_path, mdata_reference_path, var_HVF_column, labels_key, modality):\n",
    "\n",
    "        self.spatial_path = mdata_spatial_path\n",
    "        self.adata_spatial = mu.read_h5mu(mdata_spatial_path).mod[modality]\n",
    "        self.adata_reference = mu.read_h5mu(mdata_reference_path).mod[modality]\n",
    "        # subset on HVFs\n",
    "        self.adata_spatial = self.adata_spatial[:, self.adata_reference.var[var_HVF_column]]\n",
    "        self.adata_reference = self.adata_reference[:, self.adata_reference.var[var_HVF_column]]\n",
    "\n",
    "        self.modality = modality\n",
    "        self.labels_key = labels_key\n",
    "        self.var_HVF_column = var_HVF_column\n",
    "\n",
    "    def init_method(self, method_id):\n",
    "        self.method_id = method_id\n",
    "\n",
    "    def init_all(self):\n",
    "        self.init_dataset()\n",
    "        self.init_method()\n",
    "\n",
    "    def run(self, output_path):\n",
    "\n",
    "        dataset = self.spatial_path.split(\"/\")[-1].split(\".\")[0]\n",
    "        dataset_var_column = dataset + \"_\" + self.var_HVF_column\n",
    "        output_path = output_path + self.modality + \"/\" + dataset_var_column\n",
    "\n",
    "        tangram(\n",
    "            adata_spatial=self.adata_spatial,\n",
    "            adata_ref=self.adata_reference,\n",
    "            labels_key=self.labels_key,\n",
    "            run_rank_genes=False,\n",
    "            result_path=output_path,\n",
    "            device=\"cuda:0\",\n",
    "            num_epochs=1000,\n",
    "        )\n",
    "\n",
    "        results = {\n",
    "            \"result_path\": output_path + \"/tangram_ct_pred.csv\",\n",
    "            \"dataset\": dataset,\n",
    "            \"modality\": self.modality,\n",
    "            \"var_HVF_column\": self.var_HVF_column,\n",
    "        }\n",
    "        return results"
   ]
  },
  {
   "cell_type": "code",
   "execution_count": 24,
   "metadata": {},
   "outputs": [
    {
     "name": "stdout",
     "output_type": "stream",
     "text": [
      "/vol/storage/martensl/deconvATAC/notebooks/analysis\n"
     ]
    }
   ],
   "source": [
    "! pwd"
   ]
  },
  {
   "cell_type": "code",
   "execution_count": 54,
   "metadata": {},
   "outputs": [
    {
     "data": {
      "text/plain": [
       "<function deconvatac.tl.tangram.tangram(adata_spatial, adata_ref, labels_key, run_rank_genes=False, layer_rank_genes=None, num_epochs=1000, device='cpu', return_adatas=False, result_path='./tangram_results', **kwargs)>"
      ]
     },
     "execution_count": 54,
     "metadata": {},
     "output_type": "execute_result"
    }
   ],
   "source": [
    "tangram"
   ]
  },
  {
   "cell_type": "code",
   "execution_count": 55,
   "metadata": {},
   "outputs": [],
   "source": [
    "ex = ExperimentWrapper(init_all=False)"
   ]
  },
  {
   "cell_type": "markdown",
   "metadata": {},
   "source": [
    "## Create new reference\n"
   ]
  },
  {
   "cell_type": "code",
   "execution_count": 42,
   "metadata": {},
   "outputs": [],
   "source": [
    "\n",
    "sample_cells = pd.read_parquet(\"/vol/storage/data/simulations/test/Heart_1.pq\")\n"
   ]
  },
  {
   "cell_type": "code",
   "execution_count": 61,
   "metadata": {},
   "outputs": [],
   "source": [
    "ref = mu.read_h5mu(\"/vol/storage/data/cellxgene/human_cardiac_niches/human_cardiac_niches.h5mu\")"
   ]
  },
  {
   "cell_type": "code",
   "execution_count": 62,
   "metadata": {},
   "outputs": [],
   "source": [
    "cell_ids = np.concatenate(sample_cells['cell_id'].values)"
   ]
  },
  {
   "cell_type": "code",
   "execution_count": 66,
   "metadata": {},
   "outputs": [
    {
     "data": {
      "text/plain": [
       "(4311,)"
      ]
     },
     "execution_count": 66,
     "metadata": {},
     "output_type": "execute_result"
    }
   ],
   "source": [
    "cell_ids.shape"
   ]
  },
  {
   "cell_type": "code",
   "execution_count": 63,
   "metadata": {},
   "outputs": [
    {
     "name": "stderr",
     "output_type": "stream",
     "text": [
      "/vol/storage/miniconda3/envs/cell2loc_env/lib/python3.9/site-packages/anndata/_core/anndata.py:1113: FutureWarning: is_categorical_dtype is deprecated and will be removed in a future version. Use isinstance(dtype, CategoricalDtype) instead\n",
      "  if not is_categorical_dtype(df_full[k]):\n"
     ]
    }
   ],
   "source": [
    "ref = ref[np.unique(cell_ids)]"
   ]
  },
  {
   "cell_type": "code",
   "execution_count": 67,
   "metadata": {},
   "outputs": [
    {
     "data": {
      "text/html": [
       "<pre>View of MuData object with n_obs × n_vars = 1665 × 462560\n",
       "  var:\t&#x27;highly_variable&#x27;\n",
       "  2 modalities\n",
       "    atac:\t1665 x 429828\n",
       "      obs:\t&#x27;sangerID&#x27;, &#x27;combinedID&#x27;, &#x27;donor&#x27;, &#x27;donor_type&#x27;, &#x27;region&#x27;, &#x27;region_finest&#x27;, &#x27;age&#x27;, &#x27;gender&#x27;, &#x27;facility&#x27;, &#x27;cell_or_nuclei&#x27;, &#x27;modality&#x27;, &#x27;kit_10x&#x27;, &#x27;flushed&#x27;, &#x27;batch_key&#x27;, &#x27;cell_type&#x27;, &#x27;cell_state&#x27;\n",
       "      var:\t&#x27;highly_variable&#x27;, &#x27;highly_accessible&#x27;\n",
       "      uns:\t&#x27;log1p&#x27;\n",
       "      layers:\t&#x27;log_norm&#x27;, &#x27;tfidf_normalized&#x27;\n",
       "    rna:\t1665 x 32732\n",
       "      obs:\t&#x27;sangerID&#x27;, &#x27;combinedID&#x27;, &#x27;donor&#x27;, &#x27;donor_type&#x27;, &#x27;region&#x27;, &#x27;region_finest&#x27;, &#x27;age&#x27;, &#x27;gender&#x27;, &#x27;facility&#x27;, &#x27;cell_or_nuclei&#x27;, &#x27;modality&#x27;, &#x27;kit_10x&#x27;, &#x27;flushed&#x27;, &#x27;n_genes&#x27;, &#x27;n_genes_by_counts&#x27;, &#x27;total_counts&#x27;, &#x27;total_counts_mt&#x27;, &#x27;pct_counts_mt&#x27;, &#x27;total_counts_ribo&#x27;, &#x27;pct_counts_ribo&#x27;, &#x27;scrublet_score&#x27;, &#x27;scrublet_leiden&#x27;, &#x27;cluster_scrublet_score&#x27;, &#x27;doublet_pval&#x27;, &#x27;doublet_bh_pval&#x27;, &#x27;batch_key&#x27;, &#x27;leiden_scVI&#x27;, &#x27;cell_type&#x27;, &#x27;cell_state_HCAv1&#x27;, &#x27;cell_state_scNym&#x27;, &#x27;cell_state_scNym_confidence&#x27;, &#x27;cell_state&#x27;, &#x27;latent_RT_efficiency&#x27;, &#x27;latent_cell_probability&#x27;, &#x27;latent_scale&#x27;, &#x27;n_counts&#x27;, &#x27;_scvi_batch&#x27;, &#x27;_scvi_labels&#x27;, &#x27;clus20&#x27;, &#x27;doublet_cls&#x27;, &#x27;original_or_new&#x27;, &#x27;batch&#x27;, &#x27;scANVI_predictions&#x27;, &#x27;leiden_scArches&#x27;\n",
       "      var:\t&#x27;gene_name-new&#x27;, &#x27;gene_name_scRNA-0-original&#x27;, &#x27;gene_name_snRNA-1-original&#x27;, &#x27;gene_name_multiome-2-original&#x27;, &#x27;highly_variable&#x27;, &#x27;means&#x27;, &#x27;dispersions&#x27;, &#x27;dispersions_norm&#x27;\n",
       "      uns:\t&#x27;age_colors&#x27;, &#x27;cell_or_nuclei_colors&#x27;, &#x27;cell_state_colors&#x27;, &#x27;cell_type_colors&#x27;, &#x27;donor_colors&#x27;, &#x27;donor_type_colors&#x27;, &#x27;facility_colors&#x27;, &#x27;flushed_colors&#x27;, &#x27;gender_colors&#x27;, &#x27;hvg&#x27;, &#x27;kit_10x_colors&#x27;, &#x27;leiden&#x27;, &#x27;log1p&#x27;, &#x27;modality_colors&#x27;, &#x27;neighbors&#x27;, &#x27;original_or_new_colors&#x27;, &#x27;region_colors&#x27;, &#x27;region_finest_colors&#x27;, &#x27;scANVI_predictions_colors&#x27;, &#x27;umap&#x27;\n",
       "      obsm:\t&#x27;X_scArches&#x27;, &#x27;X_umap&#x27;\n",
       "      layers:\t&#x27;log_norm&#x27;\n",
       "      obsp:\t&#x27;connectivities&#x27;, &#x27;distances&#x27;</pre>"
      ],
      "text/plain": [
       "View of MuData object with n_obs × n_vars = 1665 × 462560\n",
       "  var:\t'highly_variable'\n",
       "  2 modalities\n",
       "    atac:\t1665 x 429828\n",
       "      obs:\t'sangerID', 'combinedID', 'donor', 'donor_type', 'region', 'region_finest', 'age', 'gender', 'facility', 'cell_or_nuclei', 'modality', 'kit_10x', 'flushed', 'batch_key', 'cell_type', 'cell_state'\n",
       "      var:\t'highly_variable', 'highly_accessible'\n",
       "      uns:\t'log1p'\n",
       "      layers:\t'log_norm', 'tfidf_normalized'\n",
       "    rna:\t1665 x 32732\n",
       "      obs:\t'sangerID', 'combinedID', 'donor', 'donor_type', 'region', 'region_finest', 'age', 'gender', 'facility', 'cell_or_nuclei', 'modality', 'kit_10x', 'flushed', 'n_genes', 'n_genes_by_counts', 'total_counts', 'total_counts_mt', 'pct_counts_mt', 'total_counts_ribo', 'pct_counts_ribo', 'scrublet_score', 'scrublet_leiden', 'cluster_scrublet_score', 'doublet_pval', 'doublet_bh_pval', 'batch_key', 'leiden_scVI', 'cell_type', 'cell_state_HCAv1', 'cell_state_scNym', 'cell_state_scNym_confidence', 'cell_state', 'latent_RT_efficiency', 'latent_cell_probability', 'latent_scale', 'n_counts', '_scvi_batch', '_scvi_labels', 'clus20', 'doublet_cls', 'original_or_new', 'batch', 'scANVI_predictions', 'leiden_scArches'\n",
       "      var:\t'gene_name-new', 'gene_name_scRNA-0-original', 'gene_name_snRNA-1-original', 'gene_name_multiome-2-original', 'highly_variable', 'means', 'dispersions', 'dispersions_norm'\n",
       "      uns:\t'age_colors', 'cell_or_nuclei_colors', 'cell_state_colors', 'cell_type_colors', 'donor_colors', 'donor_type_colors', 'facility_colors', 'flushed_colors', 'gender_colors', 'hvg', 'kit_10x_colors', 'leiden', 'log1p', 'modality_colors', 'neighbors', 'original_or_new_colors', 'region_colors', 'region_finest_colors', 'scANVI_predictions_colors', 'umap'\n",
       "      obsm:\t'X_scArches', 'X_umap'\n",
       "      layers:\t'log_norm'\n",
       "      obsp:\t'connectivities', 'distances'"
      ]
     },
     "execution_count": 67,
     "metadata": {},
     "output_type": "execute_result"
    }
   ],
   "source": [
    "ref"
   ]
  },
  {
   "cell_type": "code",
   "execution_count": 68,
   "metadata": {},
   "outputs": [],
   "source": [
    "ref.write(\"/vol/storage/data/simulations/test/Heart1_ref.h5mu\")"
   ]
  },
  {
   "cell_type": "code",
   "execution_count": 71,
   "metadata": {},
   "outputs": [],
   "source": [
    "method_id =  \"Tangram\"\n",
    "output_path =  \"/vol/storage/data/deconvolution_results/test/\"\n",
    "\n",
    "\n",
    "# mdata_reference_path = \"/vol/storage/data/cellxgene/human_cardiac_niches/human_cardiac_niches.h5mu\"\n",
    "mdata_reference_path = \"/vol/storage/data/simulations/test/Heart1_ref.h5mu\"\n",
    "labels_key = \"cell_type\"\n",
    "\n",
    "mdata_spatial_path = \"/vol/storage/data/simulations/test/Heart_1.h5mu\"\n",
    "\n",
    "modality = \"atac\"\n",
    "var_HVF_column = \"highly_variable\""
   ]
  },
  {
   "cell_type": "code",
   "execution_count": 70,
   "metadata": {},
   "outputs": [
    {
     "name": "stderr",
     "output_type": "stream",
     "text": [
      "/vol/storage/miniconda3/envs/cell2loc_env/lib/python3.9/site-packages/anndata/_core/anndata.py:1113: FutureWarning: is_categorical_dtype is deprecated and will be removed in a future version. Use isinstance(dtype, CategoricalDtype) instead\n",
      "  if not is_categorical_dtype(df_full[k]):\n"
     ]
    }
   ],
   "source": [
    "ex.init_dataset(mdata_spatial_path, mdata_reference_path, var_HVF_column, labels_key, modality)\n",
    "ex.init_method(method_id)"
   ]
  },
  {
   "cell_type": "code",
   "execution_count": 73,
   "metadata": {},
   "outputs": [
    {
     "name": "stderr",
     "output_type": "stream",
     "text": [
      "INFO:root:19988 training genes are saved in `uns``training_genes` of both single cell and spatial Anndatas.\n",
      "INFO:root:19988 overlapped genes are saved in `uns``overlap_genes` of both single cell and spatial Anndatas.\n",
      "INFO:root:uniform based density prior is calculated and saved in `obs``uniform_density` of the spatial Anndata.\n",
      "INFO:root:rna count based density prior is calculated and saved in `obs``rna_count_based_density` of the spatial Anndata.\n",
      "INFO:root:Allocate tensors for mapping.\n"
     ]
    },
    {
     "name": "stdout",
     "output_type": "stream",
     "text": [
      "1000\n"
     ]
    },
    {
     "name": "stderr",
     "output_type": "stream",
     "text": [
      "INFO:root:Begin training with 19988 genes and rna_count_based density_prior in cells mode...\n",
      "INFO:root:Printing scores every 100 epochs.\n"
     ]
    },
    {
     "name": "stdout",
     "output_type": "stream",
     "text": [
      "Score: 0.404, KL reg: 0.110\n",
      "Score: 0.875, KL reg: 0.000\n",
      "Score: 0.878, KL reg: 0.000\n",
      "Score: 0.879, KL reg: 0.000\n",
      "Score: 0.879, KL reg: 0.000\n",
      "Score: 0.880, KL reg: 0.000\n",
      "Score: 0.880, KL reg: 0.000\n",
      "Score: 0.880, KL reg: 0.000\n",
      "Score: 0.880, KL reg: 0.000\n",
      "Score: 0.880, KL reg: 0.000\n"
     ]
    },
    {
     "name": "stderr",
     "output_type": "stream",
     "text": [
      "INFO:root:Saving results..\n",
      "INFO:root:spatial prediction dataframe is saved in `obsm` `tangram_ct_pred` of the spatial AnnData.\n"
     ]
    },
    {
     "data": {
      "text/plain": [
       "{'result_path': '/vol/storage/data/deconvolution_results/test/atac/Heart_1_highly_variable/tangram_ct_pred.csv',\n",
       " 'dataset': 'Heart_1',\n",
       " 'modality': 'atac',\n",
       " 'var_HVF_column': 'highly_variable'}"
      ]
     },
     "execution_count": 73,
     "metadata": {},
     "output_type": "execute_result"
    }
   ],
   "source": [
    "ex.run(output_path)"
   ]
  },
  {
   "cell_type": "code",
   "execution_count": null,
   "metadata": {},
   "outputs": [],
   "source": []
  },
  {
   "cell_type": "code",
   "execution_count": 8,
   "metadata": {},
   "outputs": [
    {
     "data": {
      "text/plain": [
       "5"
      ]
     },
     "execution_count": 8,
     "metadata": {},
     "output_type": "execute_result"
    }
   ],
   "source": [
    "5"
   ]
  },
  {
   "cell_type": "code",
   "execution_count": 7,
   "metadata": {},
   "outputs": [
    {
     "data": {
      "text/plain": [
       "5"
      ]
     },
     "execution_count": 7,
     "metadata": {},
     "output_type": "execute_result"
    }
   ],
   "source": [
    "5\n"
   ]
  },
  {
   "cell_type": "code",
   "execution_count": 25,
   "metadata": {},
   "outputs": [],
   "source": [
    "new = pd.read_csv(\"/vol/storage/data/deconvolution_results/tangram/atac/russell_250_highly_accessible/tangram_ct_pred.csv\", index_col=0)"
   ]
  },
  {
   "cell_type": "markdown",
   "metadata": {},
   "source": [
    "## Evaluate the results"
   ]
  },
  {
   "cell_type": "code",
   "execution_count": 74,
   "metadata": {},
   "outputs": [],
   "source": [
    "import seml\n",
    "import pandas as pd\n",
    "import glob\n",
    "import mudata as mu\n",
    "import deconvatac as de\n",
    "import seaborn as sns\n",
    "import tqdm\n",
    "import os"
   ]
  },
  {
   "cell_type": "code",
   "execution_count": 75,
   "metadata": {},
   "outputs": [],
   "source": [
    "def get_proportions(adata):\n",
    "    df = pd.DataFrame(adata.obsm[\"proportions\"], columns=adata.uns[\"proportion_names\"], index=adata.obs_names)\n",
    "    return df"
   ]
  },
  {
   "cell_type": "code",
   "execution_count": 76,
   "metadata": {},
   "outputs": [],
   "source": [
    "data_path = \"/vol/storage/data/deconvolution_results\""
   ]
  },
  {
   "cell_type": "code",
   "execution_count": 77,
   "metadata": {},
   "outputs": [],
   "source": [
    "methods = [\"tangram\"]  # cell2location, moscot\n",
    "modalities = [\"atac\"]"
   ]
  },
  {
   "cell_type": "code",
   "execution_count": 124,
   "metadata": {},
   "outputs": [],
   "source": [
    "# go over all methods and modalities\n",
    "df = [pd.DataFrame({'path': glob.glob(os.path.join(data_path, method, modality, \"*\", \"*\"))}) for method in methods for modality in modalities]"
   ]
  },
  {
   "cell_type": "code",
   "execution_count": 125,
   "metadata": {},
   "outputs": [],
   "source": [
    "df = pd.concat(df)"
   ]
  },
  {
   "cell_type": "code",
   "execution_count": 126,
   "metadata": {},
   "outputs": [
    {
     "data": {
      "text/html": [
       "<div>\n",
       "<style scoped>\n",
       "    .dataframe tbody tr th:only-of-type {\n",
       "        vertical-align: middle;\n",
       "    }\n",
       "\n",
       "    .dataframe tbody tr th {\n",
       "        vertical-align: top;\n",
       "    }\n",
       "\n",
       "    .dataframe thead th {\n",
       "        text-align: right;\n",
       "    }\n",
       "</style>\n",
       "<table border=\"1\" class=\"dataframe\">\n",
       "  <thead>\n",
       "    <tr style=\"text-align: right;\">\n",
       "      <th></th>\n",
       "      <th>path</th>\n",
       "    </tr>\n",
       "  </thead>\n",
       "  <tbody>\n",
       "    <tr>\n",
       "      <th>0</th>\n",
       "      <td>/vol/storage/data/deconvolution_results/tangra...</td>\n",
       "    </tr>\n",
       "    <tr>\n",
       "      <th>1</th>\n",
       "      <td>/vol/storage/data/deconvolution_results/tangra...</td>\n",
       "    </tr>\n",
       "    <tr>\n",
       "      <th>2</th>\n",
       "      <td>/vol/storage/data/deconvolution_results/tangra...</td>\n",
       "    </tr>\n",
       "    <tr>\n",
       "      <th>3</th>\n",
       "      <td>/vol/storage/data/deconvolution_results/tangra...</td>\n",
       "    </tr>\n",
       "    <tr>\n",
       "      <th>4</th>\n",
       "      <td>/vol/storage/data/deconvolution_results/tangra...</td>\n",
       "    </tr>\n",
       "    <tr>\n",
       "      <th>5</th>\n",
       "      <td>/vol/storage/data/deconvolution_results/tangra...</td>\n",
       "    </tr>\n",
       "    <tr>\n",
       "      <th>6</th>\n",
       "      <td>/vol/storage/data/deconvolution_results/tangra...</td>\n",
       "    </tr>\n",
       "    <tr>\n",
       "      <th>7</th>\n",
       "      <td>/vol/storage/data/deconvolution_results/tangra...</td>\n",
       "    </tr>\n",
       "    <tr>\n",
       "      <th>8</th>\n",
       "      <td>/vol/storage/data/deconvolution_results/tangra...</td>\n",
       "    </tr>\n",
       "    <tr>\n",
       "      <th>9</th>\n",
       "      <td>/vol/storage/data/deconvolution_results/tangra...</td>\n",
       "    </tr>\n",
       "    <tr>\n",
       "      <th>10</th>\n",
       "      <td>/vol/storage/data/deconvolution_results/tangra...</td>\n",
       "    </tr>\n",
       "    <tr>\n",
       "      <th>11</th>\n",
       "      <td>/vol/storage/data/deconvolution_results/tangra...</td>\n",
       "    </tr>\n",
       "    <tr>\n",
       "      <th>12</th>\n",
       "      <td>/vol/storage/data/deconvolution_results/tangra...</td>\n",
       "    </tr>\n",
       "    <tr>\n",
       "      <th>13</th>\n",
       "      <td>/vol/storage/data/deconvolution_results/tangra...</td>\n",
       "    </tr>\n",
       "    <tr>\n",
       "      <th>14</th>\n",
       "      <td>/vol/storage/data/deconvolution_results/tangra...</td>\n",
       "    </tr>\n",
       "    <tr>\n",
       "      <th>15</th>\n",
       "      <td>/vol/storage/data/deconvolution_results/tangra...</td>\n",
       "    </tr>\n",
       "    <tr>\n",
       "      <th>16</th>\n",
       "      <td>/vol/storage/data/deconvolution_results/tangra...</td>\n",
       "    </tr>\n",
       "    <tr>\n",
       "      <th>17</th>\n",
       "      <td>/vol/storage/data/deconvolution_results/tangra...</td>\n",
       "    </tr>\n",
       "    <tr>\n",
       "      <th>18</th>\n",
       "      <td>/vol/storage/data/deconvolution_results/tangra...</td>\n",
       "    </tr>\n",
       "  </tbody>\n",
       "</table>\n",
       "</div>"
      ],
      "text/plain": [
       "                                                 path\n",
       "0   /vol/storage/data/deconvolution_results/tangra...\n",
       "1   /vol/storage/data/deconvolution_results/tangra...\n",
       "2   /vol/storage/data/deconvolution_results/tangra...\n",
       "3   /vol/storage/data/deconvolution_results/tangra...\n",
       "4   /vol/storage/data/deconvolution_results/tangra...\n",
       "5   /vol/storage/data/deconvolution_results/tangra...\n",
       "6   /vol/storage/data/deconvolution_results/tangra...\n",
       "7   /vol/storage/data/deconvolution_results/tangra...\n",
       "8   /vol/storage/data/deconvolution_results/tangra...\n",
       "9   /vol/storage/data/deconvolution_results/tangra...\n",
       "10  /vol/storage/data/deconvolution_results/tangra...\n",
       "11  /vol/storage/data/deconvolution_results/tangra...\n",
       "12  /vol/storage/data/deconvolution_results/tangra...\n",
       "13  /vol/storage/data/deconvolution_results/tangra...\n",
       "14  /vol/storage/data/deconvolution_results/tangra...\n",
       "15  /vol/storage/data/deconvolution_results/tangra...\n",
       "16  /vol/storage/data/deconvolution_results/tangra...\n",
       "17  /vol/storage/data/deconvolution_results/tangra...\n",
       "18  /vol/storage/data/deconvolution_results/tangra..."
      ]
     },
     "execution_count": 126,
     "metadata": {},
     "output_type": "execute_result"
    }
   ],
   "source": [
    "df"
   ]
  },
  {
   "cell_type": "code",
   "execution_count": 127,
   "metadata": {},
   "outputs": [],
   "source": [
    "df[['method', 'modality', 'dataset_features']] = df['path'].str.split('/', expand=True).iloc[:, 5:-1]"
   ]
  },
  {
   "cell_type": "code",
   "execution_count": 128,
   "metadata": {},
   "outputs": [],
   "source": [
    "df['dataset'] = df['dataset_features'].str.rsplit(\"_\", n=2).str[0]\n",
    "df[\"features\"] = df[\"dataset_features\"].str.split(\"_\", n=2).str[-1]"
   ]
  },
  {
   "cell_type": "code",
   "execution_count": 129,
   "metadata": {},
   "outputs": [
    {
     "data": {
      "text/html": [
       "<div>\n",
       "<style scoped>\n",
       "    .dataframe tbody tr th:only-of-type {\n",
       "        vertical-align: middle;\n",
       "    }\n",
       "\n",
       "    .dataframe tbody tr th {\n",
       "        vertical-align: top;\n",
       "    }\n",
       "\n",
       "    .dataframe thead th {\n",
       "        text-align: right;\n",
       "    }\n",
       "</style>\n",
       "<table border=\"1\" class=\"dataframe\">\n",
       "  <thead>\n",
       "    <tr style=\"text-align: right;\">\n",
       "      <th></th>\n",
       "      <th>path</th>\n",
       "      <th>method</th>\n",
       "      <th>modality</th>\n",
       "      <th>dataset_features</th>\n",
       "      <th>dataset</th>\n",
       "      <th>features</th>\n",
       "    </tr>\n",
       "  </thead>\n",
       "  <tbody>\n",
       "    <tr>\n",
       "      <th>0</th>\n",
       "      <td>/vol/storage/data/deconvolution_results/tangra...</td>\n",
       "      <td>tangram</td>\n",
       "      <td>atac</td>\n",
       "      <td>Brain_1_highly_accessible</td>\n",
       "      <td>Brain_1</td>\n",
       "      <td>highly_accessible</td>\n",
       "    </tr>\n",
       "    <tr>\n",
       "      <th>1</th>\n",
       "      <td>/vol/storage/data/deconvolution_results/tangra...</td>\n",
       "      <td>tangram</td>\n",
       "      <td>atac</td>\n",
       "      <td>Heart_3_highly_accessible</td>\n",
       "      <td>Heart_3</td>\n",
       "      <td>highly_accessible</td>\n",
       "    </tr>\n",
       "    <tr>\n",
       "      <th>2</th>\n",
       "      <td>/vol/storage/data/deconvolution_results/tangra...</td>\n",
       "      <td>tangram</td>\n",
       "      <td>atac</td>\n",
       "      <td>russell_250_highly_variable</td>\n",
       "      <td>russell_250</td>\n",
       "      <td>highly_variable</td>\n",
       "    </tr>\n",
       "    <tr>\n",
       "      <th>3</th>\n",
       "      <td>/vol/storage/data/deconvolution_results/tangra...</td>\n",
       "      <td>tangram</td>\n",
       "      <td>atac</td>\n",
       "      <td>Brain_2_highly_variable</td>\n",
       "      <td>Brain_2</td>\n",
       "      <td>highly_variable</td>\n",
       "    </tr>\n",
       "    <tr>\n",
       "      <th>4</th>\n",
       "      <td>/vol/storage/data/deconvolution_results/tangra...</td>\n",
       "      <td>tangram</td>\n",
       "      <td>atac</td>\n",
       "      <td>russell_250_highly_accessible</td>\n",
       "      <td>russell_250</td>\n",
       "      <td>highly_accessible</td>\n",
       "    </tr>\n",
       "    <tr>\n",
       "      <th>5</th>\n",
       "      <td>/vol/storage/data/deconvolution_results/tangra...</td>\n",
       "      <td>tangram</td>\n",
       "      <td>atac</td>\n",
       "      <td>russell_250_highly_accessible</td>\n",
       "      <td>russell_250</td>\n",
       "      <td>highly_accessible</td>\n",
       "    </tr>\n",
       "    <tr>\n",
       "      <th>6</th>\n",
       "      <td>/vol/storage/data/deconvolution_results/tangra...</td>\n",
       "      <td>tangram</td>\n",
       "      <td>atac</td>\n",
       "      <td>Brain_4_highly_accessible</td>\n",
       "      <td>Brain_4</td>\n",
       "      <td>highly_accessible</td>\n",
       "    </tr>\n",
       "    <tr>\n",
       "      <th>7</th>\n",
       "      <td>/vol/storage/data/deconvolution_results/tangra...</td>\n",
       "      <td>tangram</td>\n",
       "      <td>atac</td>\n",
       "      <td>Brain_3_highly_accessible</td>\n",
       "      <td>Brain_3</td>\n",
       "      <td>highly_accessible</td>\n",
       "    </tr>\n",
       "    <tr>\n",
       "      <th>8</th>\n",
       "      <td>/vol/storage/data/deconvolution_results/tangra...</td>\n",
       "      <td>tangram</td>\n",
       "      <td>atac</td>\n",
       "      <td>Brain_1_highly_variable</td>\n",
       "      <td>Brain_1</td>\n",
       "      <td>highly_variable</td>\n",
       "    </tr>\n",
       "    <tr>\n",
       "      <th>9</th>\n",
       "      <td>/vol/storage/data/deconvolution_results/tangra...</td>\n",
       "      <td>tangram</td>\n",
       "      <td>atac</td>\n",
       "      <td>Heart_1_highly_accessible</td>\n",
       "      <td>Heart_1</td>\n",
       "      <td>highly_accessible</td>\n",
       "    </tr>\n",
       "    <tr>\n",
       "      <th>10</th>\n",
       "      <td>/vol/storage/data/deconvolution_results/tangra...</td>\n",
       "      <td>tangram</td>\n",
       "      <td>atac</td>\n",
       "      <td>Brain_3_highly_variable</td>\n",
       "      <td>Brain_3</td>\n",
       "      <td>highly_variable</td>\n",
       "    </tr>\n",
       "    <tr>\n",
       "      <th>11</th>\n",
       "      <td>/vol/storage/data/deconvolution_results/tangra...</td>\n",
       "      <td>tangram</td>\n",
       "      <td>atac</td>\n",
       "      <td>Heart_4_highly_variable</td>\n",
       "      <td>Heart_4</td>\n",
       "      <td>highly_variable</td>\n",
       "    </tr>\n",
       "    <tr>\n",
       "      <th>12</th>\n",
       "      <td>/vol/storage/data/deconvolution_results/tangra...</td>\n",
       "      <td>tangram</td>\n",
       "      <td>atac</td>\n",
       "      <td>Heart_2_highly_accessible</td>\n",
       "      <td>Heart_2</td>\n",
       "      <td>highly_accessible</td>\n",
       "    </tr>\n",
       "    <tr>\n",
       "      <th>13</th>\n",
       "      <td>/vol/storage/data/deconvolution_results/tangra...</td>\n",
       "      <td>tangram</td>\n",
       "      <td>atac</td>\n",
       "      <td>Heart_3_highly_variable</td>\n",
       "      <td>Heart_3</td>\n",
       "      <td>highly_variable</td>\n",
       "    </tr>\n",
       "    <tr>\n",
       "      <th>14</th>\n",
       "      <td>/vol/storage/data/deconvolution_results/tangra...</td>\n",
       "      <td>tangram</td>\n",
       "      <td>atac</td>\n",
       "      <td>Heart_4_highly_accessible</td>\n",
       "      <td>Heart_4</td>\n",
       "      <td>highly_accessible</td>\n",
       "    </tr>\n",
       "    <tr>\n",
       "      <th>15</th>\n",
       "      <td>/vol/storage/data/deconvolution_results/tangra...</td>\n",
       "      <td>tangram</td>\n",
       "      <td>atac</td>\n",
       "      <td>Heart_2_highly_variable</td>\n",
       "      <td>Heart_2</td>\n",
       "      <td>highly_variable</td>\n",
       "    </tr>\n",
       "    <tr>\n",
       "      <th>16</th>\n",
       "      <td>/vol/storage/data/deconvolution_results/tangra...</td>\n",
       "      <td>tangram</td>\n",
       "      <td>atac</td>\n",
       "      <td>Heart_1_highly_variable</td>\n",
       "      <td>Heart_1</td>\n",
       "      <td>highly_variable</td>\n",
       "    </tr>\n",
       "    <tr>\n",
       "      <th>17</th>\n",
       "      <td>/vol/storage/data/deconvolution_results/tangra...</td>\n",
       "      <td>tangram</td>\n",
       "      <td>atac</td>\n",
       "      <td>Brain_4_highly_variable</td>\n",
       "      <td>Brain_4</td>\n",
       "      <td>highly_variable</td>\n",
       "    </tr>\n",
       "    <tr>\n",
       "      <th>18</th>\n",
       "      <td>/vol/storage/data/deconvolution_results/tangra...</td>\n",
       "      <td>tangram</td>\n",
       "      <td>atac</td>\n",
       "      <td>Brain_2_highly_accessible</td>\n",
       "      <td>Brain_2</td>\n",
       "      <td>highly_accessible</td>\n",
       "    </tr>\n",
       "  </tbody>\n",
       "</table>\n",
       "</div>"
      ],
      "text/plain": [
       "                                                 path   method modality  \\\n",
       "0   /vol/storage/data/deconvolution_results/tangra...  tangram     atac   \n",
       "1   /vol/storage/data/deconvolution_results/tangra...  tangram     atac   \n",
       "2   /vol/storage/data/deconvolution_results/tangra...  tangram     atac   \n",
       "3   /vol/storage/data/deconvolution_results/tangra...  tangram     atac   \n",
       "4   /vol/storage/data/deconvolution_results/tangra...  tangram     atac   \n",
       "5   /vol/storage/data/deconvolution_results/tangra...  tangram     atac   \n",
       "6   /vol/storage/data/deconvolution_results/tangra...  tangram     atac   \n",
       "7   /vol/storage/data/deconvolution_results/tangra...  tangram     atac   \n",
       "8   /vol/storage/data/deconvolution_results/tangra...  tangram     atac   \n",
       "9   /vol/storage/data/deconvolution_results/tangra...  tangram     atac   \n",
       "10  /vol/storage/data/deconvolution_results/tangra...  tangram     atac   \n",
       "11  /vol/storage/data/deconvolution_results/tangra...  tangram     atac   \n",
       "12  /vol/storage/data/deconvolution_results/tangra...  tangram     atac   \n",
       "13  /vol/storage/data/deconvolution_results/tangra...  tangram     atac   \n",
       "14  /vol/storage/data/deconvolution_results/tangra...  tangram     atac   \n",
       "15  /vol/storage/data/deconvolution_results/tangra...  tangram     atac   \n",
       "16  /vol/storage/data/deconvolution_results/tangra...  tangram     atac   \n",
       "17  /vol/storage/data/deconvolution_results/tangra...  tangram     atac   \n",
       "18  /vol/storage/data/deconvolution_results/tangra...  tangram     atac   \n",
       "\n",
       "                 dataset_features      dataset           features  \n",
       "0       Brain_1_highly_accessible      Brain_1  highly_accessible  \n",
       "1       Heart_3_highly_accessible      Heart_3  highly_accessible  \n",
       "2     russell_250_highly_variable  russell_250    highly_variable  \n",
       "3         Brain_2_highly_variable      Brain_2    highly_variable  \n",
       "4   russell_250_highly_accessible  russell_250  highly_accessible  \n",
       "5   russell_250_highly_accessible  russell_250  highly_accessible  \n",
       "6       Brain_4_highly_accessible      Brain_4  highly_accessible  \n",
       "7       Brain_3_highly_accessible      Brain_3  highly_accessible  \n",
       "8         Brain_1_highly_variable      Brain_1    highly_variable  \n",
       "9       Heart_1_highly_accessible      Heart_1  highly_accessible  \n",
       "10        Brain_3_highly_variable      Brain_3    highly_variable  \n",
       "11        Heart_4_highly_variable      Heart_4    highly_variable  \n",
       "12      Heart_2_highly_accessible      Heart_2  highly_accessible  \n",
       "13        Heart_3_highly_variable      Heart_3    highly_variable  \n",
       "14      Heart_4_highly_accessible      Heart_4  highly_accessible  \n",
       "15        Heart_2_highly_variable      Heart_2    highly_variable  \n",
       "16        Heart_1_highly_variable      Heart_1    highly_variable  \n",
       "17        Brain_4_highly_variable      Brain_4    highly_variable  \n",
       "18      Brain_2_highly_accessible      Brain_2  highly_accessible  "
      ]
     },
     "execution_count": 129,
     "metadata": {},
     "output_type": "execute_result"
    }
   ],
   "source": [
    "df"
   ]
  },
  {
   "cell_type": "code",
   "execution_count": 146,
   "metadata": {},
   "outputs": [],
   "source": [
    "mapping_dict = {\n",
    "    \"russell_250\": \"/vol/storage/data/simulations/russell_250.h5mu\",\n",
    "    \"Heart_1\": \"/vol/storage/data/simulations/Heart_1.h5mu\",\n",
    "    \"Heart_2\": \"/vol/storage/data/simulations/Heart_2.h5mu\",\n",
    "    \"Heart_3\": \"/vol/storage/data/simulations/Heart_3.h5mu\",\n",
    "    \"Heart_4\": \"/vol/storage/data/simulations/Heart_4.h5mu\",\n",
    "    \"Brain_1\": \"/vol/storage/data/simulations/Brain_1.h5mu\",\n",
    "    \"Brain_2\": \"/vol/storage/data/simulations/Brain_2.h5mu\",\n",
    "    \"Brain_3\": \"/vol/storage/data/simulations/Brain_3.h5mu\",\n",
    "    \"Brain_4\": \"/vol/storage/data/simulations/Brain_4.h5mu\",\n",
    "}"
   ]
  },
  {
   "cell_type": "code",
   "execution_count": 147,
   "metadata": {},
   "outputs": [],
   "source": [
    "df[\"mdata_spatial_path\"] = df['dataset'].map(mapping_dict)"
   ]
  },
  {
   "cell_type": "code",
   "execution_count": 148,
   "metadata": {},
   "outputs": [],
   "source": [
    "df = df.query(\"(dataset == 'russell_250' | dataset == 'Heart_1') \")"
   ]
  },
  {
   "cell_type": "code",
   "execution_count": 149,
   "metadata": {},
   "outputs": [
    {
     "data": {
      "text/html": [
       "<div>\n",
       "<style scoped>\n",
       "    .dataframe tbody tr th:only-of-type {\n",
       "        vertical-align: middle;\n",
       "    }\n",
       "\n",
       "    .dataframe tbody tr th {\n",
       "        vertical-align: top;\n",
       "    }\n",
       "\n",
       "    .dataframe thead th {\n",
       "        text-align: right;\n",
       "    }\n",
       "</style>\n",
       "<table border=\"1\" class=\"dataframe\">\n",
       "  <thead>\n",
       "    <tr style=\"text-align: right;\">\n",
       "      <th></th>\n",
       "      <th>path</th>\n",
       "      <th>method</th>\n",
       "      <th>modality</th>\n",
       "      <th>dataset_features</th>\n",
       "      <th>dataset</th>\n",
       "      <th>features</th>\n",
       "      <th>mdata_spatial_path</th>\n",
       "    </tr>\n",
       "  </thead>\n",
       "  <tbody>\n",
       "    <tr>\n",
       "      <th>2</th>\n",
       "      <td>/vol/storage/data/deconvolution_results/tangra...</td>\n",
       "      <td>tangram</td>\n",
       "      <td>atac</td>\n",
       "      <td>russell_250_highly_variable</td>\n",
       "      <td>russell_250</td>\n",
       "      <td>highly_variable</td>\n",
       "      <td>/vol/storage/data/simulations/russell_250.h5mu</td>\n",
       "    </tr>\n",
       "    <tr>\n",
       "      <th>4</th>\n",
       "      <td>/vol/storage/data/deconvolution_results/tangra...</td>\n",
       "      <td>tangram</td>\n",
       "      <td>atac</td>\n",
       "      <td>russell_250_highly_accessible</td>\n",
       "      <td>russell_250</td>\n",
       "      <td>highly_accessible</td>\n",
       "      <td>/vol/storage/data/simulations/russell_250.h5mu</td>\n",
       "    </tr>\n",
       "    <tr>\n",
       "      <th>5</th>\n",
       "      <td>/vol/storage/data/deconvolution_results/tangra...</td>\n",
       "      <td>tangram</td>\n",
       "      <td>atac</td>\n",
       "      <td>russell_250_highly_accessible</td>\n",
       "      <td>russell_250</td>\n",
       "      <td>highly_accessible</td>\n",
       "      <td>/vol/storage/data/simulations/russell_250.h5mu</td>\n",
       "    </tr>\n",
       "    <tr>\n",
       "      <th>9</th>\n",
       "      <td>/vol/storage/data/deconvolution_results/tangra...</td>\n",
       "      <td>tangram</td>\n",
       "      <td>atac</td>\n",
       "      <td>Heart_1_highly_accessible</td>\n",
       "      <td>Heart_1</td>\n",
       "      <td>highly_accessible</td>\n",
       "      <td>/vol/storage/data/simulations/Heart_1.h5mu</td>\n",
       "    </tr>\n",
       "    <tr>\n",
       "      <th>16</th>\n",
       "      <td>/vol/storage/data/deconvolution_results/tangra...</td>\n",
       "      <td>tangram</td>\n",
       "      <td>atac</td>\n",
       "      <td>Heart_1_highly_variable</td>\n",
       "      <td>Heart_1</td>\n",
       "      <td>highly_variable</td>\n",
       "      <td>/vol/storage/data/simulations/Heart_1.h5mu</td>\n",
       "    </tr>\n",
       "    <tr>\n",
       "      <th>16</th>\n",
       "      <td>/vol/storage/data/deconvolution_results/test/a...</td>\n",
       "      <td>tangram</td>\n",
       "      <td>atac</td>\n",
       "      <td>Heart_1_highly_variable</td>\n",
       "      <td>Heart_1</td>\n",
       "      <td>highly_variable</td>\n",
       "      <td>/vol/storage/data/simulations/Heart_1.h5mu</td>\n",
       "    </tr>\n",
       "  </tbody>\n",
       "</table>\n",
       "</div>"
      ],
      "text/plain": [
       "                                                 path   method modality  \\\n",
       "2   /vol/storage/data/deconvolution_results/tangra...  tangram     atac   \n",
       "4   /vol/storage/data/deconvolution_results/tangra...  tangram     atac   \n",
       "5   /vol/storage/data/deconvolution_results/tangra...  tangram     atac   \n",
       "9   /vol/storage/data/deconvolution_results/tangra...  tangram     atac   \n",
       "16  /vol/storage/data/deconvolution_results/tangra...  tangram     atac   \n",
       "16  /vol/storage/data/deconvolution_results/test/a...  tangram     atac   \n",
       "\n",
       "                 dataset_features      dataset           features  \\\n",
       "2     russell_250_highly_variable  russell_250    highly_variable   \n",
       "4   russell_250_highly_accessible  russell_250  highly_accessible   \n",
       "5   russell_250_highly_accessible  russell_250  highly_accessible   \n",
       "9       Heart_1_highly_accessible      Heart_1  highly_accessible   \n",
       "16        Heart_1_highly_variable      Heart_1    highly_variable   \n",
       "16        Heart_1_highly_variable      Heart_1    highly_variable   \n",
       "\n",
       "                                mdata_spatial_path  \n",
       "2   /vol/storage/data/simulations/russell_250.h5mu  \n",
       "4   /vol/storage/data/simulations/russell_250.h5mu  \n",
       "5   /vol/storage/data/simulations/russell_250.h5mu  \n",
       "9       /vol/storage/data/simulations/Heart_1.h5mu  \n",
       "16      /vol/storage/data/simulations/Heart_1.h5mu  \n",
       "16      /vol/storage/data/simulations/Heart_1.h5mu  "
      ]
     },
     "execution_count": 149,
     "metadata": {},
     "output_type": "execute_result"
    }
   ],
   "source": [
    "df"
   ]
  },
  {
   "cell_type": "code",
   "execution_count": 150,
   "metadata": {},
   "outputs": [],
   "source": [
    "def load_table(path, index_col):\n",
    "    res = pd.read_csv(path, index_col=index_col)\n",
    "    if \"q05cell_abundance_w_sf_\" in res.columns[0]:\n",
    "        res.columns = res.columns.to_series().str.split(\"q05cell_abundance_w_sf_\", expand=True).loc[:, 1].values\n",
    "    elif \"meanscell_abundance_w_sf_\" in res.columns[0]:\n",
    "        res.columns = res.columns.to_series().str.split(\"meanscell_abundance_w_sf_\", expand=True).loc[:, 1].values\n",
    "    if res.index[0] != 0:\n",
    "        res.index = res.index.astype(int) - 1\n",
    "    res.index = res.index.astype(str)\n",
    "    if \"cell_ID\" in res.columns:\n",
    "        res.drop(\"cell_ID\", axis=1, inplace=True)\n",
    "    res = res.div(res.sum(axis=1), axis=0)\n",
    "    return res"
   ]
  },
  {
   "cell_type": "code",
   "execution_count": 151,
   "metadata": {},
   "outputs": [],
   "source": [
    "df = pd.concat([df, df.iloc[[-1]]])"
   ]
  },
  {
   "cell_type": "code",
   "execution_count": 152,
   "metadata": {},
   "outputs": [],
   "source": [
    "df[\"path\"].iloc[-1] = \"/vol/storage/data/deconvolution_results/test/atac/Heart_1_highly_variable/tangram_ct_pred.csv\""
   ]
  },
  {
   "cell_type": "code",
   "execution_count": 153,
   "metadata": {},
   "outputs": [
    {
     "data": {
      "text/html": [
       "<div>\n",
       "<style scoped>\n",
       "    .dataframe tbody tr th:only-of-type {\n",
       "        vertical-align: middle;\n",
       "    }\n",
       "\n",
       "    .dataframe tbody tr th {\n",
       "        vertical-align: top;\n",
       "    }\n",
       "\n",
       "    .dataframe thead th {\n",
       "        text-align: right;\n",
       "    }\n",
       "</style>\n",
       "<table border=\"1\" class=\"dataframe\">\n",
       "  <thead>\n",
       "    <tr style=\"text-align: right;\">\n",
       "      <th></th>\n",
       "      <th>path</th>\n",
       "      <th>method</th>\n",
       "      <th>modality</th>\n",
       "      <th>dataset_features</th>\n",
       "      <th>dataset</th>\n",
       "      <th>features</th>\n",
       "      <th>mdata_spatial_path</th>\n",
       "    </tr>\n",
       "  </thead>\n",
       "  <tbody>\n",
       "    <tr>\n",
       "      <th>2</th>\n",
       "      <td>/vol/storage/data/deconvolution_results/tangra...</td>\n",
       "      <td>tangram</td>\n",
       "      <td>atac</td>\n",
       "      <td>russell_250_highly_variable</td>\n",
       "      <td>russell_250</td>\n",
       "      <td>highly_variable</td>\n",
       "      <td>/vol/storage/data/simulations/russell_250.h5mu</td>\n",
       "    </tr>\n",
       "    <tr>\n",
       "      <th>4</th>\n",
       "      <td>/vol/storage/data/deconvolution_results/tangra...</td>\n",
       "      <td>tangram</td>\n",
       "      <td>atac</td>\n",
       "      <td>russell_250_highly_accessible</td>\n",
       "      <td>russell_250</td>\n",
       "      <td>highly_accessible</td>\n",
       "      <td>/vol/storage/data/simulations/russell_250.h5mu</td>\n",
       "    </tr>\n",
       "    <tr>\n",
       "      <th>5</th>\n",
       "      <td>/vol/storage/data/deconvolution_results/tangra...</td>\n",
       "      <td>tangram</td>\n",
       "      <td>atac</td>\n",
       "      <td>russell_250_highly_accessible</td>\n",
       "      <td>russell_250</td>\n",
       "      <td>highly_accessible</td>\n",
       "      <td>/vol/storage/data/simulations/russell_250.h5mu</td>\n",
       "    </tr>\n",
       "    <tr>\n",
       "      <th>9</th>\n",
       "      <td>/vol/storage/data/deconvolution_results/tangra...</td>\n",
       "      <td>tangram</td>\n",
       "      <td>atac</td>\n",
       "      <td>Heart_1_highly_accessible</td>\n",
       "      <td>Heart_1</td>\n",
       "      <td>highly_accessible</td>\n",
       "      <td>/vol/storage/data/simulations/Heart_1.h5mu</td>\n",
       "    </tr>\n",
       "    <tr>\n",
       "      <th>16</th>\n",
       "      <td>/vol/storage/data/deconvolution_results/tangra...</td>\n",
       "      <td>tangram</td>\n",
       "      <td>atac</td>\n",
       "      <td>Heart_1_highly_variable</td>\n",
       "      <td>Heart_1</td>\n",
       "      <td>highly_variable</td>\n",
       "      <td>/vol/storage/data/simulations/Heart_1.h5mu</td>\n",
       "    </tr>\n",
       "    <tr>\n",
       "      <th>16</th>\n",
       "      <td>/vol/storage/data/deconvolution_results/test/a...</td>\n",
       "      <td>tangram</td>\n",
       "      <td>atac</td>\n",
       "      <td>Heart_1_highly_variable</td>\n",
       "      <td>Heart_1</td>\n",
       "      <td>highly_variable</td>\n",
       "      <td>/vol/storage/data/simulations/Heart_1.h5mu</td>\n",
       "    </tr>\n",
       "    <tr>\n",
       "      <th>16</th>\n",
       "      <td>/vol/storage/data/deconvolution_results/test/a...</td>\n",
       "      <td>tangram</td>\n",
       "      <td>atac</td>\n",
       "      <td>Heart_1_highly_variable</td>\n",
       "      <td>Heart_1</td>\n",
       "      <td>highly_variable</td>\n",
       "      <td>/vol/storage/data/simulations/Heart_1.h5mu</td>\n",
       "    </tr>\n",
       "  </tbody>\n",
       "</table>\n",
       "</div>"
      ],
      "text/plain": [
       "                                                 path   method modality  \\\n",
       "2   /vol/storage/data/deconvolution_results/tangra...  tangram     atac   \n",
       "4   /vol/storage/data/deconvolution_results/tangra...  tangram     atac   \n",
       "5   /vol/storage/data/deconvolution_results/tangra...  tangram     atac   \n",
       "9   /vol/storage/data/deconvolution_results/tangra...  tangram     atac   \n",
       "16  /vol/storage/data/deconvolution_results/tangra...  tangram     atac   \n",
       "16  /vol/storage/data/deconvolution_results/test/a...  tangram     atac   \n",
       "16  /vol/storage/data/deconvolution_results/test/a...  tangram     atac   \n",
       "\n",
       "                 dataset_features      dataset           features  \\\n",
       "2     russell_250_highly_variable  russell_250    highly_variable   \n",
       "4   russell_250_highly_accessible  russell_250  highly_accessible   \n",
       "5   russell_250_highly_accessible  russell_250  highly_accessible   \n",
       "9       Heart_1_highly_accessible      Heart_1  highly_accessible   \n",
       "16        Heart_1_highly_variable      Heart_1    highly_variable   \n",
       "16        Heart_1_highly_variable      Heart_1    highly_variable   \n",
       "16        Heart_1_highly_variable      Heart_1    highly_variable   \n",
       "\n",
       "                                mdata_spatial_path  \n",
       "2   /vol/storage/data/simulations/russell_250.h5mu  \n",
       "4   /vol/storage/data/simulations/russell_250.h5mu  \n",
       "5   /vol/storage/data/simulations/russell_250.h5mu  \n",
       "9       /vol/storage/data/simulations/Heart_1.h5mu  \n",
       "16      /vol/storage/data/simulations/Heart_1.h5mu  \n",
       "16      /vol/storage/data/simulations/Heart_1.h5mu  \n",
       "16      /vol/storage/data/simulations/Heart_1.h5mu  "
      ]
     },
     "execution_count": 153,
     "metadata": {},
     "output_type": "execute_result"
    }
   ],
   "source": [
    "df"
   ]
  },
  {
   "cell_type": "code",
   "execution_count": 154,
   "metadata": {},
   "outputs": [
    {
     "name": "stderr",
     "output_type": "stream",
     "text": [
      "5it [00:23,  4.74s/it]\n"
     ]
    },
    {
     "ename": "KeyError",
     "evalue": "\"['Adipocyte', 'Atrial Cardiomyocyte', 'Endothelial cell', 'Fibroblast', 'Lymphatic Endothelial cell', 'Lymphoid', 'Myeloid', 'Neural cell', 'Ventricular Cardiomyocyte'] not in index\"",
     "output_type": "error",
     "traceback": [
      "\u001b[0;31m---------------------------------------------------------------------------\u001b[0m",
      "\u001b[0;31mKeyError\u001b[0m                                  Traceback (most recent call last)",
      "Cell \u001b[0;32mIn[154], line 10\u001b[0m\n\u001b[1;32m      8\u001b[0m \u001b[38;5;66;03m# load table\u001b[39;00m\n\u001b[1;32m      9\u001b[0m predictions \u001b[38;5;241m=\u001b[39m load_table(row[\u001b[38;5;124m\"\u001b[39m\u001b[38;5;124mpath\u001b[39m\u001b[38;5;124m\"\u001b[39m], index_col\u001b[38;5;241m=\u001b[39m(\u001b[38;5;28;01mNone\u001b[39;00m \u001b[38;5;28;01mif\u001b[39;00m row[\u001b[38;5;124m\"\u001b[39m\u001b[38;5;124mmethod\u001b[39m\u001b[38;5;124m\"\u001b[39m] \u001b[38;5;241m==\u001b[39m \u001b[38;5;124m\"\u001b[39m\u001b[38;5;124mmoscot\u001b[39m\u001b[38;5;124m\"\u001b[39m \u001b[38;5;28;01melse\u001b[39;00m \u001b[38;5;241m0\u001b[39m))\n\u001b[0;32m---> 10\u001b[0m predictions \u001b[38;5;241m=\u001b[39m \u001b[43mpredictions\u001b[49m\u001b[38;5;241;43m.\u001b[39;49m\u001b[43mloc\u001b[49m\u001b[43m[\u001b[49m\u001b[43mtargets\u001b[49m\u001b[38;5;241;43m.\u001b[39;49m\u001b[43mindex\u001b[49m\u001b[43m,\u001b[49m\u001b[43m \u001b[49m\u001b[43mtargets\u001b[49m\u001b[38;5;241;43m.\u001b[39;49m\u001b[43mcolumns\u001b[49m\u001b[43m]\u001b[49m\n\u001b[1;32m     11\u001b[0m jsd\u001b[38;5;241m.\u001b[39mappend(de\u001b[38;5;241m.\u001b[39mtl\u001b[38;5;241m.\u001b[39mjsd(predictions, targets))\n\u001b[1;32m     12\u001b[0m rmse\u001b[38;5;241m.\u001b[39mappend(de\u001b[38;5;241m.\u001b[39mtl\u001b[38;5;241m.\u001b[39mrmse(predictions, targets))\n",
      "File \u001b[0;32m/vol/storage/miniconda3/envs/cell2loc_env/lib/python3.9/site-packages/pandas/core/indexing.py:1147\u001b[0m, in \u001b[0;36m_LocationIndexer.__getitem__\u001b[0;34m(self, key)\u001b[0m\n\u001b[1;32m   1145\u001b[0m     \u001b[38;5;28;01mif\u001b[39;00m \u001b[38;5;28mself\u001b[39m\u001b[38;5;241m.\u001b[39m_is_scalar_access(key):\n\u001b[1;32m   1146\u001b[0m         \u001b[38;5;28;01mreturn\u001b[39;00m \u001b[38;5;28mself\u001b[39m\u001b[38;5;241m.\u001b[39mobj\u001b[38;5;241m.\u001b[39m_get_value(\u001b[38;5;241m*\u001b[39mkey, takeable\u001b[38;5;241m=\u001b[39m\u001b[38;5;28mself\u001b[39m\u001b[38;5;241m.\u001b[39m_takeable)\n\u001b[0;32m-> 1147\u001b[0m     \u001b[38;5;28;01mreturn\u001b[39;00m \u001b[38;5;28;43mself\u001b[39;49m\u001b[38;5;241;43m.\u001b[39;49m\u001b[43m_getitem_tuple\u001b[49m\u001b[43m(\u001b[49m\u001b[43mkey\u001b[49m\u001b[43m)\u001b[49m\n\u001b[1;32m   1148\u001b[0m \u001b[38;5;28;01melse\u001b[39;00m:\n\u001b[1;32m   1149\u001b[0m     \u001b[38;5;66;03m# we by definition only have the 0th axis\u001b[39;00m\n\u001b[1;32m   1150\u001b[0m     axis \u001b[38;5;241m=\u001b[39m \u001b[38;5;28mself\u001b[39m\u001b[38;5;241m.\u001b[39maxis \u001b[38;5;129;01mor\u001b[39;00m \u001b[38;5;241m0\u001b[39m\n",
      "File \u001b[0;32m/vol/storage/miniconda3/envs/cell2loc_env/lib/python3.9/site-packages/pandas/core/indexing.py:1337\u001b[0m, in \u001b[0;36m_LocIndexer._getitem_tuple\u001b[0;34m(self, tup)\u001b[0m\n\u001b[1;32m   1335\u001b[0m \u001b[38;5;66;03m# ugly hack for GH #836\u001b[39;00m\n\u001b[1;32m   1336\u001b[0m \u001b[38;5;28;01mif\u001b[39;00m \u001b[38;5;28mself\u001b[39m\u001b[38;5;241m.\u001b[39m_multi_take_opportunity(tup):\n\u001b[0;32m-> 1337\u001b[0m     \u001b[38;5;28;01mreturn\u001b[39;00m \u001b[38;5;28;43mself\u001b[39;49m\u001b[38;5;241;43m.\u001b[39;49m\u001b[43m_multi_take\u001b[49m\u001b[43m(\u001b[49m\u001b[43mtup\u001b[49m\u001b[43m)\u001b[49m\n\u001b[1;32m   1339\u001b[0m \u001b[38;5;28;01mreturn\u001b[39;00m \u001b[38;5;28mself\u001b[39m\u001b[38;5;241m.\u001b[39m_getitem_tuple_same_dim(tup)\n",
      "File \u001b[0;32m/vol/storage/miniconda3/envs/cell2loc_env/lib/python3.9/site-packages/pandas/core/indexing.py:1288\u001b[0m, in \u001b[0;36m_LocIndexer._multi_take\u001b[0;34m(self, tup)\u001b[0m\n\u001b[1;32m   1272\u001b[0m \u001b[38;5;250m\u001b[39m\u001b[38;5;124;03m\"\"\"\u001b[39;00m\n\u001b[1;32m   1273\u001b[0m \u001b[38;5;124;03mCreate the indexers for the passed tuple of keys, and\u001b[39;00m\n\u001b[1;32m   1274\u001b[0m \u001b[38;5;124;03mexecutes the take operation. This allows the take operation to be\u001b[39;00m\n\u001b[0;32m   (...)\u001b[0m\n\u001b[1;32m   1285\u001b[0m \u001b[38;5;124;03mvalues: same type as the object being indexed\u001b[39;00m\n\u001b[1;32m   1286\u001b[0m \u001b[38;5;124;03m\"\"\"\u001b[39;00m\n\u001b[1;32m   1287\u001b[0m \u001b[38;5;66;03m# GH 836\u001b[39;00m\n\u001b[0;32m-> 1288\u001b[0m d \u001b[38;5;241m=\u001b[39m {\n\u001b[1;32m   1289\u001b[0m     axis: \u001b[38;5;28mself\u001b[39m\u001b[38;5;241m.\u001b[39m_get_listlike_indexer(key, axis)\n\u001b[1;32m   1290\u001b[0m     \u001b[38;5;28;01mfor\u001b[39;00m (key, axis) \u001b[38;5;129;01min\u001b[39;00m \u001b[38;5;28mzip\u001b[39m(tup, \u001b[38;5;28mself\u001b[39m\u001b[38;5;241m.\u001b[39mobj\u001b[38;5;241m.\u001b[39m_AXIS_ORDERS)\n\u001b[1;32m   1291\u001b[0m }\n\u001b[1;32m   1292\u001b[0m \u001b[38;5;28;01mreturn\u001b[39;00m \u001b[38;5;28mself\u001b[39m\u001b[38;5;241m.\u001b[39mobj\u001b[38;5;241m.\u001b[39m_reindex_with_indexers(d, copy\u001b[38;5;241m=\u001b[39m\u001b[38;5;28;01mTrue\u001b[39;00m, allow_dups\u001b[38;5;241m=\u001b[39m\u001b[38;5;28;01mTrue\u001b[39;00m)\n",
      "File \u001b[0;32m/vol/storage/miniconda3/envs/cell2loc_env/lib/python3.9/site-packages/pandas/core/indexing.py:1289\u001b[0m, in \u001b[0;36m<dictcomp>\u001b[0;34m(.0)\u001b[0m\n\u001b[1;32m   1272\u001b[0m \u001b[38;5;250m\u001b[39m\u001b[38;5;124;03m\"\"\"\u001b[39;00m\n\u001b[1;32m   1273\u001b[0m \u001b[38;5;124;03mCreate the indexers for the passed tuple of keys, and\u001b[39;00m\n\u001b[1;32m   1274\u001b[0m \u001b[38;5;124;03mexecutes the take operation. This allows the take operation to be\u001b[39;00m\n\u001b[0;32m   (...)\u001b[0m\n\u001b[1;32m   1285\u001b[0m \u001b[38;5;124;03mvalues: same type as the object being indexed\u001b[39;00m\n\u001b[1;32m   1286\u001b[0m \u001b[38;5;124;03m\"\"\"\u001b[39;00m\n\u001b[1;32m   1287\u001b[0m \u001b[38;5;66;03m# GH 836\u001b[39;00m\n\u001b[1;32m   1288\u001b[0m d \u001b[38;5;241m=\u001b[39m {\n\u001b[0;32m-> 1289\u001b[0m     axis: \u001b[38;5;28;43mself\u001b[39;49m\u001b[38;5;241;43m.\u001b[39;49m\u001b[43m_get_listlike_indexer\u001b[49m\u001b[43m(\u001b[49m\u001b[43mkey\u001b[49m\u001b[43m,\u001b[49m\u001b[43m \u001b[49m\u001b[43maxis\u001b[49m\u001b[43m)\u001b[49m\n\u001b[1;32m   1290\u001b[0m     \u001b[38;5;28;01mfor\u001b[39;00m (key, axis) \u001b[38;5;129;01min\u001b[39;00m \u001b[38;5;28mzip\u001b[39m(tup, \u001b[38;5;28mself\u001b[39m\u001b[38;5;241m.\u001b[39mobj\u001b[38;5;241m.\u001b[39m_AXIS_ORDERS)\n\u001b[1;32m   1291\u001b[0m }\n\u001b[1;32m   1292\u001b[0m \u001b[38;5;28;01mreturn\u001b[39;00m \u001b[38;5;28mself\u001b[39m\u001b[38;5;241m.\u001b[39mobj\u001b[38;5;241m.\u001b[39m_reindex_with_indexers(d, copy\u001b[38;5;241m=\u001b[39m\u001b[38;5;28;01mTrue\u001b[39;00m, allow_dups\u001b[38;5;241m=\u001b[39m\u001b[38;5;28;01mTrue\u001b[39;00m)\n",
      "File \u001b[0;32m/vol/storage/miniconda3/envs/cell2loc_env/lib/python3.9/site-packages/pandas/core/indexing.py:1520\u001b[0m, in \u001b[0;36m_LocIndexer._get_listlike_indexer\u001b[0;34m(self, key, axis)\u001b[0m\n\u001b[1;32m   1517\u001b[0m ax \u001b[38;5;241m=\u001b[39m \u001b[38;5;28mself\u001b[39m\u001b[38;5;241m.\u001b[39mobj\u001b[38;5;241m.\u001b[39m_get_axis(axis)\n\u001b[1;32m   1518\u001b[0m axis_name \u001b[38;5;241m=\u001b[39m \u001b[38;5;28mself\u001b[39m\u001b[38;5;241m.\u001b[39mobj\u001b[38;5;241m.\u001b[39m_get_axis_name(axis)\n\u001b[0;32m-> 1520\u001b[0m keyarr, indexer \u001b[38;5;241m=\u001b[39m \u001b[43max\u001b[49m\u001b[38;5;241;43m.\u001b[39;49m\u001b[43m_get_indexer_strict\u001b[49m\u001b[43m(\u001b[49m\u001b[43mkey\u001b[49m\u001b[43m,\u001b[49m\u001b[43m \u001b[49m\u001b[43maxis_name\u001b[49m\u001b[43m)\u001b[49m\n\u001b[1;32m   1522\u001b[0m \u001b[38;5;28;01mreturn\u001b[39;00m keyarr, indexer\n",
      "File \u001b[0;32m/vol/storage/miniconda3/envs/cell2loc_env/lib/python3.9/site-packages/pandas/core/indexes/base.py:6114\u001b[0m, in \u001b[0;36mIndex._get_indexer_strict\u001b[0;34m(self, key, axis_name)\u001b[0m\n\u001b[1;32m   6111\u001b[0m \u001b[38;5;28;01melse\u001b[39;00m:\n\u001b[1;32m   6112\u001b[0m     keyarr, indexer, new_indexer \u001b[38;5;241m=\u001b[39m \u001b[38;5;28mself\u001b[39m\u001b[38;5;241m.\u001b[39m_reindex_non_unique(keyarr)\n\u001b[0;32m-> 6114\u001b[0m \u001b[38;5;28;43mself\u001b[39;49m\u001b[38;5;241;43m.\u001b[39;49m\u001b[43m_raise_if_missing\u001b[49m\u001b[43m(\u001b[49m\u001b[43mkeyarr\u001b[49m\u001b[43m,\u001b[49m\u001b[43m \u001b[49m\u001b[43mindexer\u001b[49m\u001b[43m,\u001b[49m\u001b[43m \u001b[49m\u001b[43maxis_name\u001b[49m\u001b[43m)\u001b[49m\n\u001b[1;32m   6116\u001b[0m keyarr \u001b[38;5;241m=\u001b[39m \u001b[38;5;28mself\u001b[39m\u001b[38;5;241m.\u001b[39mtake(indexer)\n\u001b[1;32m   6117\u001b[0m \u001b[38;5;28;01mif\u001b[39;00m \u001b[38;5;28misinstance\u001b[39m(key, Index):\n\u001b[1;32m   6118\u001b[0m     \u001b[38;5;66;03m# GH 42790 - Preserve name from an Index\u001b[39;00m\n",
      "File \u001b[0;32m/vol/storage/miniconda3/envs/cell2loc_env/lib/python3.9/site-packages/pandas/core/indexes/base.py:6178\u001b[0m, in \u001b[0;36mIndex._raise_if_missing\u001b[0;34m(self, key, indexer, axis_name)\u001b[0m\n\u001b[1;32m   6175\u001b[0m     \u001b[38;5;28;01mraise\u001b[39;00m \u001b[38;5;167;01mKeyError\u001b[39;00m(\u001b[38;5;124mf\u001b[39m\u001b[38;5;124m\"\u001b[39m\u001b[38;5;124mNone of [\u001b[39m\u001b[38;5;132;01m{\u001b[39;00mkey\u001b[38;5;132;01m}\u001b[39;00m\u001b[38;5;124m] are in the [\u001b[39m\u001b[38;5;132;01m{\u001b[39;00maxis_name\u001b[38;5;132;01m}\u001b[39;00m\u001b[38;5;124m]\u001b[39m\u001b[38;5;124m\"\u001b[39m)\n\u001b[1;32m   6177\u001b[0m not_found \u001b[38;5;241m=\u001b[39m \u001b[38;5;28mlist\u001b[39m(ensure_index(key)[missing_mask\u001b[38;5;241m.\u001b[39mnonzero()[\u001b[38;5;241m0\u001b[39m]]\u001b[38;5;241m.\u001b[39munique())\n\u001b[0;32m-> 6178\u001b[0m \u001b[38;5;28;01mraise\u001b[39;00m \u001b[38;5;167;01mKeyError\u001b[39;00m(\u001b[38;5;124mf\u001b[39m\u001b[38;5;124m\"\u001b[39m\u001b[38;5;132;01m{\u001b[39;00mnot_found\u001b[38;5;132;01m}\u001b[39;00m\u001b[38;5;124m not in index\u001b[39m\u001b[38;5;124m\"\u001b[39m)\n",
      "\u001b[0;31mKeyError\u001b[0m: \"['Adipocyte', 'Atrial Cardiomyocyte', 'Endothelial cell', 'Fibroblast', 'Lymphatic Endothelial cell', 'Lymphoid', 'Myeloid', 'Neural cell', 'Ventricular Cardiomyocyte'] not in index\""
     ]
    }
   ],
   "source": [
    "jsd = []\n",
    "rmse = []\n",
    "for _, row in tqdm.tqdm(df.iterrows()):\n",
    "    if i == \n",
    "    # load ground truth\n",
    "    target_adata = mu.read(row[\"mdata_spatial_path\"])\n",
    "    targets = get_proportions(target_adata[row[\"modality\"]])\n",
    "\n",
    "    # load table\n",
    "    predictions = load_table(row[\"path\"], index_col=(None if row[\"method\"] == \"moscot\" else 0))\n",
    "    predictions = predictions.loc[targets.index, targets.columns]\n",
    "    jsd.append(de.tl.jsd(predictions, targets))\n",
    "    rmse.append(de.tl.rmse(predictions, targets))\n",
    "df[\"jsd\"] = jsd\n",
    "df[\"rmse\"] = rmse"
   ]
  },
  {
   "cell_type": "code",
   "execution_count": 144,
   "metadata": {},
   "outputs": [
    {
     "data": {
      "text/html": [
       "<div>\n",
       "<style scoped>\n",
       "    .dataframe tbody tr th:only-of-type {\n",
       "        vertical-align: middle;\n",
       "    }\n",
       "\n",
       "    .dataframe tbody tr th {\n",
       "        vertical-align: top;\n",
       "    }\n",
       "\n",
       "    .dataframe thead th {\n",
       "        text-align: right;\n",
       "    }\n",
       "</style>\n",
       "<table border=\"1\" class=\"dataframe\">\n",
       "  <thead>\n",
       "    <tr style=\"text-align: right;\">\n",
       "      <th></th>\n",
       "      <th>Mural cell</th>\n",
       "      <th>Mast cell</th>\n",
       "      <th>Mesothelial cell</th>\n",
       "    </tr>\n",
       "  </thead>\n",
       "  <tbody>\n",
       "    <tr>\n",
       "      <th>0</th>\n",
       "      <td>0.941892</td>\n",
       "      <td>0.010925</td>\n",
       "      <td>0.047183</td>\n",
       "    </tr>\n",
       "    <tr>\n",
       "      <th>1</th>\n",
       "      <td>0.585719</td>\n",
       "      <td>0.414263</td>\n",
       "      <td>0.000018</td>\n",
       "    </tr>\n",
       "    <tr>\n",
       "      <th>2</th>\n",
       "      <td>0.920166</td>\n",
       "      <td>0.016500</td>\n",
       "      <td>0.063334</td>\n",
       "    </tr>\n",
       "    <tr>\n",
       "      <th>3</th>\n",
       "      <td>0.842040</td>\n",
       "      <td>0.080708</td>\n",
       "      <td>0.077253</td>\n",
       "    </tr>\n",
       "    <tr>\n",
       "      <th>4</th>\n",
       "      <td>0.761817</td>\n",
       "      <td>0.153722</td>\n",
       "      <td>0.084461</td>\n",
       "    </tr>\n",
       "    <tr>\n",
       "      <th>...</th>\n",
       "      <td>...</td>\n",
       "      <td>...</td>\n",
       "      <td>...</td>\n",
       "    </tr>\n",
       "    <tr>\n",
       "      <th>956</th>\n",
       "      <td>0.871320</td>\n",
       "      <td>0.073932</td>\n",
       "      <td>0.054749</td>\n",
       "    </tr>\n",
       "    <tr>\n",
       "      <th>957</th>\n",
       "      <td>0.828523</td>\n",
       "      <td>0.143127</td>\n",
       "      <td>0.028349</td>\n",
       "    </tr>\n",
       "    <tr>\n",
       "      <th>958</th>\n",
       "      <td>0.611134</td>\n",
       "      <td>0.355417</td>\n",
       "      <td>0.033449</td>\n",
       "    </tr>\n",
       "    <tr>\n",
       "      <th>959</th>\n",
       "      <td>0.957805</td>\n",
       "      <td>0.001252</td>\n",
       "      <td>0.040943</td>\n",
       "    </tr>\n",
       "    <tr>\n",
       "      <th>960</th>\n",
       "      <td>0.771809</td>\n",
       "      <td>0.006737</td>\n",
       "      <td>0.221454</td>\n",
       "    </tr>\n",
       "  </tbody>\n",
       "</table>\n",
       "<p>961 rows × 3 columns</p>\n",
       "</div>"
      ],
      "text/plain": [
       "     Mural cell  Mast cell  Mesothelial cell\n",
       "0      0.941892   0.010925          0.047183\n",
       "1      0.585719   0.414263          0.000018\n",
       "2      0.920166   0.016500          0.063334\n",
       "3      0.842040   0.080708          0.077253\n",
       "4      0.761817   0.153722          0.084461\n",
       "..          ...        ...               ...\n",
       "956    0.871320   0.073932          0.054749\n",
       "957    0.828523   0.143127          0.028349\n",
       "958    0.611134   0.355417          0.033449\n",
       "959    0.957805   0.001252          0.040943\n",
       "960    0.771809   0.006737          0.221454\n",
       "\n",
       "[961 rows x 3 columns]"
      ]
     },
     "execution_count": 144,
     "metadata": {},
     "output_type": "execute_result"
    }
   ],
   "source": [
    "load_table(row[\"path\"], index_col=(None if row[\"method\"] == \"moscot\" else 0))"
   ]
  },
  {
   "cell_type": "code",
   "execution_count": null,
   "metadata": {},
   "outputs": [],
   "source": []
  }
 ],
 "metadata": {
  "kernelspec": {
   "display_name": "cell2loc_env",
   "language": "python",
   "name": "python3"
  },
  "language_info": {
   "codemirror_mode": {
    "name": "ipython",
    "version": 3
   },
   "file_extension": ".py",
   "mimetype": "text/x-python",
   "name": "python",
   "nbconvert_exporter": "python",
   "pygments_lexer": "ipython3",
   "version": "3.9.18"
  }
 },
 "nbformat": 4,
 "nbformat_minor": 2
}
