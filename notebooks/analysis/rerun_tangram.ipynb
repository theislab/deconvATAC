{
 "cells": [
  {
   "cell_type": "code",
   "execution_count": 1,
   "metadata": {},
   "outputs": [
    {
     "name": "stderr",
     "output_type": "stream",
     "text": [
      "/vol/storage/miniconda3/envs/cell2loc_env/lib/python3.9/site-packages/tqdm/auto.py:21: TqdmWarning: IProgress not found. Please update jupyter and ipywidgets. See https://ipywidgets.readthedocs.io/en/stable/user_install.html\n",
      "  from .autonotebook import tqdm as notebook_tqdm\n"
     ]
    }
   ],
   "source": [
    "import mudata as mu\n",
    "from deconvatac.tl import tangram\n",
    "import pandas as pd\n",
    "import numpy as np\n",
    "import seml\n",
    "import pandas as pd\n",
    "import glob\n",
    "import deconvatac as de\n",
    "import seaborn as sns\n",
    "import tqdm\n",
    "import os"
   ]
  },
  {
   "cell_type": "markdown",
   "metadata": {},
   "source": [
    "## Run Tangram"
   ]
  },
  {
   "cell_type": "code",
   "execution_count": 2,
   "metadata": {},
   "outputs": [],
   "source": [
    "class ExperimentWrapper:\n",
    "    \"\"\"\n",
    "    A simple wrapper around a sacred experiment, making use of sacred's captured functions with prefixes.\n",
    "    This allows a modular design of the configuration, where certain sub-dictionaries (e.g., \"data\") are parsed by\n",
    "    specific method. This avoids having one large \"main\" function which takes all parameters as input.\n",
    "    \"\"\"\n",
    "\n",
    "    def __init__(self, init_all=True):\n",
    "        if init_all:\n",
    "            self.init_all()\n",
    "\n",
    "    def init_dataset(self, mdata_spatial_path, mdata_reference_path, var_HVF_column, labels_key, modality):\n",
    "\n",
    "        self.spatial_path = mdata_spatial_path\n",
    "        self.adata_spatial = mu.read_h5mu(mdata_spatial_path).mod[modality]\n",
    "        self.adata_reference = mu.read_h5mu(mdata_reference_path).mod[modality]\n",
    "        # subset on HVFs\n",
    "        self.adata_spatial = self.adata_spatial[:, self.adata_reference.var[var_HVF_column]]\n",
    "        self.adata_reference = self.adata_reference[:, self.adata_reference.var[var_HVF_column]]\n",
    "\n",
    "        self.modality = modality\n",
    "        self.labels_key = labels_key\n",
    "        self.var_HVF_column = var_HVF_column\n",
    "\n",
    "    def init_method(self, method_id):\n",
    "        self.method_id = method_id\n",
    "\n",
    "    def init_all(self):\n",
    "        self.init_dataset()\n",
    "        self.init_method()\n",
    "\n",
    "    def run(self, output_path):\n",
    "\n",
    "        dataset = self.spatial_path.split(\"/\")[-1].split(\".\")[0]\n",
    "        dataset_var_column = dataset + \"_\" + self.var_HVF_column\n",
    "        output_path = output_path + self.modality + \"/\" + dataset_var_column\n",
    "\n",
    "        tangram(\n",
    "            adata_spatial=self.adata_spatial,\n",
    "            adata_ref=self.adata_reference,\n",
    "            labels_key=self.labels_key,\n",
    "            run_rank_genes=False,\n",
    "            result_path=output_path,\n",
    "            device=\"cuda:0\",\n",
    "            num_epochs=1000,\n",
    "        )\n",
    "\n",
    "        results = {\n",
    "            \"result_path\": output_path + \"/tangram_ct_pred.csv\",\n",
    "            \"dataset\": dataset,\n",
    "            \"modality\": self.modality,\n",
    "            \"var_HVF_column\": self.var_HVF_column,\n",
    "        }\n",
    "        return results"
   ]
  },
  {
   "cell_type": "markdown",
   "metadata": {},
   "source": [
    "### Create new reference\n"
   ]
  },
  {
   "cell_type": "code",
   "execution_count": 2,
   "metadata": {},
   "outputs": [],
   "source": [
    "def create_reference(parquet, ref_path=None, power=None): \n",
    "    if power is None: \n",
    "        sample_cells = pd.read_parquet(parquet)\n",
    "        ref = mu.read_h5mu(\"/vol/storage/data/cellxgene/human_cardiac_niches/human_cardiac_niches.h5mu\")\n",
    "        cell_ids = np.concatenate(sample_cells['cell_id'].values)\n",
    "        ref = ref[np.unique(cell_ids)]\n",
    "        print(ref)\n",
    "        ref.write(ref_path)\n",
    "    else: \n",
    "        sample_cells = pd.read_parquet(parquet)\n",
    "        cell_ids = np.unique(np.concatenate(sample_cells['cell_id'].values))\n",
    "        ref = mu.read_h5mu(\"/vol/storage/data/cellxgene/human_cardiac_niches/human_cardiac_niches.h5mu\")\n",
    "        ids = list(set(ref.obs.index) - set(np.unique(cell_ids)))\n",
    "        for i in range(len(power)):\n",
    "            n_draw = len(cell_ids)*2**power[i]\n",
    "            if n_draw > len(ids):\n",
    "                n_draw = len(ids)\n",
    "            drawn_ids = np.random.choice(ids, n_draw, replace=False)\n",
    "            resulting_ids = np.concatenate([cell_ids, drawn_ids])\n",
    "            ref_new = ref[resulting_ids].copy()\n",
    "            print(ref_new)\n",
    "            ref_new.write(\"/vol/storage/data/simulations/test/power\" + str(power[i]) + \"/\"+ parquet.split(\"/\")[-1].split(\".\")[0] + \"_ref.h5mu\")"
   ]
  },
  {
   "cell_type": "code",
   "execution_count": 3,
   "metadata": {},
   "outputs": [],
   "source": [
    "parquets = [\"/vol/storage/data/simulations/test/Heart_1.pq\", \"/vol/storage/data/simulations/test/Heart_2.pq\", \n",
    "            \"/vol/storage/data/simulations/test/Heart_3.pq\", \"/vol/storage/data/simulations/test/Heart_4.pq\"]\n",
    "ref_paths = [\"/vol/storage/data/simulations/test/Heart1_ref.h5mu\", \"/vol/storage/data/simulations/test/Heart2_ref.h5mu\"\n",
    "             , \"/vol/storage/data/simulations/test/Heart3_ref.h5mu\", \"/vol/storage/data/simulations/test/Heart4_ref.h5mu\"]"
   ]
  },
  {
   "cell_type": "markdown",
   "metadata": {},
   "source": [
    "Create references without drawn cell ids: "
   ]
  },
  {
   "cell_type": "code",
   "execution_count": null,
   "metadata": {},
   "outputs": [],
   "source": [
    "for i in range(len(parquets)):\n",
    "    create_reference(parquets[i], ref_paths[i])"
   ]
  },
  {
   "cell_type": "markdown",
   "metadata": {},
   "source": [
    "Create references with drawn cell ids: "
   ]
  },
  {
   "cell_type": "code",
   "execution_count": null,
   "metadata": {},
   "outputs": [],
   "source": [
    "power = [0,1,2,3]\n",
    "for i in range(len(parquets)):\n",
    "    create_reference(parquets[i], power=power)"
   ]
  },
  {
   "cell_type": "markdown",
   "metadata": {},
   "source": [
    "### Run Tangram"
   ]
  },
  {
   "cell_type": "code",
   "execution_count": 7,
   "metadata": {},
   "outputs": [],
   "source": [
    "def run_tangram(ref_path, spatial_path, modality): \n",
    "    mdata_reference_path = ref_path\n",
    "    mdata_spatial_path = spatial_path\n",
    "    method_id =  \"Tangram\"\n",
    "    output_path =  \"/vol/storage/data/deconvolution_results/test2/\"\n",
    "    if \"power\" in ref_path.split(\"/\")[-2]:\n",
    "        output_path =  \"/vol/storage/data/deconvolution_results/test2/\" + ref_path.split(\"/\")[-2] + \"/\"\n",
    "    labels_key = \"cell_type\"\n",
    "    modality = modality\n",
    "    var_HVF_column = \"highly_variable\"\n",
    "    ex = ExperimentWrapper(init_all=False)\n",
    "    ex.init_dataset(mdata_spatial_path, mdata_reference_path, var_HVF_column, labels_key, modality)\n",
    "    ex.init_method(method_id)\n",
    "    ex.run(output_path)\n",
    "    if modality == \"atac\": \n",
    "        var_HVF_column = \"highly_accessible\"\n",
    "        ex = ExperimentWrapper(init_all=False)\n",
    "        ex.init_dataset(mdata_spatial_path, mdata_reference_path, var_HVF_column, labels_key, modality)\n",
    "        ex.init_method(method_id)\n",
    "        ex.run(output_path)\n",
    "\n"
   ]
  },
  {
   "cell_type": "code",
   "execution_count": 8,
   "metadata": {},
   "outputs": [],
   "source": [
    "spatial_paths = [\"/vol/storage/data/simulations/test/Heart_1.h5mu\", \"/vol/storage/data/simulations/test/Heart_2.h5mu\", \n",
    "                 \"/vol/storage/data/simulations/test/Heart_3.h5mu\", \"/vol/storage/data/simulations/test/Heart_4.h5mu\"]"
   ]
  },
  {
   "cell_type": "code",
   "execution_count": null,
   "metadata": {},
   "outputs": [],
   "source": [
    "for i in range(len(spatial_paths)): \n",
    "    run_tangram(ref_paths[i], spatial_paths[i], \"rna\")\n",
    "    run_tangram(ref_paths[i], spatial_paths[i], \"atac\")"
   ]
  },
  {
   "cell_type": "code",
   "execution_count": 9,
   "metadata": {},
   "outputs": [
    {
     "name": "stdout",
     "output_type": "stream",
     "text": [
      "/vol/storage/data/simulations/test/power0/Heart_1_ref.h5mu /vol/storage/data/simulations/test/Heart_1.h5mu\n"
     ]
    },
    {
     "name": "stderr",
     "output_type": "stream",
     "text": [
      "/vol/storage/miniconda3/envs/cell2loc_env/lib/python3.9/site-packages/anndata/_core/anndata.py:1113: FutureWarning: is_categorical_dtype is deprecated and will be removed in a future version. Use isinstance(dtype, CategoricalDtype) instead\n",
      "  if not is_categorical_dtype(df_full[k]):\n",
      "INFO:root:3198 training genes are saved in `uns``training_genes` of both single cell and spatial Anndatas.\n",
      "INFO:root:3198 overlapped genes are saved in `uns``overlap_genes` of both single cell and spatial Anndatas.\n",
      "INFO:root:uniform based density prior is calculated and saved in `obs``uniform_density` of the spatial Anndata.\n",
      "INFO:root:rna count based density prior is calculated and saved in `obs``rna_count_based_density` of the spatial Anndata.\n",
      "INFO:root:Allocate tensors for mapping.\n",
      "INFO:root:Begin training with 3198 genes and rna_count_based density_prior in cells mode...\n",
      "INFO:root:Printing scores every 100 epochs.\n"
     ]
    },
    {
     "name": "stdout",
     "output_type": "stream",
     "text": [
      "Score: 0.309, KL reg: 0.280\n",
      "Score: 0.825, KL reg: 0.003\n",
      "Score: 0.831, KL reg: 0.003\n",
      "Score: 0.832, KL reg: 0.003\n",
      "Score: 0.833, KL reg: 0.003\n",
      "Score: 0.833, KL reg: 0.003\n",
      "Score: 0.834, KL reg: 0.003\n",
      "Score: 0.834, KL reg: 0.003\n",
      "Score: 0.834, KL reg: 0.003\n",
      "Score: 0.834, KL reg: 0.003\n"
     ]
    },
    {
     "name": "stderr",
     "output_type": "stream",
     "text": [
      "INFO:root:Saving results..\n",
      "INFO:root:spatial prediction dataframe is saved in `obsm` `tangram_ct_pred` of the spatial AnnData.\n",
      "INFO:root:19988 training genes are saved in `uns``training_genes` of both single cell and spatial Anndatas.\n",
      "INFO:root:19988 overlapped genes are saved in `uns``overlap_genes` of both single cell and spatial Anndatas.\n",
      "INFO:root:uniform based density prior is calculated and saved in `obs``uniform_density` of the spatial Anndata.\n",
      "INFO:root:rna count based density prior is calculated and saved in `obs``rna_count_based_density` of the spatial Anndata.\n",
      "INFO:root:Allocate tensors for mapping.\n",
      "INFO:root:Begin training with 19988 genes and rna_count_based density_prior in cells mode...\n",
      "INFO:root:Printing scores every 100 epochs.\n"
     ]
    },
    {
     "name": "stdout",
     "output_type": "stream",
     "text": [
      "Score: 0.408, KL reg: 0.111\n",
      "Score: 0.779, KL reg: 0.000\n",
      "Score: 0.784, KL reg: 0.000\n",
      "Score: 0.785, KL reg: 0.000\n",
      "Score: 0.785, KL reg: 0.000\n",
      "Score: 0.786, KL reg: 0.000\n",
      "Score: 0.786, KL reg: 0.000\n",
      "Score: 0.786, KL reg: 0.000\n",
      "Score: 0.786, KL reg: 0.000\n",
      "Score: 0.786, KL reg: 0.000\n"
     ]
    },
    {
     "name": "stderr",
     "output_type": "stream",
     "text": [
      "INFO:root:Saving results..\n",
      "INFO:root:spatial prediction dataframe is saved in `obsm` `tangram_ct_pred` of the spatial AnnData.\n",
      "INFO:root:19999 training genes are saved in `uns``training_genes` of both single cell and spatial Anndatas.\n",
      "INFO:root:19999 overlapped genes are saved in `uns``overlap_genes` of both single cell and spatial Anndatas.\n",
      "INFO:root:uniform based density prior is calculated and saved in `obs``uniform_density` of the spatial Anndata.\n",
      "INFO:root:rna count based density prior is calculated and saved in `obs``rna_count_based_density` of the spatial Anndata.\n",
      "INFO:root:Allocate tensors for mapping.\n",
      "INFO:root:Begin training with 19999 genes and rna_count_based density_prior in cells mode...\n",
      "INFO:root:Printing scores every 100 epochs.\n"
     ]
    },
    {
     "name": "stdout",
     "output_type": "stream",
     "text": [
      "Score: 0.466, KL reg: 0.112\n",
      "Score: 0.784, KL reg: 0.000\n",
      "Score: 0.789, KL reg: 0.000\n",
      "Score: 0.790, KL reg: 0.000\n",
      "Score: 0.791, KL reg: 0.000\n",
      "Score: 0.791, KL reg: 0.000\n",
      "Score: 0.791, KL reg: 0.000\n",
      "Score: 0.791, KL reg: 0.000\n",
      "Score: 0.791, KL reg: 0.000\n",
      "Score: 0.791, KL reg: 0.000\n"
     ]
    },
    {
     "name": "stderr",
     "output_type": "stream",
     "text": [
      "INFO:root:Saving results..\n",
      "INFO:root:spatial prediction dataframe is saved in `obsm` `tangram_ct_pred` of the spatial AnnData.\n"
     ]
    },
    {
     "name": "stdout",
     "output_type": "stream",
     "text": [
      "/vol/storage/data/simulations/test/power1/Heart_1_ref.h5mu /vol/storage/data/simulations/test/Heart_1.h5mu\n"
     ]
    },
    {
     "name": "stderr",
     "output_type": "stream",
     "text": [
      "INFO:root:3198 training genes are saved in `uns``training_genes` of both single cell and spatial Anndatas.\n",
      "INFO:root:3198 overlapped genes are saved in `uns``overlap_genes` of both single cell and spatial Anndatas.\n",
      "INFO:root:uniform based density prior is calculated and saved in `obs``uniform_density` of the spatial Anndata.\n",
      "INFO:root:rna count based density prior is calculated and saved in `obs``rna_count_based_density` of the spatial Anndata.\n",
      "INFO:root:Allocate tensors for mapping.\n",
      "INFO:root:Begin training with 3198 genes and rna_count_based density_prior in cells mode...\n",
      "INFO:root:Printing scores every 100 epochs.\n"
     ]
    },
    {
     "name": "stdout",
     "output_type": "stream",
     "text": [
      "Score: 0.311, KL reg: 0.279\n",
      "Score: 0.807, KL reg: 0.003\n",
      "Score: 0.813, KL reg: 0.002\n",
      "Score: 0.815, KL reg: 0.002\n",
      "Score: 0.816, KL reg: 0.002\n",
      "Score: 0.816, KL reg: 0.002\n",
      "Score: 0.816, KL reg: 0.002\n",
      "Score: 0.817, KL reg: 0.002\n",
      "Score: 0.817, KL reg: 0.002\n",
      "Score: 0.817, KL reg: 0.002\n"
     ]
    },
    {
     "name": "stderr",
     "output_type": "stream",
     "text": [
      "INFO:root:Saving results..\n",
      "INFO:root:spatial prediction dataframe is saved in `obsm` `tangram_ct_pred` of the spatial AnnData.\n",
      "INFO:root:19988 training genes are saved in `uns``training_genes` of both single cell and spatial Anndatas.\n",
      "INFO:root:19988 overlapped genes are saved in `uns``overlap_genes` of both single cell and spatial Anndatas.\n",
      "INFO:root:uniform based density prior is calculated and saved in `obs``uniform_density` of the spatial Anndata.\n",
      "INFO:root:rna count based density prior is calculated and saved in `obs``rna_count_based_density` of the spatial Anndata.\n",
      "INFO:root:Allocate tensors for mapping.\n",
      "INFO:root:Begin training with 19988 genes and rna_count_based density_prior in cells mode...\n",
      "INFO:root:Printing scores every 100 epochs.\n"
     ]
    },
    {
     "name": "stdout",
     "output_type": "stream",
     "text": [
      "Score: 0.409, KL reg: 0.110\n",
      "Score: 0.742, KL reg: 0.000\n",
      "Score: 0.746, KL reg: 0.000\n",
      "Score: 0.747, KL reg: 0.000\n",
      "Score: 0.748, KL reg: 0.000\n",
      "Score: 0.748, KL reg: 0.000\n",
      "Score: 0.748, KL reg: 0.000\n",
      "Score: 0.748, KL reg: 0.000\n",
      "Score: 0.748, KL reg: 0.000\n",
      "Score: 0.748, KL reg: 0.000\n"
     ]
    },
    {
     "name": "stderr",
     "output_type": "stream",
     "text": [
      "INFO:root:Saving results..\n",
      "INFO:root:spatial prediction dataframe is saved in `obsm` `tangram_ct_pred` of the spatial AnnData.\n",
      "INFO:root:19999 training genes are saved in `uns``training_genes` of both single cell and spatial Anndatas.\n",
      "INFO:root:19999 overlapped genes are saved in `uns``overlap_genes` of both single cell and spatial Anndatas.\n",
      "INFO:root:uniform based density prior is calculated and saved in `obs``uniform_density` of the spatial Anndata.\n",
      "INFO:root:rna count based density prior is calculated and saved in `obs``rna_count_based_density` of the spatial Anndata.\n",
      "INFO:root:Allocate tensors for mapping.\n",
      "INFO:root:Begin training with 19999 genes and rna_count_based density_prior in cells mode...\n",
      "INFO:root:Printing scores every 100 epochs.\n"
     ]
    },
    {
     "name": "stdout",
     "output_type": "stream",
     "text": [
      "Score: 0.466, KL reg: 0.113\n",
      "Score: 0.748, KL reg: 0.000\n",
      "Score: 0.752, KL reg: 0.000\n",
      "Score: 0.753, KL reg: 0.000\n",
      "Score: 0.754, KL reg: 0.000\n",
      "Score: 0.754, KL reg: 0.000\n",
      "Score: 0.754, KL reg: 0.000\n",
      "Score: 0.754, KL reg: 0.000\n",
      "Score: 0.755, KL reg: 0.000\n",
      "Score: 0.755, KL reg: 0.000\n"
     ]
    },
    {
     "name": "stderr",
     "output_type": "stream",
     "text": [
      "INFO:root:Saving results..\n",
      "INFO:root:spatial prediction dataframe is saved in `obsm` `tangram_ct_pred` of the spatial AnnData.\n"
     ]
    },
    {
     "name": "stdout",
     "output_type": "stream",
     "text": [
      "/vol/storage/data/simulations/test/power2/Heart_1_ref.h5mu /vol/storage/data/simulations/test/Heart_1.h5mu\n"
     ]
    },
    {
     "name": "stderr",
     "output_type": "stream",
     "text": [
      "INFO:root:3198 training genes are saved in `uns``training_genes` of both single cell and spatial Anndatas.\n",
      "INFO:root:3198 overlapped genes are saved in `uns``overlap_genes` of both single cell and spatial Anndatas.\n",
      "INFO:root:uniform based density prior is calculated and saved in `obs``uniform_density` of the spatial Anndata.\n",
      "INFO:root:rna count based density prior is calculated and saved in `obs``rna_count_based_density` of the spatial Anndata.\n",
      "INFO:root:Allocate tensors for mapping.\n",
      "INFO:root:Begin training with 3198 genes and rna_count_based density_prior in cells mode...\n",
      "INFO:root:Printing scores every 100 epochs.\n"
     ]
    },
    {
     "name": "stdout",
     "output_type": "stream",
     "text": [
      "Score: 0.312, KL reg: 0.278\n",
      "Score: 0.790, KL reg: 0.002\n",
      "Score: 0.798, KL reg: 0.002\n",
      "Score: 0.800, KL reg: 0.002\n",
      "Score: 0.801, KL reg: 0.002\n",
      "Score: 0.801, KL reg: 0.002\n",
      "Score: 0.802, KL reg: 0.002\n",
      "Score: 0.802, KL reg: 0.002\n",
      "Score: 0.802, KL reg: 0.002\n",
      "Score: 0.802, KL reg: 0.002\n"
     ]
    },
    {
     "name": "stderr",
     "output_type": "stream",
     "text": [
      "INFO:root:Saving results..\n",
      "INFO:root:spatial prediction dataframe is saved in `obsm` `tangram_ct_pred` of the spatial AnnData.\n",
      "INFO:root:19988 training genes are saved in `uns``training_genes` of both single cell and spatial Anndatas.\n",
      "INFO:root:19988 overlapped genes are saved in `uns``overlap_genes` of both single cell and spatial Anndatas.\n",
      "INFO:root:uniform based density prior is calculated and saved in `obs``uniform_density` of the spatial Anndata.\n",
      "INFO:root:rna count based density prior is calculated and saved in `obs``rna_count_based_density` of the spatial Anndata.\n",
      "INFO:root:Allocate tensors for mapping.\n",
      "INFO:root:Begin training with 19988 genes and rna_count_based density_prior in cells mode...\n",
      "INFO:root:Printing scores every 100 epochs.\n"
     ]
    },
    {
     "name": "stdout",
     "output_type": "stream",
     "text": [
      "Score: 0.410, KL reg: 0.109\n",
      "Score: 0.687, KL reg: 0.000\n",
      "Score: 0.694, KL reg: 0.000\n",
      "Score: 0.695, KL reg: 0.000\n",
      "Score: 0.696, KL reg: 0.000\n",
      "Score: 0.696, KL reg: 0.000\n",
      "Score: 0.696, KL reg: 0.000\n",
      "Score: 0.697, KL reg: 0.000\n",
      "Score: 0.697, KL reg: 0.000\n",
      "Score: 0.697, KL reg: 0.000\n"
     ]
    },
    {
     "name": "stderr",
     "output_type": "stream",
     "text": [
      "INFO:root:Saving results..\n",
      "INFO:root:spatial prediction dataframe is saved in `obsm` `tangram_ct_pred` of the spatial AnnData.\n",
      "INFO:root:19999 training genes are saved in `uns``training_genes` of both single cell and spatial Anndatas.\n",
      "INFO:root:19999 overlapped genes are saved in `uns``overlap_genes` of both single cell and spatial Anndatas.\n",
      "INFO:root:uniform based density prior is calculated and saved in `obs``uniform_density` of the spatial Anndata.\n",
      "INFO:root:rna count based density prior is calculated and saved in `obs``rna_count_based_density` of the spatial Anndata.\n",
      "INFO:root:Allocate tensors for mapping.\n",
      "INFO:root:Begin training with 19999 genes and rna_count_based density_prior in cells mode...\n",
      "INFO:root:Printing scores every 100 epochs.\n"
     ]
    },
    {
     "name": "stdout",
     "output_type": "stream",
     "text": [
      "Score: 0.467, KL reg: 0.112\n",
      "Score: 0.687, KL reg: 0.000\n",
      "Score: 0.693, KL reg: 0.000\n",
      "Score: 0.695, KL reg: 0.000\n",
      "Score: 0.696, KL reg: 0.000\n",
      "Score: 0.696, KL reg: 0.000\n",
      "Score: 0.696, KL reg: 0.000\n",
      "Score: 0.696, KL reg: 0.000\n",
      "Score: 0.696, KL reg: 0.000\n",
      "Score: 0.696, KL reg: 0.000\n"
     ]
    },
    {
     "name": "stderr",
     "output_type": "stream",
     "text": [
      "INFO:root:Saving results..\n",
      "INFO:root:spatial prediction dataframe is saved in `obsm` `tangram_ct_pred` of the spatial AnnData.\n"
     ]
    },
    {
     "name": "stdout",
     "output_type": "stream",
     "text": [
      "/vol/storage/data/simulations/test/power3/Heart_1_ref.h5mu /vol/storage/data/simulations/test/Heart_1.h5mu\n"
     ]
    },
    {
     "name": "stderr",
     "output_type": "stream",
     "text": [
      "INFO:root:3198 training genes are saved in `uns``training_genes` of both single cell and spatial Anndatas.\n",
      "INFO:root:3198 overlapped genes are saved in `uns``overlap_genes` of both single cell and spatial Anndatas.\n",
      "INFO:root:uniform based density prior is calculated and saved in `obs``uniform_density` of the spatial Anndata.\n",
      "INFO:root:rna count based density prior is calculated and saved in `obs``rna_count_based_density` of the spatial Anndata.\n",
      "INFO:root:Allocate tensors for mapping.\n",
      "INFO:root:Begin training with 3198 genes and rna_count_based density_prior in cells mode...\n",
      "INFO:root:Printing scores every 100 epochs.\n"
     ]
    },
    {
     "name": "stdout",
     "output_type": "stream",
     "text": [
      "Score: 0.313, KL reg: 0.279\n",
      "Score: 0.777, KL reg: 0.001\n",
      "Score: 0.786, KL reg: 0.001\n",
      "Score: 0.788, KL reg: 0.001\n",
      "Score: 0.789, KL reg: 0.001\n",
      "Score: 0.790, KL reg: 0.001\n",
      "Score: 0.790, KL reg: 0.001\n",
      "Score: 0.790, KL reg: 0.001\n",
      "Score: 0.791, KL reg: 0.001\n",
      "Score: 0.791, KL reg: 0.001\n"
     ]
    },
    {
     "name": "stderr",
     "output_type": "stream",
     "text": [
      "INFO:root:Saving results..\n",
      "INFO:root:spatial prediction dataframe is saved in `obsm` `tangram_ct_pred` of the spatial AnnData.\n",
      "INFO:root:19988 training genes are saved in `uns``training_genes` of both single cell and spatial Anndatas.\n",
      "INFO:root:19988 overlapped genes are saved in `uns``overlap_genes` of both single cell and spatial Anndatas.\n",
      "INFO:root:uniform based density prior is calculated and saved in `obs``uniform_density` of the spatial Anndata.\n",
      "INFO:root:rna count based density prior is calculated and saved in `obs``rna_count_based_density` of the spatial Anndata.\n",
      "INFO:root:Allocate tensors for mapping.\n",
      "INFO:root:Begin training with 19988 genes and rna_count_based density_prior in cells mode...\n",
      "INFO:root:Printing scores every 100 epochs.\n"
     ]
    },
    {
     "name": "stdout",
     "output_type": "stream",
     "text": [
      "Score: 0.410, KL reg: 0.110\n",
      "Score: 0.631, KL reg: 0.000\n",
      "Score: 0.640, KL reg: 0.000\n",
      "Score: 0.642, KL reg: 0.000\n",
      "Score: 0.642, KL reg: 0.000\n",
      "Score: 0.643, KL reg: 0.000\n",
      "Score: 0.643, KL reg: 0.000\n",
      "Score: 0.643, KL reg: 0.000\n",
      "Score: 0.643, KL reg: 0.000\n",
      "Score: 0.643, KL reg: 0.000\n"
     ]
    },
    {
     "name": "stderr",
     "output_type": "stream",
     "text": [
      "INFO:root:Saving results..\n",
      "INFO:root:spatial prediction dataframe is saved in `obsm` `tangram_ct_pred` of the spatial AnnData.\n",
      "INFO:root:19999 training genes are saved in `uns``training_genes` of both single cell and spatial Anndatas.\n",
      "INFO:root:19999 overlapped genes are saved in `uns``overlap_genes` of both single cell and spatial Anndatas.\n",
      "INFO:root:uniform based density prior is calculated and saved in `obs``uniform_density` of the spatial Anndata.\n",
      "INFO:root:rna count based density prior is calculated and saved in `obs``rna_count_based_density` of the spatial Anndata.\n",
      "INFO:root:Allocate tensors for mapping.\n",
      "INFO:root:Begin training with 19999 genes and rna_count_based density_prior in cells mode...\n",
      "INFO:root:Printing scores every 100 epochs.\n"
     ]
    },
    {
     "name": "stdout",
     "output_type": "stream",
     "text": [
      "Score: 0.467, KL reg: 0.113\n",
      "Score: 0.630, KL reg: 0.000\n",
      "Score: 0.640, KL reg: 0.000\n",
      "Score: 0.642, KL reg: 0.000\n",
      "Score: 0.643, KL reg: 0.000\n",
      "Score: 0.643, KL reg: 0.000\n",
      "Score: 0.643, KL reg: 0.000\n",
      "Score: 0.643, KL reg: 0.000\n",
      "Score: 0.644, KL reg: 0.000\n",
      "Score: 0.644, KL reg: 0.000\n"
     ]
    },
    {
     "name": "stderr",
     "output_type": "stream",
     "text": [
      "INFO:root:Saving results..\n",
      "INFO:root:spatial prediction dataframe is saved in `obsm` `tangram_ct_pred` of the spatial AnnData.\n"
     ]
    },
    {
     "name": "stdout",
     "output_type": "stream",
     "text": [
      "/vol/storage/data/simulations/test/power0/Heart_2_ref.h5mu /vol/storage/data/simulations/test/Heart_2.h5mu\n"
     ]
    },
    {
     "name": "stderr",
     "output_type": "stream",
     "text": [
      "INFO:root:3781 training genes are saved in `uns``training_genes` of both single cell and spatial Anndatas.\n",
      "INFO:root:3781 overlapped genes are saved in `uns``overlap_genes` of both single cell and spatial Anndatas.\n",
      "INFO:root:uniform based density prior is calculated and saved in `obs``uniform_density` of the spatial Anndata.\n",
      "INFO:root:rna count based density prior is calculated and saved in `obs``rna_count_based_density` of the spatial Anndata.\n",
      "INFO:root:Allocate tensors for mapping.\n",
      "INFO:root:Begin training with 3781 genes and rna_count_based density_prior in cells mode...\n",
      "INFO:root:Printing scores every 100 epochs.\n"
     ]
    },
    {
     "name": "stdout",
     "output_type": "stream",
     "text": [
      "Score: 0.410, KL reg: 0.068\n",
      "Score: 0.931, KL reg: 0.000\n",
      "Score: 0.938, KL reg: 0.000\n",
      "Score: 0.940, KL reg: 0.000\n",
      "Score: 0.941, KL reg: 0.000\n",
      "Score: 0.942, KL reg: 0.000\n",
      "Score: 0.942, KL reg: 0.000\n",
      "Score: 0.942, KL reg: 0.000\n",
      "Score: 0.942, KL reg: 0.000\n",
      "Score: 0.942, KL reg: 0.000\n"
     ]
    },
    {
     "name": "stderr",
     "output_type": "stream",
     "text": [
      "INFO:root:Saving results..\n",
      "INFO:root:spatial prediction dataframe is saved in `obsm` `tangram_ct_pred` of the spatial AnnData.\n",
      "INFO:root:20000 training genes are saved in `uns``training_genes` of both single cell and spatial Anndatas.\n",
      "INFO:root:20000 overlapped genes are saved in `uns``overlap_genes` of both single cell and spatial Anndatas.\n",
      "INFO:root:uniform based density prior is calculated and saved in `obs``uniform_density` of the spatial Anndata.\n",
      "INFO:root:rna count based density prior is calculated and saved in `obs``rna_count_based_density` of the spatial Anndata.\n",
      "INFO:root:Allocate tensors for mapping.\n",
      "INFO:root:Begin training with 20000 genes and rna_count_based density_prior in cells mode...\n",
      "INFO:root:Printing scores every 100 epochs.\n"
     ]
    },
    {
     "name": "stdout",
     "output_type": "stream",
     "text": [
      "Score: 0.615, KL reg: 0.044\n",
      "Score: 0.891, KL reg: 0.000\n",
      "Score: 0.899, KL reg: 0.000\n",
      "Score: 0.900, KL reg: 0.000\n",
      "Score: 0.901, KL reg: 0.000\n",
      "Score: 0.901, KL reg: 0.000\n",
      "Score: 0.902, KL reg: 0.000\n",
      "Score: 0.902, KL reg: 0.000\n",
      "Score: 0.902, KL reg: 0.000\n",
      "Score: 0.902, KL reg: 0.000\n"
     ]
    },
    {
     "name": "stderr",
     "output_type": "stream",
     "text": [
      "INFO:root:Saving results..\n",
      "INFO:root:spatial prediction dataframe is saved in `obsm` `tangram_ct_pred` of the spatial AnnData.\n",
      "INFO:root:20000 training genes are saved in `uns``training_genes` of both single cell and spatial Anndatas.\n",
      "INFO:root:20000 overlapped genes are saved in `uns``overlap_genes` of both single cell and spatial Anndatas.\n",
      "INFO:root:uniform based density prior is calculated and saved in `obs``uniform_density` of the spatial Anndata.\n",
      "INFO:root:rna count based density prior is calculated and saved in `obs``rna_count_based_density` of the spatial Anndata.\n",
      "INFO:root:Allocate tensors for mapping.\n",
      "INFO:root:Begin training with 20000 genes and rna_count_based density_prior in cells mode...\n",
      "INFO:root:Printing scores every 100 epochs.\n"
     ]
    },
    {
     "name": "stdout",
     "output_type": "stream",
     "text": [
      "Score: 0.692, KL reg: 0.047\n",
      "Score: 0.904, KL reg: 0.000\n",
      "Score: 0.913, KL reg: 0.000\n",
      "Score: 0.915, KL reg: 0.000\n",
      "Score: 0.915, KL reg: 0.000\n",
      "Score: 0.916, KL reg: 0.000\n",
      "Score: 0.916, KL reg: 0.000\n",
      "Score: 0.916, KL reg: 0.000\n",
      "Score: 0.916, KL reg: 0.000\n",
      "Score: 0.917, KL reg: 0.000\n"
     ]
    },
    {
     "name": "stderr",
     "output_type": "stream",
     "text": [
      "INFO:root:Saving results..\n",
      "INFO:root:spatial prediction dataframe is saved in `obsm` `tangram_ct_pred` of the spatial AnnData.\n"
     ]
    },
    {
     "name": "stdout",
     "output_type": "stream",
     "text": [
      "/vol/storage/data/simulations/test/power1/Heart_2_ref.h5mu /vol/storage/data/simulations/test/Heart_2.h5mu\n"
     ]
    },
    {
     "name": "stderr",
     "output_type": "stream",
     "text": [
      "INFO:root:3781 training genes are saved in `uns``training_genes` of both single cell and spatial Anndatas.\n",
      "INFO:root:3781 overlapped genes are saved in `uns``overlap_genes` of both single cell and spatial Anndatas.\n",
      "INFO:root:uniform based density prior is calculated and saved in `obs``uniform_density` of the spatial Anndata.\n",
      "INFO:root:rna count based density prior is calculated and saved in `obs``rna_count_based_density` of the spatial Anndata.\n",
      "INFO:root:Allocate tensors for mapping.\n",
      "INFO:root:Begin training with 3781 genes and rna_count_based density_prior in cells mode...\n",
      "INFO:root:Printing scores every 100 epochs.\n"
     ]
    },
    {
     "name": "stdout",
     "output_type": "stream",
     "text": [
      "Score: 0.410, KL reg: 0.068\n",
      "Score: 0.920, KL reg: 0.000\n",
      "Score: 0.928, KL reg: 0.000\n",
      "Score: 0.930, KL reg: 0.000\n",
      "Score: 0.931, KL reg: 0.000\n",
      "Score: 0.932, KL reg: 0.000\n",
      "Score: 0.932, KL reg: 0.000\n",
      "Score: 0.933, KL reg: 0.000\n",
      "Score: 0.933, KL reg: 0.000\n",
      "Score: 0.933, KL reg: 0.000\n"
     ]
    },
    {
     "name": "stderr",
     "output_type": "stream",
     "text": [
      "INFO:root:Saving results..\n",
      "INFO:root:spatial prediction dataframe is saved in `obsm` `tangram_ct_pred` of the spatial AnnData.\n"
     ]
    },
    {
     "ename": "KeyboardInterrupt",
     "evalue": "",
     "output_type": "error",
     "traceback": [
      "\u001b[0;31m---------------------------------------------------------------------------\u001b[0m",
      "\u001b[0;31mKeyboardInterrupt\u001b[0m                         Traceback (most recent call last)",
      "Cell \u001b[0;32mIn[9], line 7\u001b[0m\n\u001b[1;32m      5\u001b[0m \u001b[38;5;28mprint\u001b[39m(ref_path, spatial_paths[j])\n\u001b[1;32m      6\u001b[0m run_tangram(ref_path, spatial_paths[j], \u001b[38;5;124m\"\u001b[39m\u001b[38;5;124mrna\u001b[39m\u001b[38;5;124m\"\u001b[39m)\n\u001b[0;32m----> 7\u001b[0m \u001b[43mrun_tangram\u001b[49m\u001b[43m(\u001b[49m\u001b[43mref_path\u001b[49m\u001b[43m,\u001b[49m\u001b[43m \u001b[49m\u001b[43mspatial_paths\u001b[49m\u001b[43m[\u001b[49m\u001b[43mj\u001b[49m\u001b[43m]\u001b[49m\u001b[43m,\u001b[49m\u001b[43m \u001b[49m\u001b[38;5;124;43m\"\u001b[39;49m\u001b[38;5;124;43matac\u001b[39;49m\u001b[38;5;124;43m\"\u001b[39;49m\u001b[43m)\u001b[49m\n",
      "Cell \u001b[0;32mIn[7], line 14\u001b[0m, in \u001b[0;36mrun_tangram\u001b[0;34m(ref_path, spatial_path, modality)\u001b[0m\n\u001b[1;32m     12\u001b[0m ex\u001b[38;5;241m.\u001b[39minit_dataset(mdata_spatial_path, mdata_reference_path, var_HVF_column, labels_key, modality)\n\u001b[1;32m     13\u001b[0m ex\u001b[38;5;241m.\u001b[39minit_method(method_id)\n\u001b[0;32m---> 14\u001b[0m \u001b[43mex\u001b[49m\u001b[38;5;241;43m.\u001b[39;49m\u001b[43mrun\u001b[49m\u001b[43m(\u001b[49m\u001b[43moutput_path\u001b[49m\u001b[43m)\u001b[49m\n\u001b[1;32m     15\u001b[0m \u001b[38;5;28;01mif\u001b[39;00m modality \u001b[38;5;241m==\u001b[39m \u001b[38;5;124m\"\u001b[39m\u001b[38;5;124matac\u001b[39m\u001b[38;5;124m\"\u001b[39m: \n\u001b[1;32m     16\u001b[0m     var_HVF_column \u001b[38;5;241m=\u001b[39m \u001b[38;5;124m\"\u001b[39m\u001b[38;5;124mhighly_accessible\u001b[39m\u001b[38;5;124m\"\u001b[39m\n",
      "Cell \u001b[0;32mIn[2], line 38\u001b[0m, in \u001b[0;36mExperimentWrapper.run\u001b[0;34m(self, output_path)\u001b[0m\n\u001b[1;32m     35\u001b[0m dataset_var_column \u001b[38;5;241m=\u001b[39m dataset \u001b[38;5;241m+\u001b[39m \u001b[38;5;124m\"\u001b[39m\u001b[38;5;124m_\u001b[39m\u001b[38;5;124m\"\u001b[39m \u001b[38;5;241m+\u001b[39m \u001b[38;5;28mself\u001b[39m\u001b[38;5;241m.\u001b[39mvar_HVF_column\n\u001b[1;32m     36\u001b[0m output_path \u001b[38;5;241m=\u001b[39m output_path \u001b[38;5;241m+\u001b[39m \u001b[38;5;28mself\u001b[39m\u001b[38;5;241m.\u001b[39mmodality \u001b[38;5;241m+\u001b[39m \u001b[38;5;124m\"\u001b[39m\u001b[38;5;124m/\u001b[39m\u001b[38;5;124m\"\u001b[39m \u001b[38;5;241m+\u001b[39m dataset_var_column\n\u001b[0;32m---> 38\u001b[0m \u001b[43mtangram\u001b[49m\u001b[43m(\u001b[49m\n\u001b[1;32m     39\u001b[0m \u001b[43m    \u001b[49m\u001b[43madata_spatial\u001b[49m\u001b[38;5;241;43m=\u001b[39;49m\u001b[38;5;28;43mself\u001b[39;49m\u001b[38;5;241;43m.\u001b[39;49m\u001b[43madata_spatial\u001b[49m\u001b[43m,\u001b[49m\n\u001b[1;32m     40\u001b[0m \u001b[43m    \u001b[49m\u001b[43madata_ref\u001b[49m\u001b[38;5;241;43m=\u001b[39;49m\u001b[38;5;28;43mself\u001b[39;49m\u001b[38;5;241;43m.\u001b[39;49m\u001b[43madata_reference\u001b[49m\u001b[43m,\u001b[49m\n\u001b[1;32m     41\u001b[0m \u001b[43m    \u001b[49m\u001b[43mlabels_key\u001b[49m\u001b[38;5;241;43m=\u001b[39;49m\u001b[38;5;28;43mself\u001b[39;49m\u001b[38;5;241;43m.\u001b[39;49m\u001b[43mlabels_key\u001b[49m\u001b[43m,\u001b[49m\n\u001b[1;32m     42\u001b[0m \u001b[43m    \u001b[49m\u001b[43mrun_rank_genes\u001b[49m\u001b[38;5;241;43m=\u001b[39;49m\u001b[38;5;28;43;01mFalse\u001b[39;49;00m\u001b[43m,\u001b[49m\n\u001b[1;32m     43\u001b[0m \u001b[43m    \u001b[49m\u001b[43mresult_path\u001b[49m\u001b[38;5;241;43m=\u001b[39;49m\u001b[43moutput_path\u001b[49m\u001b[43m,\u001b[49m\n\u001b[1;32m     44\u001b[0m \u001b[43m    \u001b[49m\u001b[43mdevice\u001b[49m\u001b[38;5;241;43m=\u001b[39;49m\u001b[38;5;124;43m\"\u001b[39;49m\u001b[38;5;124;43mcuda:0\u001b[39;49m\u001b[38;5;124;43m\"\u001b[39;49m\u001b[43m,\u001b[49m\n\u001b[1;32m     45\u001b[0m \u001b[43m    \u001b[49m\u001b[43mnum_epochs\u001b[49m\u001b[38;5;241;43m=\u001b[39;49m\u001b[38;5;241;43m1000\u001b[39;49m\u001b[43m,\u001b[49m\n\u001b[1;32m     46\u001b[0m \u001b[43m\u001b[49m\u001b[43m)\u001b[49m\n\u001b[1;32m     48\u001b[0m results \u001b[38;5;241m=\u001b[39m {\n\u001b[1;32m     49\u001b[0m     \u001b[38;5;124m\"\u001b[39m\u001b[38;5;124mresult_path\u001b[39m\u001b[38;5;124m\"\u001b[39m: output_path \u001b[38;5;241m+\u001b[39m \u001b[38;5;124m\"\u001b[39m\u001b[38;5;124m/tangram_ct_pred.csv\u001b[39m\u001b[38;5;124m\"\u001b[39m,\n\u001b[1;32m     50\u001b[0m     \u001b[38;5;124m\"\u001b[39m\u001b[38;5;124mdataset\u001b[39m\u001b[38;5;124m\"\u001b[39m: dataset,\n\u001b[1;32m     51\u001b[0m     \u001b[38;5;124m\"\u001b[39m\u001b[38;5;124mmodality\u001b[39m\u001b[38;5;124m\"\u001b[39m: \u001b[38;5;28mself\u001b[39m\u001b[38;5;241m.\u001b[39mmodality,\n\u001b[1;32m     52\u001b[0m     \u001b[38;5;124m\"\u001b[39m\u001b[38;5;124mvar_HVF_column\u001b[39m\u001b[38;5;124m\"\u001b[39m: \u001b[38;5;28mself\u001b[39m\u001b[38;5;241m.\u001b[39mvar_HVF_column,\n\u001b[1;32m     53\u001b[0m }\n\u001b[1;32m     54\u001b[0m \u001b[38;5;28;01mreturn\u001b[39;00m results\n",
      "File \u001b[0;32m/vol/storage/ouologuems/deconvATAC/src/deconvatac/tl/tangram.py:55\u001b[0m, in \u001b[0;36mtangram\u001b[0;34m(adata_spatial, adata_ref, labels_key, run_rank_genes, layer_rank_genes, num_epochs, device, return_adatas, result_path, **kwargs)\u001b[0m\n\u001b[1;32m     19\u001b[0m \u001b[38;5;250m\u001b[39m\u001b[38;5;124;03m\"\"\"\u001b[39;00m\n\u001b[1;32m     20\u001b[0m \u001b[38;5;124;03mRun Tangram\u001b[39;00m\n\u001b[1;32m     21\u001b[0m \n\u001b[0;32m   (...)\u001b[0m\n\u001b[1;32m     51\u001b[0m \u001b[38;5;124;03m- If return_adatas=True, returns tupel (adata_spatial, adata_ref) with saved deconvolution results.\u001b[39;00m\n\u001b[1;32m     52\u001b[0m \u001b[38;5;124;03m\"\"\"\u001b[39;00m\n\u001b[1;32m     53\u001b[0m \u001b[38;5;28;01mimport\u001b[39;00m \u001b[38;5;21;01mtangram\u001b[39;00m \u001b[38;5;28;01mas\u001b[39;00m \u001b[38;5;21;01mtg\u001b[39;00m\n\u001b[0;32m---> 55\u001b[0m adata_ref_copy \u001b[38;5;241m=\u001b[39m \u001b[43madata_ref\u001b[49m\u001b[38;5;241;43m.\u001b[39;49m\u001b[43mcopy\u001b[49m\u001b[43m(\u001b[49m\u001b[43m)\u001b[49m\n\u001b[1;32m     56\u001b[0m adata_spatial_copy \u001b[38;5;241m=\u001b[39m adata_spatial\u001b[38;5;241m.\u001b[39mcopy()\n\u001b[1;32m     58\u001b[0m \u001b[38;5;66;03m# 1. Preprocess anndatas\u001b[39;00m\n",
      "File \u001b[0;32m/vol/storage/miniconda3/envs/cell2loc_env/lib/python3.9/site-packages/anndata/_core/anndata.py:1521\u001b[0m, in \u001b[0;36mAnnData.copy\u001b[0;34m(self, filename)\u001b[0m\n\u001b[1;32m   1515\u001b[0m \u001b[38;5;28;01mif\u001b[39;00m \u001b[38;5;129;01mnot\u001b[39;00m \u001b[38;5;28mself\u001b[39m\u001b[38;5;241m.\u001b[39misbacked:\n\u001b[1;32m   1516\u001b[0m     \u001b[38;5;28;01mif\u001b[39;00m \u001b[38;5;28mself\u001b[39m\u001b[38;5;241m.\u001b[39mis_view \u001b[38;5;129;01mand\u001b[39;00m \u001b[38;5;28mself\u001b[39m\u001b[38;5;241m.\u001b[39m_has_X():\n\u001b[1;32m   1517\u001b[0m         \u001b[38;5;66;03m# TODO: How do I unambiguously check if this is a copy?\u001b[39;00m\n\u001b[1;32m   1518\u001b[0m         \u001b[38;5;66;03m# Subsetting this way means we don’t have to have a view type\u001b[39;00m\n\u001b[1;32m   1519\u001b[0m         \u001b[38;5;66;03m# defined for the matrix, which is needed for some of the\u001b[39;00m\n\u001b[1;32m   1520\u001b[0m         \u001b[38;5;66;03m# current distributed backend. Specifically Dask.\u001b[39;00m\n\u001b[0;32m-> 1521\u001b[0m         \u001b[38;5;28;01mreturn\u001b[39;00m \u001b[38;5;28;43mself\u001b[39;49m\u001b[38;5;241;43m.\u001b[39;49m\u001b[43m_mutated_copy\u001b[49m\u001b[43m(\u001b[49m\n\u001b[1;32m   1522\u001b[0m \u001b[43m            \u001b[49m\u001b[43mX\u001b[49m\u001b[38;5;241;43m=\u001b[39;49m\u001b[43m_subset\u001b[49m\u001b[43m(\u001b[49m\u001b[38;5;28;43mself\u001b[39;49m\u001b[38;5;241;43m.\u001b[39;49m\u001b[43m_adata_ref\u001b[49m\u001b[38;5;241;43m.\u001b[39;49m\u001b[43mX\u001b[49m\u001b[43m,\u001b[49m\u001b[43m \u001b[49m\u001b[43m(\u001b[49m\u001b[38;5;28;43mself\u001b[39;49m\u001b[38;5;241;43m.\u001b[39;49m\u001b[43m_oidx\u001b[49m\u001b[43m,\u001b[49m\u001b[43m \u001b[49m\u001b[38;5;28;43mself\u001b[39;49m\u001b[38;5;241;43m.\u001b[39;49m\u001b[43m_vidx\u001b[49m\u001b[43m)\u001b[49m\u001b[43m)\u001b[49m\u001b[38;5;241;43m.\u001b[39;49m\u001b[43mcopy\u001b[49m\u001b[43m(\u001b[49m\u001b[43m)\u001b[49m\n\u001b[1;32m   1523\u001b[0m \u001b[43m        \u001b[49m\u001b[43m)\u001b[49m\n\u001b[1;32m   1524\u001b[0m     \u001b[38;5;28;01melse\u001b[39;00m:\n\u001b[1;32m   1525\u001b[0m         \u001b[38;5;28;01mreturn\u001b[39;00m \u001b[38;5;28mself\u001b[39m\u001b[38;5;241m.\u001b[39m_mutated_copy()\n",
      "File \u001b[0;32m/vol/storage/miniconda3/envs/cell2loc_env/lib/python3.9/site-packages/anndata/_core/anndata.py:1453\u001b[0m, in \u001b[0;36mAnnData._mutated_copy\u001b[0;34m(self, **kwargs)\u001b[0m\n\u001b[1;32m   1451\u001b[0m         new[key] \u001b[38;5;241m=\u001b[39m kwargs[key]\n\u001b[1;32m   1452\u001b[0m     \u001b[38;5;28;01melse\u001b[39;00m:\n\u001b[0;32m-> 1453\u001b[0m         new[key] \u001b[38;5;241m=\u001b[39m \u001b[38;5;28;43mgetattr\u001b[39;49m\u001b[43m(\u001b[49m\u001b[38;5;28;43mself\u001b[39;49m\u001b[43m,\u001b[49m\u001b[43m \u001b[49m\u001b[43mkey\u001b[49m\u001b[43m)\u001b[49m\u001b[38;5;241;43m.\u001b[39;49m\u001b[43mcopy\u001b[49m\u001b[43m(\u001b[49m\u001b[43m)\u001b[49m\n\u001b[1;32m   1454\u001b[0m \u001b[38;5;28;01mif\u001b[39;00m \u001b[38;5;124m\"\u001b[39m\u001b[38;5;124mX\u001b[39m\u001b[38;5;124m\"\u001b[39m \u001b[38;5;129;01min\u001b[39;00m kwargs:\n\u001b[1;32m   1455\u001b[0m     new[\u001b[38;5;124m\"\u001b[39m\u001b[38;5;124mX\u001b[39m\u001b[38;5;124m\"\u001b[39m] \u001b[38;5;241m=\u001b[39m kwargs[\u001b[38;5;124m\"\u001b[39m\u001b[38;5;124mX\u001b[39m\u001b[38;5;124m\"\u001b[39m]\n",
      "File \u001b[0;32m/vol/storage/miniconda3/envs/cell2loc_env/lib/python3.9/site-packages/anndata/_core/aligned_mapping.py:298\u001b[0m, in \u001b[0;36mLayersBase.copy\u001b[0;34m(self)\u001b[0m\n\u001b[1;32m    296\u001b[0m \u001b[38;5;28;01mdef\u001b[39;00m \u001b[38;5;21mcopy\u001b[39m(\u001b[38;5;28mself\u001b[39m) \u001b[38;5;241m-\u001b[39m\u001b[38;5;241m>\u001b[39m \u001b[38;5;124m\"\u001b[39m\u001b[38;5;124mLayers\u001b[39m\u001b[38;5;124m\"\u001b[39m:\n\u001b[1;32m    297\u001b[0m     d \u001b[38;5;241m=\u001b[39m \u001b[38;5;28mself\u001b[39m\u001b[38;5;241m.\u001b[39m_actual_class(\u001b[38;5;28mself\u001b[39m\u001b[38;5;241m.\u001b[39mparent)\n\u001b[0;32m--> 298\u001b[0m     \u001b[38;5;28;01mfor\u001b[39;00m k, v \u001b[38;5;129;01min\u001b[39;00m \u001b[38;5;28mself\u001b[39m\u001b[38;5;241m.\u001b[39mitems():\n\u001b[1;32m    299\u001b[0m         d[k] \u001b[38;5;241m=\u001b[39m v\u001b[38;5;241m.\u001b[39mcopy()\n\u001b[1;32m    300\u001b[0m     \u001b[38;5;28;01mreturn\u001b[39;00m d\n",
      "File \u001b[0;32m/vol/storage/miniconda3/envs/cell2loc_env/lib/python3.9/_collections_abc.py:851\u001b[0m, in \u001b[0;36mItemsView.__iter__\u001b[0;34m(self)\u001b[0m\n\u001b[1;32m    849\u001b[0m \u001b[38;5;28;01mdef\u001b[39;00m \u001b[38;5;21m__iter__\u001b[39m(\u001b[38;5;28mself\u001b[39m):\n\u001b[1;32m    850\u001b[0m     \u001b[38;5;28;01mfor\u001b[39;00m key \u001b[38;5;129;01min\u001b[39;00m \u001b[38;5;28mself\u001b[39m\u001b[38;5;241m.\u001b[39m_mapping:\n\u001b[0;32m--> 851\u001b[0m         \u001b[38;5;28;01myield\u001b[39;00m (key, \u001b[38;5;28;43mself\u001b[39;49m\u001b[38;5;241;43m.\u001b[39;49m\u001b[43m_mapping\u001b[49m\u001b[43m[\u001b[49m\u001b[43mkey\u001b[49m\u001b[43m]\u001b[49m)\n",
      "File \u001b[0;32m/vol/storage/miniconda3/envs/cell2loc_env/lib/python3.9/site-packages/anndata/_core/aligned_mapping.py:143\u001b[0m, in \u001b[0;36mAlignedViewMixin.__getitem__\u001b[0;34m(self, key)\u001b[0m\n\u001b[1;32m    141\u001b[0m \u001b[38;5;28;01mdef\u001b[39;00m \u001b[38;5;21m__getitem__\u001b[39m(\u001b[38;5;28mself\u001b[39m, key: \u001b[38;5;28mstr\u001b[39m) \u001b[38;5;241m-\u001b[39m\u001b[38;5;241m>\u001b[39m V:\n\u001b[1;32m    142\u001b[0m     \u001b[38;5;28;01mreturn\u001b[39;00m as_view(\n\u001b[0;32m--> 143\u001b[0m         \u001b[43m_subset\u001b[49m\u001b[43m(\u001b[49m\u001b[38;5;28;43mself\u001b[39;49m\u001b[38;5;241;43m.\u001b[39;49m\u001b[43mparent_mapping\u001b[49m\u001b[43m[\u001b[49m\u001b[43mkey\u001b[49m\u001b[43m]\u001b[49m\u001b[43m,\u001b[49m\u001b[43m \u001b[49m\u001b[38;5;28;43mself\u001b[39;49m\u001b[38;5;241;43m.\u001b[39;49m\u001b[43msubset_idx\u001b[49m\u001b[43m)\u001b[49m,\n\u001b[1;32m    144\u001b[0m         ElementRef(\u001b[38;5;28mself\u001b[39m\u001b[38;5;241m.\u001b[39mparent, \u001b[38;5;28mself\u001b[39m\u001b[38;5;241m.\u001b[39mattrname, (key,)),\n\u001b[1;32m    145\u001b[0m     )\n",
      "File \u001b[0;32m/vol/storage/miniconda3/envs/cell2loc_env/lib/python3.9/functools.py:888\u001b[0m, in \u001b[0;36msingledispatch.<locals>.wrapper\u001b[0;34m(*args, **kw)\u001b[0m\n\u001b[1;32m    884\u001b[0m \u001b[38;5;28;01mif\u001b[39;00m \u001b[38;5;129;01mnot\u001b[39;00m args:\n\u001b[1;32m    885\u001b[0m     \u001b[38;5;28;01mraise\u001b[39;00m \u001b[38;5;167;01mTypeError\u001b[39;00m(\u001b[38;5;124mf\u001b[39m\u001b[38;5;124m'\u001b[39m\u001b[38;5;132;01m{\u001b[39;00mfuncname\u001b[38;5;132;01m}\u001b[39;00m\u001b[38;5;124m requires at least \u001b[39m\u001b[38;5;124m'\u001b[39m\n\u001b[1;32m    886\u001b[0m                     \u001b[38;5;124m'\u001b[39m\u001b[38;5;124m1 positional argument\u001b[39m\u001b[38;5;124m'\u001b[39m)\n\u001b[0;32m--> 888\u001b[0m \u001b[38;5;28;01mreturn\u001b[39;00m \u001b[43mdispatch\u001b[49m\u001b[43m(\u001b[49m\u001b[43margs\u001b[49m\u001b[43m[\u001b[49m\u001b[38;5;241;43m0\u001b[39;49m\u001b[43m]\u001b[49m\u001b[38;5;241;43m.\u001b[39;49m\u001b[38;5;18;43m__class__\u001b[39;49m\u001b[43m)\u001b[49m\u001b[43m(\u001b[49m\u001b[38;5;241;43m*\u001b[39;49m\u001b[43margs\u001b[49m\u001b[43m,\u001b[49m\u001b[43m \u001b[49m\u001b[38;5;241;43m*\u001b[39;49m\u001b[38;5;241;43m*\u001b[39;49m\u001b[43mkw\u001b[49m\u001b[43m)\u001b[49m\n",
      "File \u001b[0;32m/vol/storage/miniconda3/envs/cell2loc_env/lib/python3.9/site-packages/anndata/_core/index.py:140\u001b[0m, in \u001b[0;36m_subset_spmatrix\u001b[0;34m(a, subset_idx)\u001b[0m\n\u001b[1;32m    138\u001b[0m \u001b[38;5;28;01mif\u001b[39;00m \u001b[38;5;28mlen\u001b[39m(subset_idx) \u001b[38;5;241m>\u001b[39m \u001b[38;5;241m1\u001b[39m \u001b[38;5;129;01mand\u001b[39;00m \u001b[38;5;28mall\u001b[39m(\u001b[38;5;28misinstance\u001b[39m(x, cabc\u001b[38;5;241m.\u001b[39mIterable) \u001b[38;5;28;01mfor\u001b[39;00m x \u001b[38;5;129;01min\u001b[39;00m subset_idx):\n\u001b[1;32m    139\u001b[0m     subset_idx \u001b[38;5;241m=\u001b[39m (subset_idx[\u001b[38;5;241m0\u001b[39m]\u001b[38;5;241m.\u001b[39mreshape(\u001b[38;5;241m-\u001b[39m\u001b[38;5;241m1\u001b[39m, \u001b[38;5;241m1\u001b[39m), \u001b[38;5;241m*\u001b[39msubset_idx[\u001b[38;5;241m1\u001b[39m:])\n\u001b[0;32m--> 140\u001b[0m \u001b[38;5;28;01mreturn\u001b[39;00m \u001b[43ma\u001b[49m\u001b[43m[\u001b[49m\u001b[43msubset_idx\u001b[49m\u001b[43m]\u001b[49m\n",
      "File \u001b[0;32m/vol/storage/miniconda3/envs/cell2loc_env/lib/python3.9/site-packages/scipy/sparse/_index.py:68\u001b[0m, in \u001b[0;36mIndexMixin.__getitem__\u001b[0;34m(self, key)\u001b[0m\n\u001b[1;32m     66\u001b[0m         \u001b[38;5;28;01mreturn\u001b[39;00m \u001b[38;5;28mself\u001b[39m\u001b[38;5;241m.\u001b[39m_get_sliceXslice(row, col)\n\u001b[1;32m     67\u001b[0m     \u001b[38;5;28;01melif\u001b[39;00m col\u001b[38;5;241m.\u001b[39mndim \u001b[38;5;241m==\u001b[39m \u001b[38;5;241m1\u001b[39m:\n\u001b[0;32m---> 68\u001b[0m         \u001b[38;5;28;01mreturn\u001b[39;00m \u001b[38;5;28;43mself\u001b[39;49m\u001b[38;5;241;43m.\u001b[39;49m\u001b[43m_get_sliceXarray\u001b[49m\u001b[43m(\u001b[49m\u001b[43mrow\u001b[49m\u001b[43m,\u001b[49m\u001b[43m \u001b[49m\u001b[43mcol\u001b[49m\u001b[43m)\u001b[49m\n\u001b[1;32m     69\u001b[0m     \u001b[38;5;28;01mraise\u001b[39;00m \u001b[38;5;167;01mIndexError\u001b[39;00m(\u001b[38;5;124m'\u001b[39m\u001b[38;5;124mindex results in >2 dimensions\u001b[39m\u001b[38;5;124m'\u001b[39m)\n\u001b[1;32m     70\u001b[0m \u001b[38;5;28;01melif\u001b[39;00m row\u001b[38;5;241m.\u001b[39mndim \u001b[38;5;241m==\u001b[39m \u001b[38;5;241m1\u001b[39m:\n",
      "File \u001b[0;32m/vol/storage/miniconda3/envs/cell2loc_env/lib/python3.9/site-packages/scipy/sparse/_csr.py:326\u001b[0m, in \u001b[0;36m_csr_base._get_sliceXarray\u001b[0;34m(self, row, col)\u001b[0m\n\u001b[1;32m    325\u001b[0m \u001b[38;5;28;01mdef\u001b[39;00m \u001b[38;5;21m_get_sliceXarray\u001b[39m(\u001b[38;5;28mself\u001b[39m, row, col):\n\u001b[0;32m--> 326\u001b[0m     \u001b[38;5;28;01mreturn\u001b[39;00m \u001b[38;5;28;43mself\u001b[39;49m\u001b[38;5;241;43m.\u001b[39;49m\u001b[43m_major_slice\u001b[49m\u001b[43m(\u001b[49m\u001b[43mrow\u001b[49m\u001b[43m)\u001b[49m\u001b[38;5;241;43m.\u001b[39;49m\u001b[43m_minor_index_fancy\u001b[49m\u001b[43m(\u001b[49m\u001b[43mcol\u001b[49m\u001b[43m)\u001b[49m\n",
      "File \u001b[0;32m/vol/storage/miniconda3/envs/cell2loc_env/lib/python3.9/site-packages/scipy/sparse/_compressed.py:776\u001b[0m, in \u001b[0;36m_cs_matrix._minor_index_fancy\u001b[0;34m(self, idx)\u001b[0m\n\u001b[1;32m    774\u001b[0m res_indices \u001b[38;5;241m=\u001b[39m np\u001b[38;5;241m.\u001b[39mempty(nnz, dtype\u001b[38;5;241m=\u001b[39midx_dtype)\n\u001b[1;32m    775\u001b[0m res_data \u001b[38;5;241m=\u001b[39m np\u001b[38;5;241m.\u001b[39mempty(nnz, dtype\u001b[38;5;241m=\u001b[39m\u001b[38;5;28mself\u001b[39m\u001b[38;5;241m.\u001b[39mdtype)\n\u001b[0;32m--> 776\u001b[0m \u001b[43mcsr_column_index2\u001b[49m\u001b[43m(\u001b[49m\u001b[43mcol_order\u001b[49m\u001b[43m,\u001b[49m\u001b[43m \u001b[49m\u001b[43mcol_offsets\u001b[49m\u001b[43m,\u001b[49m\u001b[43m \u001b[49m\u001b[38;5;28;43mlen\u001b[39;49m\u001b[43m(\u001b[49m\u001b[38;5;28;43mself\u001b[39;49m\u001b[38;5;241;43m.\u001b[39;49m\u001b[43mindices\u001b[49m\u001b[43m)\u001b[49m\u001b[43m,\u001b[49m\n\u001b[1;32m    777\u001b[0m \u001b[43m                  \u001b[49m\u001b[38;5;28;43mself\u001b[39;49m\u001b[38;5;241;43m.\u001b[39;49m\u001b[43mindices\u001b[49m\u001b[43m,\u001b[49m\u001b[43m \u001b[49m\u001b[38;5;28;43mself\u001b[39;49m\u001b[38;5;241;43m.\u001b[39;49m\u001b[43mdata\u001b[49m\u001b[43m,\u001b[49m\u001b[43m \u001b[49m\u001b[43mres_indices\u001b[49m\u001b[43m,\u001b[49m\u001b[43m \u001b[49m\u001b[43mres_data\u001b[49m\u001b[43m)\u001b[49m\n\u001b[1;32m    778\u001b[0m \u001b[38;5;28;01mreturn\u001b[39;00m \u001b[38;5;28mself\u001b[39m\u001b[38;5;241m.\u001b[39m\u001b[38;5;18m__class__\u001b[39m((res_data, res_indices, res_indptr),\n\u001b[1;32m    779\u001b[0m                       shape\u001b[38;5;241m=\u001b[39mnew_shape, copy\u001b[38;5;241m=\u001b[39m\u001b[38;5;28;01mFalse\u001b[39;00m)\n",
      "\u001b[0;31mKeyboardInterrupt\u001b[0m: "
     ]
    }
   ],
   "source": [
    "power = [0,1,2,3]\n",
    "for j in range(len(spatial_paths)):\n",
    "    for i in range(len(power)): \n",
    "        ref_path = \"/vol/storage/data/simulations/test/power\" + str(power[i]) + \"/\"+ spatial_paths[j].split(\"/\")[-1].split(\".\")[0] + \"_ref.h5mu\"\n",
    "        print(ref_path, spatial_paths[j])\n",
    "        run_tangram(ref_path, spatial_paths[j], \"rna\")\n",
    "        run_tangram(ref_path, spatial_paths[j], \"atac\")"
   ]
  },
  {
   "cell_type": "markdown",
   "metadata": {},
   "source": [
    "## Evaluate results"
   ]
  },
  {
   "cell_type": "code",
   "execution_count": 28,
   "metadata": {},
   "outputs": [],
   "source": [
    "data_path = \"/vol/storage/data/deconvolution_results/test2\"\n",
    "methods = [\"tangram\"]\n",
    "modalities = [\"atac\", \"rna\"]"
   ]
  },
  {
   "cell_type": "code",
   "execution_count": 29,
   "metadata": {},
   "outputs": [
    {
     "data": {
      "text/html": [
       "<div>\n",
       "<style scoped>\n",
       "    .dataframe tbody tr th:only-of-type {\n",
       "        vertical-align: middle;\n",
       "    }\n",
       "\n",
       "    .dataframe tbody tr th {\n",
       "        vertical-align: top;\n",
       "    }\n",
       "\n",
       "    .dataframe thead th {\n",
       "        text-align: right;\n",
       "    }\n",
       "</style>\n",
       "<table border=\"1\" class=\"dataframe\">\n",
       "  <thead>\n",
       "    <tr style=\"text-align: right;\">\n",
       "      <th></th>\n",
       "      <th>path</th>\n",
       "    </tr>\n",
       "  </thead>\n",
       "  <tbody>\n",
       "    <tr>\n",
       "      <th>0</th>\n",
       "      <td>/vol/storage/data/deconvolution_results/test2/...</td>\n",
       "    </tr>\n",
       "    <tr>\n",
       "      <th>1</th>\n",
       "      <td>/vol/storage/data/deconvolution_results/test2/...</td>\n",
       "    </tr>\n",
       "    <tr>\n",
       "      <th>2</th>\n",
       "      <td>/vol/storage/data/deconvolution_results/test2/...</td>\n",
       "    </tr>\n",
       "    <tr>\n",
       "      <th>3</th>\n",
       "      <td>/vol/storage/data/deconvolution_results/test2/...</td>\n",
       "    </tr>\n",
       "    <tr>\n",
       "      <th>4</th>\n",
       "      <td>/vol/storage/data/deconvolution_results/test2/...</td>\n",
       "    </tr>\n",
       "    <tr>\n",
       "      <th>5</th>\n",
       "      <td>/vol/storage/data/deconvolution_results/test2/...</td>\n",
       "    </tr>\n",
       "    <tr>\n",
       "      <th>6</th>\n",
       "      <td>/vol/storage/data/deconvolution_results/test2/...</td>\n",
       "    </tr>\n",
       "    <tr>\n",
       "      <th>7</th>\n",
       "      <td>/vol/storage/data/deconvolution_results/test2/...</td>\n",
       "    </tr>\n",
       "    <tr>\n",
       "      <th>0</th>\n",
       "      <td>/vol/storage/data/deconvolution_results/test2/...</td>\n",
       "    </tr>\n",
       "    <tr>\n",
       "      <th>1</th>\n",
       "      <td>/vol/storage/data/deconvolution_results/test2/...</td>\n",
       "    </tr>\n",
       "    <tr>\n",
       "      <th>2</th>\n",
       "      <td>/vol/storage/data/deconvolution_results/test2/...</td>\n",
       "    </tr>\n",
       "    <tr>\n",
       "      <th>3</th>\n",
       "      <td>/vol/storage/data/deconvolution_results/test2/...</td>\n",
       "    </tr>\n",
       "  </tbody>\n",
       "</table>\n",
       "</div>"
      ],
      "text/plain": [
       "                                                path\n",
       "0  /vol/storage/data/deconvolution_results/test2/...\n",
       "1  /vol/storage/data/deconvolution_results/test2/...\n",
       "2  /vol/storage/data/deconvolution_results/test2/...\n",
       "3  /vol/storage/data/deconvolution_results/test2/...\n",
       "4  /vol/storage/data/deconvolution_results/test2/...\n",
       "5  /vol/storage/data/deconvolution_results/test2/...\n",
       "6  /vol/storage/data/deconvolution_results/test2/...\n",
       "7  /vol/storage/data/deconvolution_results/test2/...\n",
       "0  /vol/storage/data/deconvolution_results/test2/...\n",
       "1  /vol/storage/data/deconvolution_results/test2/...\n",
       "2  /vol/storage/data/deconvolution_results/test2/...\n",
       "3  /vol/storage/data/deconvolution_results/test2/..."
      ]
     },
     "execution_count": 29,
     "metadata": {},
     "output_type": "execute_result"
    }
   ],
   "source": [
    "# go over all methods and modalities\n",
    "df = [pd.DataFrame({'path': glob.glob(os.path.join(data_path, modality, \"*\", \"*\"))}) for modality in modalities]\n",
    "df = pd.concat(df)\n",
    "df"
   ]
  },
  {
   "cell_type": "code",
   "execution_count": 30,
   "metadata": {},
   "outputs": [
    {
     "data": {
      "text/html": [
       "<div>\n",
       "<style scoped>\n",
       "    .dataframe tbody tr th:only-of-type {\n",
       "        vertical-align: middle;\n",
       "    }\n",
       "\n",
       "    .dataframe tbody tr th {\n",
       "        vertical-align: top;\n",
       "    }\n",
       "\n",
       "    .dataframe thead th {\n",
       "        text-align: right;\n",
       "    }\n",
       "</style>\n",
       "<table border=\"1\" class=\"dataframe\">\n",
       "  <thead>\n",
       "    <tr style=\"text-align: right;\">\n",
       "      <th></th>\n",
       "      <th>path</th>\n",
       "      <th>modality</th>\n",
       "      <th>dataset_features</th>\n",
       "      <th>method</th>\n",
       "      <th>dataset</th>\n",
       "      <th>features</th>\n",
       "    </tr>\n",
       "  </thead>\n",
       "  <tbody>\n",
       "    <tr>\n",
       "      <th>0</th>\n",
       "      <td>/vol/storage/data/deconvolution_results/test2/...</td>\n",
       "      <td>atac</td>\n",
       "      <td>Heart_3_highly_accessible</td>\n",
       "      <td>tangram</td>\n",
       "      <td>Heart_3</td>\n",
       "      <td>highly_accessible</td>\n",
       "    </tr>\n",
       "    <tr>\n",
       "      <th>1</th>\n",
       "      <td>/vol/storage/data/deconvolution_results/test2/...</td>\n",
       "      <td>atac</td>\n",
       "      <td>Heart_1_highly_accessible</td>\n",
       "      <td>tangram</td>\n",
       "      <td>Heart_1</td>\n",
       "      <td>highly_accessible</td>\n",
       "    </tr>\n",
       "    <tr>\n",
       "      <th>2</th>\n",
       "      <td>/vol/storage/data/deconvolution_results/test2/...</td>\n",
       "      <td>atac</td>\n",
       "      <td>Heart_4_highly_variable</td>\n",
       "      <td>tangram</td>\n",
       "      <td>Heart_4</td>\n",
       "      <td>highly_variable</td>\n",
       "    </tr>\n",
       "    <tr>\n",
       "      <th>3</th>\n",
       "      <td>/vol/storage/data/deconvolution_results/test2/...</td>\n",
       "      <td>atac</td>\n",
       "      <td>Heart_2_highly_accessible</td>\n",
       "      <td>tangram</td>\n",
       "      <td>Heart_2</td>\n",
       "      <td>highly_accessible</td>\n",
       "    </tr>\n",
       "    <tr>\n",
       "      <th>4</th>\n",
       "      <td>/vol/storage/data/deconvolution_results/test2/...</td>\n",
       "      <td>atac</td>\n",
       "      <td>Heart_3_highly_variable</td>\n",
       "      <td>tangram</td>\n",
       "      <td>Heart_3</td>\n",
       "      <td>highly_variable</td>\n",
       "    </tr>\n",
       "    <tr>\n",
       "      <th>5</th>\n",
       "      <td>/vol/storage/data/deconvolution_results/test2/...</td>\n",
       "      <td>atac</td>\n",
       "      <td>Heart_4_highly_accessible</td>\n",
       "      <td>tangram</td>\n",
       "      <td>Heart_4</td>\n",
       "      <td>highly_accessible</td>\n",
       "    </tr>\n",
       "    <tr>\n",
       "      <th>6</th>\n",
       "      <td>/vol/storage/data/deconvolution_results/test2/...</td>\n",
       "      <td>atac</td>\n",
       "      <td>Heart_2_highly_variable</td>\n",
       "      <td>tangram</td>\n",
       "      <td>Heart_2</td>\n",
       "      <td>highly_variable</td>\n",
       "    </tr>\n",
       "    <tr>\n",
       "      <th>7</th>\n",
       "      <td>/vol/storage/data/deconvolution_results/test2/...</td>\n",
       "      <td>atac</td>\n",
       "      <td>Heart_1_highly_variable</td>\n",
       "      <td>tangram</td>\n",
       "      <td>Heart_1</td>\n",
       "      <td>highly_variable</td>\n",
       "    </tr>\n",
       "    <tr>\n",
       "      <th>0</th>\n",
       "      <td>/vol/storage/data/deconvolution_results/test2/...</td>\n",
       "      <td>rna</td>\n",
       "      <td>Heart_4_highly_variable</td>\n",
       "      <td>tangram</td>\n",
       "      <td>Heart_4</td>\n",
       "      <td>highly_variable</td>\n",
       "    </tr>\n",
       "    <tr>\n",
       "      <th>1</th>\n",
       "      <td>/vol/storage/data/deconvolution_results/test2/...</td>\n",
       "      <td>rna</td>\n",
       "      <td>Heart_3_highly_variable</td>\n",
       "      <td>tangram</td>\n",
       "      <td>Heart_3</td>\n",
       "      <td>highly_variable</td>\n",
       "    </tr>\n",
       "    <tr>\n",
       "      <th>2</th>\n",
       "      <td>/vol/storage/data/deconvolution_results/test2/...</td>\n",
       "      <td>rna</td>\n",
       "      <td>Heart_2_highly_variable</td>\n",
       "      <td>tangram</td>\n",
       "      <td>Heart_2</td>\n",
       "      <td>highly_variable</td>\n",
       "    </tr>\n",
       "    <tr>\n",
       "      <th>3</th>\n",
       "      <td>/vol/storage/data/deconvolution_results/test2/...</td>\n",
       "      <td>rna</td>\n",
       "      <td>Heart_1_highly_variable</td>\n",
       "      <td>tangram</td>\n",
       "      <td>Heart_1</td>\n",
       "      <td>highly_variable</td>\n",
       "    </tr>\n",
       "  </tbody>\n",
       "</table>\n",
       "</div>"
      ],
      "text/plain": [
       "                                                path modality  \\\n",
       "0  /vol/storage/data/deconvolution_results/test2/...     atac   \n",
       "1  /vol/storage/data/deconvolution_results/test2/...     atac   \n",
       "2  /vol/storage/data/deconvolution_results/test2/...     atac   \n",
       "3  /vol/storage/data/deconvolution_results/test2/...     atac   \n",
       "4  /vol/storage/data/deconvolution_results/test2/...     atac   \n",
       "5  /vol/storage/data/deconvolution_results/test2/...     atac   \n",
       "6  /vol/storage/data/deconvolution_results/test2/...     atac   \n",
       "7  /vol/storage/data/deconvolution_results/test2/...     atac   \n",
       "0  /vol/storage/data/deconvolution_results/test2/...      rna   \n",
       "1  /vol/storage/data/deconvolution_results/test2/...      rna   \n",
       "2  /vol/storage/data/deconvolution_results/test2/...      rna   \n",
       "3  /vol/storage/data/deconvolution_results/test2/...      rna   \n",
       "\n",
       "            dataset_features   method  dataset           features  \n",
       "0  Heart_3_highly_accessible  tangram  Heart_3  highly_accessible  \n",
       "1  Heart_1_highly_accessible  tangram  Heart_1  highly_accessible  \n",
       "2    Heart_4_highly_variable  tangram  Heart_4    highly_variable  \n",
       "3  Heart_2_highly_accessible  tangram  Heart_2  highly_accessible  \n",
       "4    Heart_3_highly_variable  tangram  Heart_3    highly_variable  \n",
       "5  Heart_4_highly_accessible  tangram  Heart_4  highly_accessible  \n",
       "6    Heart_2_highly_variable  tangram  Heart_2    highly_variable  \n",
       "7    Heart_1_highly_variable  tangram  Heart_1    highly_variable  \n",
       "0    Heart_4_highly_variable  tangram  Heart_4    highly_variable  \n",
       "1    Heart_3_highly_variable  tangram  Heart_3    highly_variable  \n",
       "2    Heart_2_highly_variable  tangram  Heart_2    highly_variable  \n",
       "3    Heart_1_highly_variable  tangram  Heart_1    highly_variable  "
      ]
     },
     "execution_count": 30,
     "metadata": {},
     "output_type": "execute_result"
    }
   ],
   "source": [
    "df[['modality', 'dataset_features']] = df['path'].str.split('/', expand=True).iloc[:, 6:-1]\n",
    "df[['method']] = \"tangram\"\n",
    "df['dataset'] = df['dataset_features'].str.rsplit(\"_\", n=2).str[0]\n",
    "df[\"features\"] = df[\"dataset_features\"].str.split(\"_\", n=2).str[-1]\n",
    "df"
   ]
  },
  {
   "cell_type": "code",
   "execution_count": 31,
   "metadata": {},
   "outputs": [],
   "source": [
    "mapping_dict = {\n",
    "    \"russell_250\": \"/vol/storage/data/simulations/test/russell_250.h5mu\",\n",
    "    \"Heart_1\": \"/vol/storage/data/simulations/test/Heart_1.h5mu\",\n",
    "    \"Heart_2\": \"/vol/storage/data/simulations/test/Heart_2.h5mu\",\n",
    "    \"Heart_3\": \"/vol/storage/data/simulations/test/Heart_3.h5mu\",\n",
    "    \"Heart_4\": \"/vol/storage/data/simulations/test/Heart_4.h5mu\",\n",
    "    \"Brain_1\": \"/vol/storage/data/simulations/test/Brain_1.h5mu\",\n",
    "    \"Brain_2\": \"/vol/storage/data/simulations/test/Brain_2.h5mu\",\n",
    "    \"Brain_3\": \"/vol/storage/data/simulations/test/Brain_3.h5mu\",\n",
    "    \"Brain_4\": \"/vol/storage/data/simulations/test/Brain_4.h5mu\",\n",
    "}"
   ]
  },
  {
   "cell_type": "code",
   "execution_count": 32,
   "metadata": {},
   "outputs": [
    {
     "data": {
      "text/html": [
       "<div>\n",
       "<style scoped>\n",
       "    .dataframe tbody tr th:only-of-type {\n",
       "        vertical-align: middle;\n",
       "    }\n",
       "\n",
       "    .dataframe tbody tr th {\n",
       "        vertical-align: top;\n",
       "    }\n",
       "\n",
       "    .dataframe thead th {\n",
       "        text-align: right;\n",
       "    }\n",
       "</style>\n",
       "<table border=\"1\" class=\"dataframe\">\n",
       "  <thead>\n",
       "    <tr style=\"text-align: right;\">\n",
       "      <th></th>\n",
       "      <th>path</th>\n",
       "      <th>modality</th>\n",
       "      <th>dataset_features</th>\n",
       "      <th>method</th>\n",
       "      <th>dataset</th>\n",
       "      <th>features</th>\n",
       "      <th>mdata_spatial_path</th>\n",
       "    </tr>\n",
       "  </thead>\n",
       "  <tbody>\n",
       "    <tr>\n",
       "      <th>0</th>\n",
       "      <td>/vol/storage/data/deconvolution_results/test2/...</td>\n",
       "      <td>atac</td>\n",
       "      <td>Heart_3_highly_accessible</td>\n",
       "      <td>tangram</td>\n",
       "      <td>Heart_3</td>\n",
       "      <td>highly_accessible</td>\n",
       "      <td>/vol/storage/data/simulations/test/Heart_3.h5mu</td>\n",
       "    </tr>\n",
       "    <tr>\n",
       "      <th>1</th>\n",
       "      <td>/vol/storage/data/deconvolution_results/test2/...</td>\n",
       "      <td>atac</td>\n",
       "      <td>Heart_1_highly_accessible</td>\n",
       "      <td>tangram</td>\n",
       "      <td>Heart_1</td>\n",
       "      <td>highly_accessible</td>\n",
       "      <td>/vol/storage/data/simulations/test/Heart_1.h5mu</td>\n",
       "    </tr>\n",
       "    <tr>\n",
       "      <th>2</th>\n",
       "      <td>/vol/storage/data/deconvolution_results/test2/...</td>\n",
       "      <td>atac</td>\n",
       "      <td>Heart_4_highly_variable</td>\n",
       "      <td>tangram</td>\n",
       "      <td>Heart_4</td>\n",
       "      <td>highly_variable</td>\n",
       "      <td>/vol/storage/data/simulations/test/Heart_4.h5mu</td>\n",
       "    </tr>\n",
       "    <tr>\n",
       "      <th>3</th>\n",
       "      <td>/vol/storage/data/deconvolution_results/test2/...</td>\n",
       "      <td>atac</td>\n",
       "      <td>Heart_2_highly_accessible</td>\n",
       "      <td>tangram</td>\n",
       "      <td>Heart_2</td>\n",
       "      <td>highly_accessible</td>\n",
       "      <td>/vol/storage/data/simulations/test/Heart_2.h5mu</td>\n",
       "    </tr>\n",
       "    <tr>\n",
       "      <th>4</th>\n",
       "      <td>/vol/storage/data/deconvolution_results/test2/...</td>\n",
       "      <td>atac</td>\n",
       "      <td>Heart_3_highly_variable</td>\n",
       "      <td>tangram</td>\n",
       "      <td>Heart_3</td>\n",
       "      <td>highly_variable</td>\n",
       "      <td>/vol/storage/data/simulations/test/Heart_3.h5mu</td>\n",
       "    </tr>\n",
       "    <tr>\n",
       "      <th>5</th>\n",
       "      <td>/vol/storage/data/deconvolution_results/test2/...</td>\n",
       "      <td>atac</td>\n",
       "      <td>Heart_4_highly_accessible</td>\n",
       "      <td>tangram</td>\n",
       "      <td>Heart_4</td>\n",
       "      <td>highly_accessible</td>\n",
       "      <td>/vol/storage/data/simulations/test/Heart_4.h5mu</td>\n",
       "    </tr>\n",
       "    <tr>\n",
       "      <th>6</th>\n",
       "      <td>/vol/storage/data/deconvolution_results/test2/...</td>\n",
       "      <td>atac</td>\n",
       "      <td>Heart_2_highly_variable</td>\n",
       "      <td>tangram</td>\n",
       "      <td>Heart_2</td>\n",
       "      <td>highly_variable</td>\n",
       "      <td>/vol/storage/data/simulations/test/Heart_2.h5mu</td>\n",
       "    </tr>\n",
       "    <tr>\n",
       "      <th>7</th>\n",
       "      <td>/vol/storage/data/deconvolution_results/test2/...</td>\n",
       "      <td>atac</td>\n",
       "      <td>Heart_1_highly_variable</td>\n",
       "      <td>tangram</td>\n",
       "      <td>Heart_1</td>\n",
       "      <td>highly_variable</td>\n",
       "      <td>/vol/storage/data/simulations/test/Heart_1.h5mu</td>\n",
       "    </tr>\n",
       "    <tr>\n",
       "      <th>0</th>\n",
       "      <td>/vol/storage/data/deconvolution_results/test2/...</td>\n",
       "      <td>rna</td>\n",
       "      <td>Heart_4_highly_variable</td>\n",
       "      <td>tangram</td>\n",
       "      <td>Heart_4</td>\n",
       "      <td>highly_variable</td>\n",
       "      <td>/vol/storage/data/simulations/test/Heart_4.h5mu</td>\n",
       "    </tr>\n",
       "    <tr>\n",
       "      <th>1</th>\n",
       "      <td>/vol/storage/data/deconvolution_results/test2/...</td>\n",
       "      <td>rna</td>\n",
       "      <td>Heart_3_highly_variable</td>\n",
       "      <td>tangram</td>\n",
       "      <td>Heart_3</td>\n",
       "      <td>highly_variable</td>\n",
       "      <td>/vol/storage/data/simulations/test/Heart_3.h5mu</td>\n",
       "    </tr>\n",
       "    <tr>\n",
       "      <th>2</th>\n",
       "      <td>/vol/storage/data/deconvolution_results/test2/...</td>\n",
       "      <td>rna</td>\n",
       "      <td>Heart_2_highly_variable</td>\n",
       "      <td>tangram</td>\n",
       "      <td>Heart_2</td>\n",
       "      <td>highly_variable</td>\n",
       "      <td>/vol/storage/data/simulations/test/Heart_2.h5mu</td>\n",
       "    </tr>\n",
       "    <tr>\n",
       "      <th>3</th>\n",
       "      <td>/vol/storage/data/deconvolution_results/test2/...</td>\n",
       "      <td>rna</td>\n",
       "      <td>Heart_1_highly_variable</td>\n",
       "      <td>tangram</td>\n",
       "      <td>Heart_1</td>\n",
       "      <td>highly_variable</td>\n",
       "      <td>/vol/storage/data/simulations/test/Heart_1.h5mu</td>\n",
       "    </tr>\n",
       "  </tbody>\n",
       "</table>\n",
       "</div>"
      ],
      "text/plain": [
       "                                                path modality  \\\n",
       "0  /vol/storage/data/deconvolution_results/test2/...     atac   \n",
       "1  /vol/storage/data/deconvolution_results/test2/...     atac   \n",
       "2  /vol/storage/data/deconvolution_results/test2/...     atac   \n",
       "3  /vol/storage/data/deconvolution_results/test2/...     atac   \n",
       "4  /vol/storage/data/deconvolution_results/test2/...     atac   \n",
       "5  /vol/storage/data/deconvolution_results/test2/...     atac   \n",
       "6  /vol/storage/data/deconvolution_results/test2/...     atac   \n",
       "7  /vol/storage/data/deconvolution_results/test2/...     atac   \n",
       "0  /vol/storage/data/deconvolution_results/test2/...      rna   \n",
       "1  /vol/storage/data/deconvolution_results/test2/...      rna   \n",
       "2  /vol/storage/data/deconvolution_results/test2/...      rna   \n",
       "3  /vol/storage/data/deconvolution_results/test2/...      rna   \n",
       "\n",
       "            dataset_features   method  dataset           features  \\\n",
       "0  Heart_3_highly_accessible  tangram  Heart_3  highly_accessible   \n",
       "1  Heart_1_highly_accessible  tangram  Heart_1  highly_accessible   \n",
       "2    Heart_4_highly_variable  tangram  Heart_4    highly_variable   \n",
       "3  Heart_2_highly_accessible  tangram  Heart_2  highly_accessible   \n",
       "4    Heart_3_highly_variable  tangram  Heart_3    highly_variable   \n",
       "5  Heart_4_highly_accessible  tangram  Heart_4  highly_accessible   \n",
       "6    Heart_2_highly_variable  tangram  Heart_2    highly_variable   \n",
       "7    Heart_1_highly_variable  tangram  Heart_1    highly_variable   \n",
       "0    Heart_4_highly_variable  tangram  Heart_4    highly_variable   \n",
       "1    Heart_3_highly_variable  tangram  Heart_3    highly_variable   \n",
       "2    Heart_2_highly_variable  tangram  Heart_2    highly_variable   \n",
       "3    Heart_1_highly_variable  tangram  Heart_1    highly_variable   \n",
       "\n",
       "                                mdata_spatial_path  \n",
       "0  /vol/storage/data/simulations/test/Heart_3.h5mu  \n",
       "1  /vol/storage/data/simulations/test/Heart_1.h5mu  \n",
       "2  /vol/storage/data/simulations/test/Heart_4.h5mu  \n",
       "3  /vol/storage/data/simulations/test/Heart_2.h5mu  \n",
       "4  /vol/storage/data/simulations/test/Heart_3.h5mu  \n",
       "5  /vol/storage/data/simulations/test/Heart_4.h5mu  \n",
       "6  /vol/storage/data/simulations/test/Heart_2.h5mu  \n",
       "7  /vol/storage/data/simulations/test/Heart_1.h5mu  \n",
       "0  /vol/storage/data/simulations/test/Heart_4.h5mu  \n",
       "1  /vol/storage/data/simulations/test/Heart_3.h5mu  \n",
       "2  /vol/storage/data/simulations/test/Heart_2.h5mu  \n",
       "3  /vol/storage/data/simulations/test/Heart_1.h5mu  "
      ]
     },
     "execution_count": 32,
     "metadata": {},
     "output_type": "execute_result"
    }
   ],
   "source": [
    "df[\"mdata_spatial_path\"] = df['dataset'].map(mapping_dict)\n",
    "df"
   ]
  },
  {
   "cell_type": "code",
   "execution_count": 33,
   "metadata": {},
   "outputs": [],
   "source": [
    "def load_table(path, index_col):\n",
    "    res = pd.read_csv(path, index_col=index_col)\n",
    "    if \"q05cell_abundance_w_sf_\" in res.columns[0]:\n",
    "        res.columns = res.columns.to_series().str.split(\"q05cell_abundance_w_sf_\", expand=True).loc[:, 1].values\n",
    "    elif \"meanscell_abundance_w_sf_\" in res.columns[0]:\n",
    "        res.columns = res.columns.to_series().str.split(\"meanscell_abundance_w_sf_\", expand=True).loc[:, 1].values\n",
    "    if res.index[0] != 0:\n",
    "        res.index = res.index.astype(int) - 1\n",
    "    res.index = res.index.astype(str)\n",
    "    if \"cell_ID\" in res.columns:\n",
    "        res.drop(\"cell_ID\", axis=1, inplace=True)\n",
    "    res = res.div(res.sum(axis=1), axis=0)\n",
    "    return res"
   ]
  },
  {
   "cell_type": "code",
   "execution_count": 34,
   "metadata": {},
   "outputs": [],
   "source": [
    "def get_proportions(adata):\n",
    "    df = pd.DataFrame(adata.obsm[\"proportions\"], columns=adata.uns[\"proportion_names\"], index=adata.obs_names)\n",
    "    return df"
   ]
  },
  {
   "cell_type": "code",
   "execution_count": 44,
   "metadata": {},
   "outputs": [
    {
     "name": "stderr",
     "output_type": "stream",
     "text": [
      "12it [00:22,  1.87s/it]\n"
     ]
    }
   ],
   "source": [
    "jsd = []\n",
    "rmse = []\n",
    "for _, row in tqdm.tqdm(df.iterrows()):\n",
    "    # load ground truth\n",
    "    target_adata = mu.read(row[\"mdata_spatial_path\"])\n",
    "    targets = get_proportions(target_adata[row[\"modality\"]])\n",
    "\n",
    "    # load table\n",
    "    predictions = load_table(row[\"path\"], index_col=(None if row[\"method\"] == \"moscot\" else 0))\n",
    "    missing_cell_types = [cell_type for cell_type in targets.columns if cell_type not in predictions.columns]\n",
    "    predictions = predictions.assign(**dict.fromkeys(missing_cell_types, 0))\n",
    "    predictions = predictions.loc[targets.index, targets.columns]\n",
    "    jsd.append(de.tl.jsd(predictions, targets))\n",
    "    rmse.append(de.tl.rmse(predictions, targets))\n",
    "df[\"jsd\"] = jsd\n",
    "df[\"rmse\"] = rmse"
   ]
  },
  {
   "cell_type": "code",
   "execution_count": 46,
   "metadata": {},
   "outputs": [
    {
     "data": {
      "text/plain": [
       "method   features           modality\n",
       "tangram  highly_variable    rna         0.369342\n",
       "         highly_accessible  atac        0.372315\n",
       "         highly_variable    atac        0.374485\n",
       "dtype: float64"
      ]
     },
     "execution_count": 46,
     "metadata": {},
     "output_type": "execute_result"
    }
   ],
   "source": [
    "df.groupby(['method', 'features', 'modality'])[['jsd']].mean().sum(axis=1).sort_values()"
   ]
  },
  {
   "cell_type": "code",
   "execution_count": 47,
   "metadata": {},
   "outputs": [
    {
     "data": {
      "text/plain": [
       "method   features           modality\n",
       "tangram  highly_variable    rna         0.097772\n",
       "                            atac        0.100740\n",
       "         highly_accessible  atac        0.101655\n",
       "dtype: float64"
      ]
     },
     "execution_count": 47,
     "metadata": {},
     "output_type": "execute_result"
    }
   ],
   "source": [
    "df.groupby(['method', 'features', 'modality'])[['rmse']].mean().sum(axis=1).sort_values()"
   ]
  },
  {
   "cell_type": "code",
   "execution_count": null,
   "metadata": {},
   "outputs": [],
   "source": []
  }
 ],
 "metadata": {
  "kernelspec": {
   "display_name": "cell2loc_env",
   "language": "python",
   "name": "python3"
  },
  "language_info": {
   "codemirror_mode": {
    "name": "ipython",
    "version": 3
   },
   "file_extension": ".py",
   "mimetype": "text/x-python",
   "name": "python",
   "nbconvert_exporter": "python",
   "pygments_lexer": "ipython3",
   "version": "3.9.18"
  }
 },
 "nbformat": 4,
 "nbformat_minor": 2
}
