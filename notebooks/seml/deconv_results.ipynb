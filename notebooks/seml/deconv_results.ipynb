{
 "cells": [
  {
   "cell_type": "code",
   "execution_count": 2,
   "metadata": {},
   "outputs": [],
   "source": [
    "import seml\n",
    "import pandas as pd"
   ]
  },
  {
   "cell_type": "code",
   "execution_count": 3,
   "metadata": {},
   "outputs": [
    {
     "name": "stderr",
     "output_type": "stream",
     "text": [
      "/vol/storage/miniconda3/envs/cell2loc_env/lib/python3.9/site-packages/tqdm/auto.py:21: TqdmWarning: IProgress not found. Please update jupyter and ipywidgets. See https://ipywidgets.readthedocs.io/en/stable/user_install.html\n",
      "  from .autonotebook import tqdm as notebook_tqdm\n",
      "100%|██████████| 1/1 [00:00<00:00, 534.17it/s]\n",
      "100%|██████████| 1/1 [00:00<00:00, 151.93it/s]\n"
     ]
    }
   ],
   "source": [
    "results = seml.get_results('deconvolution', to_data_frame=True)"
   ]
  },
  {
   "cell_type": "code",
   "execution_count": 4,
   "metadata": {},
   "outputs": [
    {
     "data": {
      "text/html": [
       "<div>\n",
       "<style scoped>\n",
       "    .dataframe tbody tr th:only-of-type {\n",
       "        vertical-align: middle;\n",
       "    }\n",
       "\n",
       "    .dataframe tbody tr th {\n",
       "        vertical-align: top;\n",
       "    }\n",
       "\n",
       "    .dataframe thead th {\n",
       "        text-align: right;\n",
       "    }\n",
       "</style>\n",
       "<table border=\"1\" class=\"dataframe\">\n",
       "  <thead>\n",
       "    <tr style=\"text-align: right;\">\n",
       "      <th></th>\n",
       "      <th>_id</th>\n",
       "      <th>config.overwrite</th>\n",
       "      <th>config.db_collection</th>\n",
       "      <th>config.data.labels_key</th>\n",
       "      <th>config.data.mdata_reference_path</th>\n",
       "      <th>config.data.mdata_spatial_path</th>\n",
       "      <th>config.data.modality</th>\n",
       "      <th>config.data.var_HVF_column</th>\n",
       "      <th>config.method.method_id</th>\n",
       "      <th>config.model.output_path</th>\n",
       "      <th>config.seed</th>\n",
       "      <th>result.result_path</th>\n",
       "      <th>result.dataset</th>\n",
       "    </tr>\n",
       "  </thead>\n",
       "  <tbody>\n",
       "    <tr>\n",
       "      <th>0</th>\n",
       "      <td>1</td>\n",
       "      <td>1</td>\n",
       "      <td>deconvolution</td>\n",
       "      <td>cell_type</td>\n",
       "      <td>/vol/storage/data/cellxgene/human_cardiac_nich...</td>\n",
       "      <td>/vol/storage/data/simulations/Heart_1.h5mu</td>\n",
       "      <td>atac</td>\n",
       "      <td>highly_variable</td>\n",
       "      <td>Tangram</td>\n",
       "      <td>/vol/storage/data/deconvolution_results/destvi/</td>\n",
       "      <td>505407403</td>\n",
       "      <td>/vol/storage/data/deconvolution_results/destvi...</td>\n",
       "      <td>Heart_1</td>\n",
       "    </tr>\n",
       "  </tbody>\n",
       "</table>\n",
       "</div>"
      ],
      "text/plain": [
       "   _id  config.overwrite config.db_collection config.data.labels_key  \\\n",
       "0    1                 1        deconvolution              cell_type   \n",
       "\n",
       "                    config.data.mdata_reference_path  \\\n",
       "0  /vol/storage/data/cellxgene/human_cardiac_nich...   \n",
       "\n",
       "               config.data.mdata_spatial_path config.data.modality  \\\n",
       "0  /vol/storage/data/simulations/Heart_1.h5mu                 atac   \n",
       "\n",
       "  config.data.var_HVF_column config.method.method_id  \\\n",
       "0            highly_variable                 Tangram   \n",
       "\n",
       "                          config.model.output_path  config.seed  \\\n",
       "0  /vol/storage/data/deconvolution_results/destvi/    505407403   \n",
       "\n",
       "                                  result.result_path result.dataset  \n",
       "0  /vol/storage/data/deconvolution_results/destvi...        Heart_1  "
      ]
     },
     "execution_count": 4,
     "metadata": {},
     "output_type": "execute_result"
    }
   ],
   "source": [
    "results"
   ]
  },
  {
   "cell_type": "code",
   "execution_count": null,
   "metadata": {},
   "outputs": [],
   "source": []
  }
 ],
 "metadata": {
  "kernelspec": {
   "display_name": "cell2loc_env",
   "language": "python",
   "name": "python3"
  },
  "language_info": {
   "codemirror_mode": {
    "name": "ipython",
    "version": 3
   },
   "file_extension": ".py",
   "mimetype": "text/x-python",
   "name": "python",
   "nbconvert_exporter": "python",
   "pygments_lexer": "ipython3",
   "version": "3.9.18"
  }
 },
 "nbformat": 4,
 "nbformat_minor": 2
}
