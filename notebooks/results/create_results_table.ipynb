{
 "cells": [
  {
   "cell_type": "code",
   "execution_count": 1,
   "metadata": {},
   "outputs": [
    {
     "name": "stderr",
     "output_type": "stream",
     "text": [
      "/vol/storage/miniconda3/envs/atac2space/lib/python3.11/site-packages/tqdm/auto.py:21: TqdmWarning: IProgress not found. Please update jupyter and ipywidgets. See https://ipywidgets.readthedocs.io/en/stable/user_install.html\n",
      "  from .autonotebook import tqdm as notebook_tqdm\n",
      "/vol/storage/miniconda3/envs/atac2space/lib/python3.11/site-packages/scvi/_settings.py:63: UserWarning: Since v1.0.0, scvi-tools no longer uses a random seed by default. Run `scvi.settings.seed = 0` to reproduce results from previous versions.\n",
      "  self.seed = seed\n",
      "/vol/storage/miniconda3/envs/atac2space/lib/python3.11/site-packages/scvi/_settings.py:70: UserWarning: Setting `dl_pin_memory_gpu_training` is deprecated in v1.0 and will be removed in v1.1. Please pass in `pin_memory` to the data loaders instead.\n",
      "  self.dl_pin_memory_gpu_training = (\n"
     ]
    }
   ],
   "source": [
    "import seml\n",
    "import pandas as pd\n",
    "import glob\n",
    "import mudata as mu\n",
    "import deconvatac as de\n",
    "import seaborn as sns\n",
    "import tqdm\n",
    "import os"
   ]
  },
  {
   "cell_type": "markdown",
   "metadata": {},
   "source": [
    "## Create Results Table"
   ]
  },
  {
   "cell_type": "code",
   "execution_count": 2,
   "metadata": {},
   "outputs": [],
   "source": [
    "def get_proportions(adata):\n",
    "    df = pd.DataFrame(adata.obsm[\"proportions\"], columns=adata.uns[\"proportion_names\"], index=adata.obs_names)\n",
    "    return df"
   ]
  },
  {
   "cell_type": "code",
   "execution_count": null,
   "metadata": {},
   "outputs": [],
   "source": [
    "data_path = \"/vol/storage/data/deconvolution_results\"\n",
    "methods = [\"tangram\", \"rctd\", \"spatialdwls\", \"destvi\", \"cell2location\"]  # cell2location, moscot\n",
    "modalities = [\"atac\", \"rna\"]\n",
    "# go over all methods and modalities\n",
    "df = [pd.DataFrame({'path': glob.glob(os.path.join(data_path, method, modality, \"*\", \"*\"))}) for method in methods for modality in modalities]\n",
    "df = pd.concat(df)\n",
    "df[['method', 'modality', 'dataset_features']] = df['path'].str.split('/', expand=True).iloc[:, 5:-1]\n",
    "df['dataset'] = df['dataset_features'].str.rsplit(\"_\", n=2).str[0]\n",
    "df[\"features\"] = df[\"dataset_features\"].str.split(\"_\", n=2).str[-1]"
   ]
  },
  {
   "cell_type": "code",
   "execution_count": 9,
   "metadata": {},
   "outputs": [
    {
     "data": {
      "text/html": [
       "<div>\n",
       "<style scoped>\n",
       "    .dataframe tbody tr th:only-of-type {\n",
       "        vertical-align: middle;\n",
       "    }\n",
       "\n",
       "    .dataframe tbody tr th {\n",
       "        vertical-align: top;\n",
       "    }\n",
       "\n",
       "    .dataframe thead th {\n",
       "        text-align: right;\n",
       "    }\n",
       "</style>\n",
       "<table border=\"1\" class=\"dataframe\">\n",
       "  <thead>\n",
       "    <tr style=\"text-align: right;\">\n",
       "      <th></th>\n",
       "      <th>path</th>\n",
       "      <th>method</th>\n",
       "      <th>modality</th>\n",
       "      <th>dataset_features</th>\n",
       "      <th>dataset</th>\n",
       "      <th>features</th>\n",
       "    </tr>\n",
       "  </thead>\n",
       "  <tbody>\n",
       "    <tr>\n",
       "      <th>0</th>\n",
       "      <td>/vol/storage/data/deconvolution_results/tangra...</td>\n",
       "      <td>tangram</td>\n",
       "      <td>atac</td>\n",
       "      <td>Brain_1_highly_accessible</td>\n",
       "      <td>Brain_1</td>\n",
       "      <td>highly_accessible</td>\n",
       "    </tr>\n",
       "    <tr>\n",
       "      <th>1</th>\n",
       "      <td>/vol/storage/data/deconvolution_results/tangra...</td>\n",
       "      <td>tangram</td>\n",
       "      <td>atac</td>\n",
       "      <td>Heart_3_highly_accessible</td>\n",
       "      <td>Heart_3</td>\n",
       "      <td>highly_accessible</td>\n",
       "    </tr>\n",
       "    <tr>\n",
       "      <th>2</th>\n",
       "      <td>/vol/storage/data/deconvolution_results/tangra...</td>\n",
       "      <td>tangram</td>\n",
       "      <td>atac</td>\n",
       "      <td>russell_250_highly_variable</td>\n",
       "      <td>russell_250</td>\n",
       "      <td>highly_variable</td>\n",
       "    </tr>\n",
       "    <tr>\n",
       "      <th>3</th>\n",
       "      <td>/vol/storage/data/deconvolution_results/tangra...</td>\n",
       "      <td>tangram</td>\n",
       "      <td>atac</td>\n",
       "      <td>Brain_2_highly_variable</td>\n",
       "      <td>Brain_2</td>\n",
       "      <td>highly_variable</td>\n",
       "    </tr>\n",
       "    <tr>\n",
       "      <th>4</th>\n",
       "      <td>/vol/storage/data/deconvolution_results/tangra...</td>\n",
       "      <td>tangram</td>\n",
       "      <td>atac</td>\n",
       "      <td>russell_250_highly_accessible</td>\n",
       "      <td>russell_250</td>\n",
       "      <td>highly_accessible</td>\n",
       "    </tr>\n",
       "    <tr>\n",
       "      <th>...</th>\n",
       "      <td>...</td>\n",
       "      <td>...</td>\n",
       "      <td>...</td>\n",
       "      <td>...</td>\n",
       "      <td>...</td>\n",
       "      <td>...</td>\n",
       "    </tr>\n",
       "    <tr>\n",
       "      <th>13</th>\n",
       "      <td>/vol/storage/data/deconvolution_results/cell2l...</td>\n",
       "      <td>cell2location</td>\n",
       "      <td>rna</td>\n",
       "      <td>Heart_2_highly_variable</td>\n",
       "      <td>Heart_2</td>\n",
       "      <td>highly_variable</td>\n",
       "    </tr>\n",
       "    <tr>\n",
       "      <th>14</th>\n",
       "      <td>/vol/storage/data/deconvolution_results/cell2l...</td>\n",
       "      <td>cell2location</td>\n",
       "      <td>rna</td>\n",
       "      <td>Heart_1_highly_variable</td>\n",
       "      <td>Heart_1</td>\n",
       "      <td>highly_variable</td>\n",
       "    </tr>\n",
       "    <tr>\n",
       "      <th>15</th>\n",
       "      <td>/vol/storage/data/deconvolution_results/cell2l...</td>\n",
       "      <td>cell2location</td>\n",
       "      <td>rna</td>\n",
       "      <td>Heart_1_highly_variable</td>\n",
       "      <td>Heart_1</td>\n",
       "      <td>highly_variable</td>\n",
       "    </tr>\n",
       "    <tr>\n",
       "      <th>16</th>\n",
       "      <td>/vol/storage/data/deconvolution_results/cell2l...</td>\n",
       "      <td>cell2location</td>\n",
       "      <td>rna</td>\n",
       "      <td>Brain_4_highly_variable</td>\n",
       "      <td>Brain_4</td>\n",
       "      <td>highly_variable</td>\n",
       "    </tr>\n",
       "    <tr>\n",
       "      <th>17</th>\n",
       "      <td>/vol/storage/data/deconvolution_results/cell2l...</td>\n",
       "      <td>cell2location</td>\n",
       "      <td>rna</td>\n",
       "      <td>Brain_4_highly_variable</td>\n",
       "      <td>Brain_4</td>\n",
       "      <td>highly_variable</td>\n",
       "    </tr>\n",
       "  </tbody>\n",
       "</table>\n",
       "<p>162 rows × 6 columns</p>\n",
       "</div>"
      ],
      "text/plain": [
       "                                                 path         method modality  \\\n",
       "0   /vol/storage/data/deconvolution_results/tangra...        tangram     atac   \n",
       "1   /vol/storage/data/deconvolution_results/tangra...        tangram     atac   \n",
       "2   /vol/storage/data/deconvolution_results/tangra...        tangram     atac   \n",
       "3   /vol/storage/data/deconvolution_results/tangra...        tangram     atac   \n",
       "4   /vol/storage/data/deconvolution_results/tangra...        tangram     atac   \n",
       "..                                                ...            ...      ...   \n",
       "13  /vol/storage/data/deconvolution_results/cell2l...  cell2location      rna   \n",
       "14  /vol/storage/data/deconvolution_results/cell2l...  cell2location      rna   \n",
       "15  /vol/storage/data/deconvolution_results/cell2l...  cell2location      rna   \n",
       "16  /vol/storage/data/deconvolution_results/cell2l...  cell2location      rna   \n",
       "17  /vol/storage/data/deconvolution_results/cell2l...  cell2location      rna   \n",
       "\n",
       "                 dataset_features      dataset           features  \n",
       "0       Brain_1_highly_accessible      Brain_1  highly_accessible  \n",
       "1       Heart_3_highly_accessible      Heart_3  highly_accessible  \n",
       "2     russell_250_highly_variable  russell_250    highly_variable  \n",
       "3         Brain_2_highly_variable      Brain_2    highly_variable  \n",
       "4   russell_250_highly_accessible  russell_250  highly_accessible  \n",
       "..                            ...          ...                ...  \n",
       "13        Heart_2_highly_variable      Heart_2    highly_variable  \n",
       "14        Heart_1_highly_variable      Heart_1    highly_variable  \n",
       "15        Heart_1_highly_variable      Heart_1    highly_variable  \n",
       "16        Brain_4_highly_variable      Brain_4    highly_variable  \n",
       "17        Brain_4_highly_variable      Brain_4    highly_variable  \n",
       "\n",
       "[162 rows x 6 columns]"
      ]
     },
     "execution_count": 9,
     "metadata": {},
     "output_type": "execute_result"
    }
   ],
   "source": [
    "df"
   ]
  },
  {
   "cell_type": "code",
   "execution_count": 10,
   "metadata": {},
   "outputs": [],
   "source": [
    "mapping_dict = {\n",
    "    \"russell_250\": \"/vol/storage/data/simulations/russell_250.h5mu\",\n",
    "    \"Heart_1\": \"/vol/storage/data/simulations/Heart_1.h5mu\",\n",
    "    \"Heart_2\": \"/vol/storage/data/simulations/Heart_2.h5mu\",\n",
    "    \"Heart_3\": \"/vol/storage/data/simulations/Heart_3.h5mu\",\n",
    "    \"Heart_4\": \"/vol/storage/data/simulations/Heart_4.h5mu\",\n",
    "    \"Brain_1\": \"/vol/storage/data/simulations/Brain_1.h5mu\",\n",
    "    \"Brain_2\": \"/vol/storage/data/simulations/Brain_2.h5mu\",\n",
    "    \"Brain_3\": \"/vol/storage/data/simulations/Brain_3.h5mu\",\n",
    "    \"Brain_4\": \"/vol/storage/data/simulations/Brain_4.h5mu\",\n",
    "}"
   ]
  },
  {
   "cell_type": "code",
   "execution_count": 11,
   "metadata": {},
   "outputs": [],
   "source": [
    "df[\"mdata_spatial_path\"] = df['dataset'].map(mapping_dict)"
   ]
  },
  {
   "cell_type": "markdown",
   "metadata": {},
   "source": [
    "Add Moscot results to table"
   ]
  },
  {
   "cell_type": "code",
   "execution_count": null,
   "metadata": {},
   "outputs": [],
   "source": [
    "# add Moscot\n",
    "df_moscot = pd.DataFrame({\"path\": glob.glob(os.path.join(data_path, \"moscot\", \"*\", \"*\", \"highly*\", \"*predictions*\"))})\n",
    "df_moscot[[\"method\", \"dataset\", \"modality\", \"features\"]] = df_moscot[\"path\"].str.split(\"/\", expand=True).iloc[:, 5:-1]\n",
    "df_moscot[\"mdata_spatial_path\"] = df_moscot[\"dataset\"].map(mapping_dict)\n",
    "df = pd.concat([df, df_moscot])"
   ]
  },
  {
   "cell_type": "code",
   "execution_count": 16,
   "metadata": {},
   "outputs": [
    {
     "data": {
      "text/plain": [
       "dataset     modality\n",
       "Brain_1     atac        2\n",
       "            rna         1\n",
       "Brain_2     atac        2\n",
       "            rna         1\n",
       "Brain_3     atac        2\n",
       "            rna         1\n",
       "Brain_4     atac        2\n",
       "            rna         1\n",
       "Heart_1     atac        2\n",
       "            rna         1\n",
       "Heart_2     atac        2\n",
       "            rna         1\n",
       "Heart_3     atac        2\n",
       "            rna         1\n",
       "Heart_4     atac        2\n",
       "            rna         1\n",
       "russel_250  atac        2\n",
       "            rna         1\n",
       "dtype: int64"
      ]
     },
     "execution_count": 16,
     "metadata": {},
     "output_type": "execute_result"
    }
   ],
   "source": [
    "df.groupby(['method', 'dataset', 'modality']).size().loc['moscot']"
   ]
  },
  {
   "cell_type": "code",
   "execution_count": 17,
   "metadata": {},
   "outputs": [],
   "source": [
    "def load_table(path, index_col):\n",
    "    res = pd.read_csv(path, index_col=index_col)\n",
    "    if \"q05cell_abundance_w_sf_\" in res.columns[0]:\n",
    "        res.columns = res.columns.to_series().str.split(\"q05cell_abundance_w_sf_\", expand=True).loc[:, 1].values\n",
    "    elif \"meanscell_abundance_w_sf_\" in res.columns[0]:\n",
    "        res.columns = res.columns.to_series().str.split(\"meanscell_abundance_w_sf_\", expand=True).loc[:, 1].values\n",
    "    if res.index[0] != 0:\n",
    "        res.index = res.index.astype(int) - 1\n",
    "    res.index = res.index.astype(str)\n",
    "    res.drop('cell_ID', axis=1, inplace=True)\n",
    "    res = res.div(res.sum(axis=1), axis=0)\n",
    "    return res"
   ]
  },
  {
   "cell_type": "code",
   "execution_count": 21,
   "metadata": {},
   "outputs": [],
   "source": [
    "df = df.query(\"method == 'spatialdwls'\")"
   ]
  },
  {
   "cell_type": "code",
   "execution_count": 22,
   "metadata": {},
   "outputs": [
    {
     "name": "stderr",
     "output_type": "stream",
     "text": [
      "0it [00:00, ?it/s]/vol/storage/miniconda3/envs/atac2space/lib/python3.11/site-packages/anndata/_core/anndata.py:522: FutureWarning: The dtype argument is deprecated and will be removed in late 2024.\n",
      "  warnings.warn(\n",
      "/vol/storage/miniconda3/envs/atac2space/lib/python3.11/site-packages/anndata/_core/anndata.py:522: FutureWarning: The dtype argument is deprecated and will be removed in late 2024.\n",
      "  warnings.warn(\n",
      "1it [00:01,  1.28s/it]/vol/storage/miniconda3/envs/atac2space/lib/python3.11/site-packages/anndata/_core/anndata.py:522: FutureWarning: The dtype argument is deprecated and will be removed in late 2024.\n",
      "  warnings.warn(\n",
      "/vol/storage/miniconda3/envs/atac2space/lib/python3.11/site-packages/anndata/_core/anndata.py:522: FutureWarning: The dtype argument is deprecated and will be removed in late 2024.\n",
      "  warnings.warn(\n",
      "2it [00:03,  1.69s/it]/vol/storage/miniconda3/envs/atac2space/lib/python3.11/site-packages/anndata/_core/anndata.py:522: FutureWarning: The dtype argument is deprecated and will be removed in late 2024.\n",
      "  warnings.warn(\n",
      "/vol/storage/miniconda3/envs/atac2space/lib/python3.11/site-packages/anndata/_core/anndata.py:522: FutureWarning: The dtype argument is deprecated and will be removed in late 2024.\n",
      "  warnings.warn(\n",
      "3it [00:03,  1.11s/it]/vol/storage/miniconda3/envs/atac2space/lib/python3.11/site-packages/anndata/_core/anndata.py:522: FutureWarning: The dtype argument is deprecated and will be removed in late 2024.\n",
      "  warnings.warn(\n",
      "/vol/storage/miniconda3/envs/atac2space/lib/python3.11/site-packages/anndata/_core/anndata.py:522: FutureWarning: The dtype argument is deprecated and will be removed in late 2024.\n",
      "  warnings.warn(\n",
      "4it [00:05,  1.32s/it]/vol/storage/miniconda3/envs/atac2space/lib/python3.11/site-packages/anndata/_core/anndata.py:522: FutureWarning: The dtype argument is deprecated and will be removed in late 2024.\n",
      "  warnings.warn(\n",
      "/vol/storage/miniconda3/envs/atac2space/lib/python3.11/site-packages/anndata/_core/anndata.py:522: FutureWarning: The dtype argument is deprecated and will be removed in late 2024.\n",
      "  warnings.warn(\n",
      "5it [00:05,  1.00it/s]/vol/storage/miniconda3/envs/atac2space/lib/python3.11/site-packages/anndata/_core/anndata.py:522: FutureWarning: The dtype argument is deprecated and will be removed in late 2024.\n",
      "  warnings.warn(\n",
      "/vol/storage/miniconda3/envs/atac2space/lib/python3.11/site-packages/anndata/_core/anndata.py:522: FutureWarning: The dtype argument is deprecated and will be removed in late 2024.\n",
      "  warnings.warn(\n",
      "6it [00:07,  1.12s/it]/vol/storage/miniconda3/envs/atac2space/lib/python3.11/site-packages/anndata/_core/anndata.py:522: FutureWarning: The dtype argument is deprecated and will be removed in late 2024.\n",
      "  warnings.warn(\n",
      "/vol/storage/miniconda3/envs/atac2space/lib/python3.11/site-packages/anndata/_core/anndata.py:522: FutureWarning: The dtype argument is deprecated and will be removed in late 2024.\n",
      "  warnings.warn(\n",
      "7it [00:08,  1.25s/it]/vol/storage/miniconda3/envs/atac2space/lib/python3.11/site-packages/anndata/_core/anndata.py:522: FutureWarning: The dtype argument is deprecated and will be removed in late 2024.\n",
      "  warnings.warn(\n",
      "/vol/storage/miniconda3/envs/atac2space/lib/python3.11/site-packages/anndata/_core/anndata.py:522: FutureWarning: The dtype argument is deprecated and will be removed in late 2024.\n",
      "  warnings.warn(\n",
      "8it [00:09,  1.24s/it]/vol/storage/miniconda3/envs/atac2space/lib/python3.11/site-packages/anndata/_core/anndata.py:522: FutureWarning: The dtype argument is deprecated and will be removed in late 2024.\n",
      "  warnings.warn(\n",
      "/vol/storage/miniconda3/envs/atac2space/lib/python3.11/site-packages/anndata/_core/anndata.py:522: FutureWarning: The dtype argument is deprecated and will be removed in late 2024.\n",
      "  warnings.warn(\n",
      "9it [00:11,  1.32s/it]/vol/storage/miniconda3/envs/atac2space/lib/python3.11/site-packages/anndata/_core/anndata.py:522: FutureWarning: The dtype argument is deprecated and will be removed in late 2024.\n",
      "  warnings.warn(\n",
      "/vol/storage/miniconda3/envs/atac2space/lib/python3.11/site-packages/anndata/_core/anndata.py:522: FutureWarning: The dtype argument is deprecated and will be removed in late 2024.\n",
      "  warnings.warn(\n",
      "10it [00:13,  1.51s/it]/vol/storage/miniconda3/envs/atac2space/lib/python3.11/site-packages/anndata/_core/anndata.py:522: FutureWarning: The dtype argument is deprecated and will be removed in late 2024.\n",
      "  warnings.warn(\n",
      "/vol/storage/miniconda3/envs/atac2space/lib/python3.11/site-packages/anndata/_core/anndata.py:522: FutureWarning: The dtype argument is deprecated and will be removed in late 2024.\n",
      "  warnings.warn(\n",
      "11it [00:15,  1.59s/it]/vol/storage/miniconda3/envs/atac2space/lib/python3.11/site-packages/anndata/_core/anndata.py:522: FutureWarning: The dtype argument is deprecated and will be removed in late 2024.\n",
      "  warnings.warn(\n",
      "/vol/storage/miniconda3/envs/atac2space/lib/python3.11/site-packages/anndata/_core/anndata.py:522: FutureWarning: The dtype argument is deprecated and will be removed in late 2024.\n",
      "  warnings.warn(\n",
      "12it [00:17,  1.72s/it]/vol/storage/miniconda3/envs/atac2space/lib/python3.11/site-packages/anndata/_core/anndata.py:522: FutureWarning: The dtype argument is deprecated and will be removed in late 2024.\n",
      "  warnings.warn(\n",
      "/vol/storage/miniconda3/envs/atac2space/lib/python3.11/site-packages/anndata/_core/anndata.py:522: FutureWarning: The dtype argument is deprecated and will be removed in late 2024.\n",
      "  warnings.warn(\n",
      "13it [00:18,  1.78s/it]/vol/storage/miniconda3/envs/atac2space/lib/python3.11/site-packages/anndata/_core/anndata.py:522: FutureWarning: The dtype argument is deprecated and will be removed in late 2024.\n",
      "  warnings.warn(\n",
      "/vol/storage/miniconda3/envs/atac2space/lib/python3.11/site-packages/anndata/_core/anndata.py:522: FutureWarning: The dtype argument is deprecated and will be removed in late 2024.\n",
      "  warnings.warn(\n",
      "14it [00:20,  1.77s/it]/vol/storage/miniconda3/envs/atac2space/lib/python3.11/site-packages/anndata/_core/anndata.py:522: FutureWarning: The dtype argument is deprecated and will be removed in late 2024.\n",
      "  warnings.warn(\n",
      "/vol/storage/miniconda3/envs/atac2space/lib/python3.11/site-packages/anndata/_core/anndata.py:522: FutureWarning: The dtype argument is deprecated and will be removed in late 2024.\n",
      "  warnings.warn(\n",
      "15it [00:22,  1.83s/it]/vol/storage/miniconda3/envs/atac2space/lib/python3.11/site-packages/anndata/_core/anndata.py:522: FutureWarning: The dtype argument is deprecated and will be removed in late 2024.\n",
      "  warnings.warn(\n",
      "/vol/storage/miniconda3/envs/atac2space/lib/python3.11/site-packages/anndata/_core/anndata.py:522: FutureWarning: The dtype argument is deprecated and will be removed in late 2024.\n",
      "  warnings.warn(\n",
      "16it [00:24,  1.72s/it]/vol/storage/miniconda3/envs/atac2space/lib/python3.11/site-packages/anndata/_core/anndata.py:522: FutureWarning: The dtype argument is deprecated and will be removed in late 2024.\n",
      "  warnings.warn(\n",
      "/vol/storage/miniconda3/envs/atac2space/lib/python3.11/site-packages/anndata/_core/anndata.py:522: FutureWarning: The dtype argument is deprecated and will be removed in late 2024.\n",
      "  warnings.warn(\n",
      "17it [00:25,  1.60s/it]/vol/storage/miniconda3/envs/atac2space/lib/python3.11/site-packages/anndata/_core/anndata.py:522: FutureWarning: The dtype argument is deprecated and will be removed in late 2024.\n",
      "  warnings.warn(\n",
      "/vol/storage/miniconda3/envs/atac2space/lib/python3.11/site-packages/anndata/_core/anndata.py:522: FutureWarning: The dtype argument is deprecated and will be removed in late 2024.\n",
      "  warnings.warn(\n",
      "18it [00:27,  1.59s/it]/vol/storage/miniconda3/envs/atac2space/lib/python3.11/site-packages/anndata/_core/anndata.py:522: FutureWarning: The dtype argument is deprecated and will be removed in late 2024.\n",
      "  warnings.warn(\n",
      "/vol/storage/miniconda3/envs/atac2space/lib/python3.11/site-packages/anndata/_core/anndata.py:522: FutureWarning: The dtype argument is deprecated and will be removed in late 2024.\n",
      "  warnings.warn(\n",
      "19it [00:27,  1.24s/it]/vol/storage/miniconda3/envs/atac2space/lib/python3.11/site-packages/anndata/_core/anndata.py:522: FutureWarning: The dtype argument is deprecated and will be removed in late 2024.\n",
      "  warnings.warn(\n",
      "/vol/storage/miniconda3/envs/atac2space/lib/python3.11/site-packages/anndata/_core/anndata.py:522: FutureWarning: The dtype argument is deprecated and will be removed in late 2024.\n",
      "  warnings.warn(\n",
      "20it [00:29,  1.34s/it]/vol/storage/miniconda3/envs/atac2space/lib/python3.11/site-packages/anndata/_core/anndata.py:522: FutureWarning: The dtype argument is deprecated and will be removed in late 2024.\n",
      "  warnings.warn(\n",
      "/vol/storage/miniconda3/envs/atac2space/lib/python3.11/site-packages/anndata/_core/anndata.py:522: FutureWarning: The dtype argument is deprecated and will be removed in late 2024.\n",
      "  warnings.warn(\n",
      "21it [00:30,  1.29s/it]/vol/storage/miniconda3/envs/atac2space/lib/python3.11/site-packages/anndata/_core/anndata.py:522: FutureWarning: The dtype argument is deprecated and will be removed in late 2024.\n",
      "  warnings.warn(\n",
      "/vol/storage/miniconda3/envs/atac2space/lib/python3.11/site-packages/anndata/_core/anndata.py:522: FutureWarning: The dtype argument is deprecated and will be removed in late 2024.\n",
      "  warnings.warn(\n",
      "22it [00:31,  1.34s/it]/vol/storage/miniconda3/envs/atac2space/lib/python3.11/site-packages/anndata/_core/anndata.py:522: FutureWarning: The dtype argument is deprecated and will be removed in late 2024.\n",
      "  warnings.warn(\n",
      "/vol/storage/miniconda3/envs/atac2space/lib/python3.11/site-packages/anndata/_core/anndata.py:522: FutureWarning: The dtype argument is deprecated and will be removed in late 2024.\n",
      "  warnings.warn(\n",
      "23it [00:33,  1.46s/it]/vol/storage/miniconda3/envs/atac2space/lib/python3.11/site-packages/anndata/_core/anndata.py:522: FutureWarning: The dtype argument is deprecated and will be removed in late 2024.\n",
      "  warnings.warn(\n",
      "/vol/storage/miniconda3/envs/atac2space/lib/python3.11/site-packages/anndata/_core/anndata.py:522: FutureWarning: The dtype argument is deprecated and will be removed in late 2024.\n",
      "  warnings.warn(\n",
      "24it [00:35,  1.59s/it]/vol/storage/miniconda3/envs/atac2space/lib/python3.11/site-packages/anndata/_core/anndata.py:522: FutureWarning: The dtype argument is deprecated and will be removed in late 2024.\n",
      "  warnings.warn(\n",
      "/vol/storage/miniconda3/envs/atac2space/lib/python3.11/site-packages/anndata/_core/anndata.py:522: FutureWarning: The dtype argument is deprecated and will be removed in late 2024.\n",
      "  warnings.warn(\n",
      "25it [00:37,  1.70s/it]/vol/storage/miniconda3/envs/atac2space/lib/python3.11/site-packages/anndata/_core/anndata.py:522: FutureWarning: The dtype argument is deprecated and will be removed in late 2024.\n",
      "  warnings.warn(\n",
      "/vol/storage/miniconda3/envs/atac2space/lib/python3.11/site-packages/anndata/_core/anndata.py:522: FutureWarning: The dtype argument is deprecated and will be removed in late 2024.\n",
      "  warnings.warn(\n",
      "26it [00:38,  1.63s/it]/vol/storage/miniconda3/envs/atac2space/lib/python3.11/site-packages/anndata/_core/anndata.py:522: FutureWarning: The dtype argument is deprecated and will be removed in late 2024.\n",
      "  warnings.warn(\n",
      "/vol/storage/miniconda3/envs/atac2space/lib/python3.11/site-packages/anndata/_core/anndata.py:522: FutureWarning: The dtype argument is deprecated and will be removed in late 2024.\n",
      "  warnings.warn(\n",
      "27it [00:40,  1.48s/it]\n"
     ]
    }
   ],
   "source": [
    "jsd = []\n",
    "rmse = []\n",
    "for _, row in tqdm.tqdm(df.iterrows()):\n",
    "    # load ground truth\n",
    "    target_adata = mu.read(row[\"mdata_spatial_path\"])\n",
    "    targets = get_proportions(target_adata[row[\"modality\"]])\n",
    "\n",
    "    # load table\n",
    "    predictions = load_table(row[\"path\"], index_col=(None if row[\"method\"] == \"moscot\" else 0))\n",
    "    predictions = predictions.loc[targets.index, targets.columns]\n",
    "    jsd.append(de.tl.jsd(predictions, targets))\n",
    "    rmse.append(de.tl.rmse(predictions, targets))\n",
    "df[\"jsd\"] = jsd\n",
    "df[\"rmse\"] = rmse"
   ]
  },
  {
   "cell_type": "code",
   "execution_count": null,
   "metadata": {},
   "outputs": [],
   "source": [
    "df.to_csv(\"tables/results_table.csv\")"
   ]
  },
  {
   "cell_type": "code",
   "execution_count": null,
   "metadata": {},
   "outputs": [],
   "source": [
    "df = pd.read_csv('tables/results_table.csv', index_col=0)"
   ]
  },
  {
   "cell_type": "code",
   "execution_count": 33,
   "metadata": {},
   "outputs": [
    {
     "data": {
      "text/plain": [
       "method         features           modality\n",
       "cell2location  highly_variable    rna         0.307014\n",
       "rctd           highly_variable    rna         0.346914\n",
       "cell2location  highly_variable    atac        0.404087\n",
       "               highly_accessible  atac        0.415427\n",
       "rctd           highly_variable    atac        0.416090\n",
       "spatialdwls    highly_variable    rna         0.456846\n",
       "rctd           highly_accessible  atac        0.457290\n",
       "destvi         highly_variable    rna         0.501630\n",
       "spatialdwls    highly_variable    atac        0.612917\n",
       "destvi         highly_variable    atac        0.643956\n",
       "tangram        highly_variable    rna         0.729420\n",
       "spatialdwls    highly_accessible  atac        0.735594\n",
       "tangram        highly_variable    atac        0.750257\n",
       "               highly_accessible  atac        0.756998\n",
       "destvi         highly_accessible  atac        0.790659\n",
       "moscot         highly_accessible  atac        0.924676\n",
       "               highly_variable    atac        0.926016\n",
       "                                  rna         0.975635\n",
       "dtype: float64"
      ]
     },
     "execution_count": 33,
     "metadata": {},
     "output_type": "execute_result"
    }
   ],
   "source": [
    "df.groupby(['method', 'features', 'modality'])[['jsd', 'rmse']].mean().sum(axis=1).sort_values()"
   ]
  },
  {
   "cell_type": "code",
   "execution_count": null,
   "metadata": {},
   "outputs": [],
   "source": []
  }
 ],
 "metadata": {
  "kernelspec": {
   "display_name": "atac2space",
   "language": "python",
   "name": "python3"
  },
  "language_info": {
   "codemirror_mode": {
    "name": "ipython",
    "version": 3
   },
   "file_extension": ".py",
   "mimetype": "text/x-python",
   "name": "python",
   "nbconvert_exporter": "python",
   "pygments_lexer": "ipython3",
   "version": "3.11.5"
  }
 },
 "nbformat": 4,
 "nbformat_minor": 2
}
