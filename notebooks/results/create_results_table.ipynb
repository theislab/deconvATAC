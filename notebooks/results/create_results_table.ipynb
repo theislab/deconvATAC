{
 "cells": [
  {
   "cell_type": "code",
   "execution_count": 1,
   "metadata": {},
   "outputs": [
    {
     "name": "stderr",
     "output_type": "stream",
     "text": [
      "/vol/storage/miniconda3/envs/atac2space/lib/python3.11/site-packages/tqdm/auto.py:21: TqdmWarning: IProgress not found. Please update jupyter and ipywidgets. See https://ipywidgets.readthedocs.io/en/stable/user_install.html\n",
      "  from .autonotebook import tqdm as notebook_tqdm\n",
      "/vol/storage/miniconda3/envs/atac2space/lib/python3.11/site-packages/scvi/_settings.py:63: UserWarning: Since v1.0.0, scvi-tools no longer uses a random seed by default. Run `scvi.settings.seed = 0` to reproduce results from previous versions.\n",
      "  self.seed = seed\n",
      "/vol/storage/miniconda3/envs/atac2space/lib/python3.11/site-packages/scvi/_settings.py:70: UserWarning: Setting `dl_pin_memory_gpu_training` is deprecated in v1.0 and will be removed in v1.1. Please pass in `pin_memory` to the data loaders instead.\n",
      "  self.dl_pin_memory_gpu_training = (\n"
     ]
    }
   ],
   "source": [
    "import glob\n",
    "import os\n",
    "\n",
    "import mudata as mu\n",
    "import pandas as pd\n",
    "import tqdm\n",
    "\n",
    "import deconvatac as de\n"
   ]
  },
  {
   "cell_type": "code",
   "execution_count": 16,
   "metadata": {},
   "outputs": [],
   "source": [
    "data_path = \"/vol/storage/submission_data\""
   ]
  },
  {
   "cell_type": "markdown",
   "metadata": {},
   "source": [
    "## Create Results Table"
   ]
  },
  {
   "cell_type": "code",
   "execution_count": 2,
   "metadata": {},
   "outputs": [],
   "source": [
    "def get_proportions(adata):\n",
    "    df = pd.DataFrame(adata.obsm[\"proportions\"], columns=adata.uns[\"proportion_names\"], index=adata.obs_names)\n",
    "    return df"
   ]
  },
  {
   "cell_type": "code",
   "execution_count": 17,
   "metadata": {},
   "outputs": [],
   "source": [
    "methods = [\"tangram\", \"rctd\", \"spatialdwls\", \"destvi\", \"cell2location\"]\n",
    "modalities = [\"atac\", \"rna\"]\n",
    "# go over all methods and modalities\n",
    "df = [pd.DataFrame({'path': glob.glob(os.path.join(data_path, \"deconvolution_results\", method, modality, \"*\", \"*\"))}) for method in methods for modality in modalities]\n",
    "df = pd.concat(df)\n",
    "df[['method', 'modality', 'dataset_features']] = df['path'].str.split('/', expand=True).iloc[:, 5:-1]\n",
    "df['dataset'] = df['dataset_features'].str.rsplit(\"_\", n=2).str[0]\n",
    "df[\"features\"] = df[\"dataset_features\"].str.split(\"_\", n=2).str[-1]"
   ]
  },
  {
   "cell_type": "code",
   "execution_count": 18,
   "metadata": {},
   "outputs": [
    {
     "data": {
      "text/html": [
       "<div>\n",
       "<style scoped>\n",
       "    .dataframe tbody tr th:only-of-type {\n",
       "        vertical-align: middle;\n",
       "    }\n",
       "\n",
       "    .dataframe tbody tr th {\n",
       "        vertical-align: top;\n",
       "    }\n",
       "\n",
       "    .dataframe thead th {\n",
       "        text-align: right;\n",
       "    }\n",
       "</style>\n",
       "<table border=\"1\" class=\"dataframe\">\n",
       "  <thead>\n",
       "    <tr style=\"text-align: right;\">\n",
       "      <th></th>\n",
       "      <th>path</th>\n",
       "      <th>method</th>\n",
       "      <th>modality</th>\n",
       "      <th>dataset_features</th>\n",
       "      <th>dataset</th>\n",
       "      <th>features</th>\n",
       "    </tr>\n",
       "  </thead>\n",
       "  <tbody>\n",
       "    <tr>\n",
       "      <th>0</th>\n",
       "      <td>/vol/storage/submission_data/deconvolution_res...</td>\n",
       "      <td>tangram</td>\n",
       "      <td>atac</td>\n",
       "      <td>Brain_1_highly_accessible</td>\n",
       "      <td>Brain_1</td>\n",
       "      <td>highly_accessible</td>\n",
       "    </tr>\n",
       "    <tr>\n",
       "      <th>1</th>\n",
       "      <td>/vol/storage/submission_data/deconvolution_res...</td>\n",
       "      <td>tangram</td>\n",
       "      <td>atac</td>\n",
       "      <td>Heart_3_highly_accessible</td>\n",
       "      <td>Heart_3</td>\n",
       "      <td>highly_accessible</td>\n",
       "    </tr>\n",
       "    <tr>\n",
       "      <th>2</th>\n",
       "      <td>/vol/storage/submission_data/deconvolution_res...</td>\n",
       "      <td>tangram</td>\n",
       "      <td>atac</td>\n",
       "      <td>russell_250_highly_variable</td>\n",
       "      <td>russell_250</td>\n",
       "      <td>highly_variable</td>\n",
       "    </tr>\n",
       "    <tr>\n",
       "      <th>3</th>\n",
       "      <td>/vol/storage/submission_data/deconvolution_res...</td>\n",
       "      <td>tangram</td>\n",
       "      <td>atac</td>\n",
       "      <td>Brain_2_highly_variable</td>\n",
       "      <td>Brain_2</td>\n",
       "      <td>highly_variable</td>\n",
       "    </tr>\n",
       "    <tr>\n",
       "      <th>4</th>\n",
       "      <td>/vol/storage/submission_data/deconvolution_res...</td>\n",
       "      <td>tangram</td>\n",
       "      <td>atac</td>\n",
       "      <td>russell_250_highly_accessible</td>\n",
       "      <td>russell_250</td>\n",
       "      <td>highly_accessible</td>\n",
       "    </tr>\n",
       "    <tr>\n",
       "      <th>...</th>\n",
       "      <td>...</td>\n",
       "      <td>...</td>\n",
       "      <td>...</td>\n",
       "      <td>...</td>\n",
       "      <td>...</td>\n",
       "      <td>...</td>\n",
       "    </tr>\n",
       "    <tr>\n",
       "      <th>13</th>\n",
       "      <td>/vol/storage/submission_data/deconvolution_res...</td>\n",
       "      <td>cell2location</td>\n",
       "      <td>rna</td>\n",
       "      <td>Heart_2_highly_variable</td>\n",
       "      <td>Heart_2</td>\n",
       "      <td>highly_variable</td>\n",
       "    </tr>\n",
       "    <tr>\n",
       "      <th>14</th>\n",
       "      <td>/vol/storage/submission_data/deconvolution_res...</td>\n",
       "      <td>cell2location</td>\n",
       "      <td>rna</td>\n",
       "      <td>Heart_1_highly_variable</td>\n",
       "      <td>Heart_1</td>\n",
       "      <td>highly_variable</td>\n",
       "    </tr>\n",
       "    <tr>\n",
       "      <th>15</th>\n",
       "      <td>/vol/storage/submission_data/deconvolution_res...</td>\n",
       "      <td>cell2location</td>\n",
       "      <td>rna</td>\n",
       "      <td>Heart_1_highly_variable</td>\n",
       "      <td>Heart_1</td>\n",
       "      <td>highly_variable</td>\n",
       "    </tr>\n",
       "    <tr>\n",
       "      <th>16</th>\n",
       "      <td>/vol/storage/submission_data/deconvolution_res...</td>\n",
       "      <td>cell2location</td>\n",
       "      <td>rna</td>\n",
       "      <td>Brain_4_highly_variable</td>\n",
       "      <td>Brain_4</td>\n",
       "      <td>highly_variable</td>\n",
       "    </tr>\n",
       "    <tr>\n",
       "      <th>17</th>\n",
       "      <td>/vol/storage/submission_data/deconvolution_res...</td>\n",
       "      <td>cell2location</td>\n",
       "      <td>rna</td>\n",
       "      <td>Brain_4_highly_variable</td>\n",
       "      <td>Brain_4</td>\n",
       "      <td>highly_variable</td>\n",
       "    </tr>\n",
       "  </tbody>\n",
       "</table>\n",
       "<p>163 rows × 6 columns</p>\n",
       "</div>"
      ],
      "text/plain": [
       "                                                 path         method modality  \\\n",
       "0   /vol/storage/submission_data/deconvolution_res...        tangram     atac   \n",
       "1   /vol/storage/submission_data/deconvolution_res...        tangram     atac   \n",
       "2   /vol/storage/submission_data/deconvolution_res...        tangram     atac   \n",
       "3   /vol/storage/submission_data/deconvolution_res...        tangram     atac   \n",
       "4   /vol/storage/submission_data/deconvolution_res...        tangram     atac   \n",
       "..                                                ...            ...      ...   \n",
       "13  /vol/storage/submission_data/deconvolution_res...  cell2location      rna   \n",
       "14  /vol/storage/submission_data/deconvolution_res...  cell2location      rna   \n",
       "15  /vol/storage/submission_data/deconvolution_res...  cell2location      rna   \n",
       "16  /vol/storage/submission_data/deconvolution_res...  cell2location      rna   \n",
       "17  /vol/storage/submission_data/deconvolution_res...  cell2location      rna   \n",
       "\n",
       "                 dataset_features      dataset           features  \n",
       "0       Brain_1_highly_accessible      Brain_1  highly_accessible  \n",
       "1       Heart_3_highly_accessible      Heart_3  highly_accessible  \n",
       "2     russell_250_highly_variable  russell_250    highly_variable  \n",
       "3         Brain_2_highly_variable      Brain_2    highly_variable  \n",
       "4   russell_250_highly_accessible  russell_250  highly_accessible  \n",
       "..                            ...          ...                ...  \n",
       "13        Heart_2_highly_variable      Heart_2    highly_variable  \n",
       "14        Heart_1_highly_variable      Heart_1    highly_variable  \n",
       "15        Heart_1_highly_variable      Heart_1    highly_variable  \n",
       "16        Brain_4_highly_variable      Brain_4    highly_variable  \n",
       "17        Brain_4_highly_variable      Brain_4    highly_variable  \n",
       "\n",
       "[163 rows x 6 columns]"
      ]
     },
     "execution_count": 18,
     "metadata": {},
     "output_type": "execute_result"
    }
   ],
   "source": [
    "df"
   ]
  },
  {
   "cell_type": "code",
   "execution_count": 19,
   "metadata": {},
   "outputs": [],
   "source": [
    "mapping_dict = {\n",
    "    \"russell_250\": os.path.join(data_path, \"data/simulations/russell_250.h5mu\"),\n",
    "    \"Heart_1\": os.path.join(data_path, \"data/simulations/Heart_1.h5mu\"),\n",
    "    \"Heart_2\": os.path.join(data_path, \"data/simulations/Heart_2.h5mu\"),\n",
    "    \"Heart_3\": os.path.join(data_path, \"data/simulations/Heart_3.h5mu\"),\n",
    "    \"Heart_4\": os.path.join(data_path, \"data/simulations/Heart_4.h5mu\"),\n",
    "    \"Brain_1\": os.path.join(data_path, \"data/simulations/Brain_1.h5mu\"),\n",
    "    \"Brain_2\": os.path.join(data_path, \"data/simulations/Brain_2.h5mu\"),\n",
    "    \"Brain_3\": os.path.join(data_path, \"data/simulations/Brain_3.h5mu\"),\n",
    "    \"Brain_4\": os.path.join(data_path, \"data/simulations/Brain_4.h5mu\"),\n",
    "}"
   ]
  },
  {
   "cell_type": "code",
   "execution_count": 20,
   "metadata": {},
   "outputs": [],
   "source": [
    "df[\"mdata_spatial_path\"] = df['dataset'].map(mapping_dict)"
   ]
  },
  {
   "cell_type": "code",
   "execution_count": 21,
   "metadata": {},
   "outputs": [],
   "source": [
    "def load_table(path, index_col):\n",
    "    \"\"\"\n",
    "    Load results CSV file and convert to probabilties.\n",
    "\n",
    "    Parameters\n",
    "    ----------\n",
    "    path (str): The path to the CSV file.\n",
    "    index_col (int or None): Column to set as index (None if no index column).\n",
    "\n",
    "    Returns\n",
    "    -------\n",
    "    pandas.DataFrame.\n",
    "    \"\"\"\n",
    "    res = pd.read_csv(path, index_col=index_col)\n",
    "    if \"q05cell_abundance_w_sf_\" in res.columns[0]:\n",
    "        res.columns = res.columns.to_series().str.split(\"q05cell_abundance_w_sf_\", expand=True).loc[:, 1].values\n",
    "    elif \"meanscell_abundance_w_sf_\" in res.columns[0]:\n",
    "        res.columns = res.columns.to_series().str.split(\"meanscell_abundance_w_sf_\", expand=True).loc[:, 1].values\n",
    "    if res.index[0] != 0:\n",
    "        res.index = res.index.astype(int) - 1\n",
    "    res.index = res.index.astype(str)\n",
    "    res.drop('cell_ID', axis=1, inplace=True)\n",
    "    res = res.div(res.sum(axis=1), axis=0)\n",
    "    return res"
   ]
  },
  {
   "cell_type": "code",
   "execution_count": 22,
   "metadata": {},
   "outputs": [
    {
     "name": "stderr",
     "output_type": "stream",
     "text": [
      "0it [00:00, ?it/s]/vol/storage/miniconda3/envs/atac2space/lib/python3.11/site-packages/anndata/_core/anndata.py:522: FutureWarning: The dtype argument is deprecated and will be removed in late 2024.\n",
      "  warnings.warn(\n",
      "/vol/storage/miniconda3/envs/atac2space/lib/python3.11/site-packages/anndata/_core/anndata.py:522: FutureWarning: The dtype argument is deprecated and will be removed in late 2024.\n",
      "  warnings.warn(\n",
      "0it [00:02, ?it/s]\n"
     ]
    },
    {
     "ename": "KeyError",
     "evalue": "\"['cell_ID'] not found in axis\"",
     "output_type": "error",
     "traceback": [
      "\u001b[0;31m---------------------------------------------------------------------------\u001b[0m",
      "\u001b[0;31mKeyError\u001b[0m                                  Traceback (most recent call last)",
      "Cell \u001b[0;32mIn[22], line 9\u001b[0m\n\u001b[1;32m      6\u001b[0m targets \u001b[38;5;241m=\u001b[39m get_proportions(target_adata[row[\u001b[38;5;124m\"\u001b[39m\u001b[38;5;124mmodality\u001b[39m\u001b[38;5;124m\"\u001b[39m]])\n\u001b[1;32m      8\u001b[0m \u001b[38;5;66;03m# load table\u001b[39;00m\n\u001b[0;32m----> 9\u001b[0m predictions \u001b[38;5;241m=\u001b[39m load_table(row[\u001b[38;5;124m\"\u001b[39m\u001b[38;5;124mpath\u001b[39m\u001b[38;5;124m\"\u001b[39m], index_col\u001b[38;5;241m=\u001b[39m(\u001b[38;5;28;01mNone\u001b[39;00m \u001b[38;5;28;01mif\u001b[39;00m row[\u001b[38;5;124m\"\u001b[39m\u001b[38;5;124mmethod\u001b[39m\u001b[38;5;124m\"\u001b[39m] \u001b[38;5;241m==\u001b[39m \u001b[38;5;124m\"\u001b[39m\u001b[38;5;124mmoscot\u001b[39m\u001b[38;5;124m\"\u001b[39m \u001b[38;5;28;01melse\u001b[39;00m \u001b[38;5;241m0\u001b[39m))\n\u001b[1;32m     10\u001b[0m predictions \u001b[38;5;241m=\u001b[39m predictions\u001b[38;5;241m.\u001b[39mloc[targets\u001b[38;5;241m.\u001b[39mindex, targets\u001b[38;5;241m.\u001b[39mcolumns]\n\u001b[1;32m     11\u001b[0m jsd\u001b[38;5;241m.\u001b[39mappend(de\u001b[38;5;241m.\u001b[39mtl\u001b[38;5;241m.\u001b[39mjsd(predictions, targets))\n",
      "Cell \u001b[0;32mIn[21], line 22\u001b[0m, in \u001b[0;36mload_table\u001b[0;34m(path, index_col)\u001b[0m\n\u001b[1;32m     20\u001b[0m     res\u001b[38;5;241m.\u001b[39mindex \u001b[38;5;241m=\u001b[39m res\u001b[38;5;241m.\u001b[39mindex\u001b[38;5;241m.\u001b[39mastype(\u001b[38;5;28mint\u001b[39m) \u001b[38;5;241m-\u001b[39m \u001b[38;5;241m1\u001b[39m\n\u001b[1;32m     21\u001b[0m res\u001b[38;5;241m.\u001b[39mindex \u001b[38;5;241m=\u001b[39m res\u001b[38;5;241m.\u001b[39mindex\u001b[38;5;241m.\u001b[39mastype(\u001b[38;5;28mstr\u001b[39m)\n\u001b[0;32m---> 22\u001b[0m res\u001b[38;5;241m.\u001b[39mdrop(\u001b[38;5;124m'\u001b[39m\u001b[38;5;124mcell_ID\u001b[39m\u001b[38;5;124m'\u001b[39m, axis\u001b[38;5;241m=\u001b[39m\u001b[38;5;241m1\u001b[39m, inplace\u001b[38;5;241m=\u001b[39m\u001b[38;5;28;01mTrue\u001b[39;00m)\n\u001b[1;32m     23\u001b[0m res \u001b[38;5;241m=\u001b[39m res\u001b[38;5;241m.\u001b[39mdiv(res\u001b[38;5;241m.\u001b[39msum(axis\u001b[38;5;241m=\u001b[39m\u001b[38;5;241m1\u001b[39m), axis\u001b[38;5;241m=\u001b[39m\u001b[38;5;241m0\u001b[39m)\n\u001b[1;32m     24\u001b[0m \u001b[38;5;28;01mreturn\u001b[39;00m res\n",
      "File \u001b[0;32m/vol/storage/miniconda3/envs/atac2space/lib/python3.11/site-packages/pandas/core/frame.py:5344\u001b[0m, in \u001b[0;36mDataFrame.drop\u001b[0;34m(self, labels, axis, index, columns, level, inplace, errors)\u001b[0m\n\u001b[1;32m   5196\u001b[0m \u001b[38;5;28;01mdef\u001b[39;00m \u001b[38;5;21mdrop\u001b[39m(\n\u001b[1;32m   5197\u001b[0m     \u001b[38;5;28mself\u001b[39m,\n\u001b[1;32m   5198\u001b[0m     labels: IndexLabel \u001b[38;5;241m|\u001b[39m \u001b[38;5;28;01mNone\u001b[39;00m \u001b[38;5;241m=\u001b[39m \u001b[38;5;28;01mNone\u001b[39;00m,\n\u001b[0;32m   (...)\u001b[0m\n\u001b[1;32m   5205\u001b[0m     errors: IgnoreRaise \u001b[38;5;241m=\u001b[39m \u001b[38;5;124m\"\u001b[39m\u001b[38;5;124mraise\u001b[39m\u001b[38;5;124m\"\u001b[39m,\n\u001b[1;32m   5206\u001b[0m ) \u001b[38;5;241m-\u001b[39m\u001b[38;5;241m>\u001b[39m DataFrame \u001b[38;5;241m|\u001b[39m \u001b[38;5;28;01mNone\u001b[39;00m:\n\u001b[1;32m   5207\u001b[0m \u001b[38;5;250m    \u001b[39m\u001b[38;5;124;03m\"\"\"\u001b[39;00m\n\u001b[1;32m   5208\u001b[0m \u001b[38;5;124;03m    Drop specified labels from rows or columns.\u001b[39;00m\n\u001b[1;32m   5209\u001b[0m \n\u001b[0;32m   (...)\u001b[0m\n\u001b[1;32m   5342\u001b[0m \u001b[38;5;124;03m            weight  1.0     0.8\u001b[39;00m\n\u001b[1;32m   5343\u001b[0m \u001b[38;5;124;03m    \"\"\"\u001b[39;00m\n\u001b[0;32m-> 5344\u001b[0m     \u001b[38;5;28;01mreturn\u001b[39;00m \u001b[38;5;28msuper\u001b[39m()\u001b[38;5;241m.\u001b[39mdrop(\n\u001b[1;32m   5345\u001b[0m         labels\u001b[38;5;241m=\u001b[39mlabels,\n\u001b[1;32m   5346\u001b[0m         axis\u001b[38;5;241m=\u001b[39maxis,\n\u001b[1;32m   5347\u001b[0m         index\u001b[38;5;241m=\u001b[39mindex,\n\u001b[1;32m   5348\u001b[0m         columns\u001b[38;5;241m=\u001b[39mcolumns,\n\u001b[1;32m   5349\u001b[0m         level\u001b[38;5;241m=\u001b[39mlevel,\n\u001b[1;32m   5350\u001b[0m         inplace\u001b[38;5;241m=\u001b[39minplace,\n\u001b[1;32m   5351\u001b[0m         errors\u001b[38;5;241m=\u001b[39merrors,\n\u001b[1;32m   5352\u001b[0m     )\n",
      "File \u001b[0;32m/vol/storage/miniconda3/envs/atac2space/lib/python3.11/site-packages/pandas/core/generic.py:4711\u001b[0m, in \u001b[0;36mNDFrame.drop\u001b[0;34m(self, labels, axis, index, columns, level, inplace, errors)\u001b[0m\n\u001b[1;32m   4709\u001b[0m \u001b[38;5;28;01mfor\u001b[39;00m axis, labels \u001b[38;5;129;01min\u001b[39;00m axes\u001b[38;5;241m.\u001b[39mitems():\n\u001b[1;32m   4710\u001b[0m     \u001b[38;5;28;01mif\u001b[39;00m labels \u001b[38;5;129;01mis\u001b[39;00m \u001b[38;5;129;01mnot\u001b[39;00m \u001b[38;5;28;01mNone\u001b[39;00m:\n\u001b[0;32m-> 4711\u001b[0m         obj \u001b[38;5;241m=\u001b[39m obj\u001b[38;5;241m.\u001b[39m_drop_axis(labels, axis, level\u001b[38;5;241m=\u001b[39mlevel, errors\u001b[38;5;241m=\u001b[39merrors)\n\u001b[1;32m   4713\u001b[0m \u001b[38;5;28;01mif\u001b[39;00m inplace:\n\u001b[1;32m   4714\u001b[0m     \u001b[38;5;28mself\u001b[39m\u001b[38;5;241m.\u001b[39m_update_inplace(obj)\n",
      "File \u001b[0;32m/vol/storage/miniconda3/envs/atac2space/lib/python3.11/site-packages/pandas/core/generic.py:4753\u001b[0m, in \u001b[0;36mNDFrame._drop_axis\u001b[0;34m(self, labels, axis, level, errors, only_slice)\u001b[0m\n\u001b[1;32m   4751\u001b[0m         new_axis \u001b[38;5;241m=\u001b[39m axis\u001b[38;5;241m.\u001b[39mdrop(labels, level\u001b[38;5;241m=\u001b[39mlevel, errors\u001b[38;5;241m=\u001b[39merrors)\n\u001b[1;32m   4752\u001b[0m     \u001b[38;5;28;01melse\u001b[39;00m:\n\u001b[0;32m-> 4753\u001b[0m         new_axis \u001b[38;5;241m=\u001b[39m axis\u001b[38;5;241m.\u001b[39mdrop(labels, errors\u001b[38;5;241m=\u001b[39merrors)\n\u001b[1;32m   4754\u001b[0m     indexer \u001b[38;5;241m=\u001b[39m axis\u001b[38;5;241m.\u001b[39mget_indexer(new_axis)\n\u001b[1;32m   4756\u001b[0m \u001b[38;5;66;03m# Case for non-unique axis\u001b[39;00m\n\u001b[1;32m   4757\u001b[0m \u001b[38;5;28;01melse\u001b[39;00m:\n",
      "File \u001b[0;32m/vol/storage/miniconda3/envs/atac2space/lib/python3.11/site-packages/pandas/core/indexes/base.py:7000\u001b[0m, in \u001b[0;36mIndex.drop\u001b[0;34m(self, labels, errors)\u001b[0m\n\u001b[1;32m   6998\u001b[0m \u001b[38;5;28;01mif\u001b[39;00m mask\u001b[38;5;241m.\u001b[39many():\n\u001b[1;32m   6999\u001b[0m     \u001b[38;5;28;01mif\u001b[39;00m errors \u001b[38;5;241m!=\u001b[39m \u001b[38;5;124m\"\u001b[39m\u001b[38;5;124mignore\u001b[39m\u001b[38;5;124m\"\u001b[39m:\n\u001b[0;32m-> 7000\u001b[0m         \u001b[38;5;28;01mraise\u001b[39;00m \u001b[38;5;167;01mKeyError\u001b[39;00m(\u001b[38;5;124mf\u001b[39m\u001b[38;5;124m\"\u001b[39m\u001b[38;5;132;01m{\u001b[39;00mlabels[mask]\u001b[38;5;241m.\u001b[39mtolist()\u001b[38;5;132;01m}\u001b[39;00m\u001b[38;5;124m not found in axis\u001b[39m\u001b[38;5;124m\"\u001b[39m)\n\u001b[1;32m   7001\u001b[0m     indexer \u001b[38;5;241m=\u001b[39m indexer[\u001b[38;5;241m~\u001b[39mmask]\n\u001b[1;32m   7002\u001b[0m \u001b[38;5;28;01mreturn\u001b[39;00m \u001b[38;5;28mself\u001b[39m\u001b[38;5;241m.\u001b[39mdelete(indexer)\n",
      "\u001b[0;31mKeyError\u001b[0m: \"['cell_ID'] not found in axis\""
     ]
    }
   ],
   "source": [
    "jsd = []\n",
    "rmse = []\n",
    "for _, row in tqdm.tqdm(df.iterrows()):\n",
    "    # load ground truth\n",
    "    target_adata = mu.read(row[\"mdata_spatial_path\"])\n",
    "    targets = get_proportions(target_adata[row[\"modality\"]])\n",
    "\n",
    "    # load table\n",
    "    predictions = load_table(row[\"path\"], index_col=(None if row[\"method\"] == \"moscot\" else 0))\n",
    "    predictions = predictions.loc[targets.index, targets.columns]\n",
    "    jsd.append(de.tl.jsd(predictions, targets))\n",
    "    rmse.append(de.tl.rmse(predictions, targets))\n",
    "df[\"jsd\"] = jsd\n",
    "df[\"rmse\"] = rmse"
   ]
  },
  {
   "cell_type": "code",
   "execution_count": null,
   "metadata": {},
   "outputs": [],
   "source": [
    "df.to_csv(\"tables/results_table.csv\")"
   ]
  },
  {
   "cell_type": "markdown",
   "metadata": {},
   "source": [
    "## Load and process the table"
   ]
  },
  {
   "cell_type": "code",
   "execution_count": null,
   "metadata": {},
   "outputs": [],
   "source": [
    "df = pd.read_csv('tables/results_table.csv', index_col=0)"
   ]
  },
  {
   "cell_type": "code",
   "execution_count": 33,
   "metadata": {},
   "outputs": [
    {
     "data": {
      "text/plain": [
       "method         features           modality\n",
       "cell2location  highly_variable    rna         0.307014\n",
       "rctd           highly_variable    rna         0.346914\n",
       "cell2location  highly_variable    atac        0.404087\n",
       "               highly_accessible  atac        0.415427\n",
       "rctd           highly_variable    atac        0.416090\n",
       "spatialdwls    highly_variable    rna         0.456846\n",
       "rctd           highly_accessible  atac        0.457290\n",
       "destvi         highly_variable    rna         0.501630\n",
       "spatialdwls    highly_variable    atac        0.612917\n",
       "destvi         highly_variable    atac        0.643956\n",
       "tangram        highly_variable    rna         0.729420\n",
       "spatialdwls    highly_accessible  atac        0.735594\n",
       "tangram        highly_variable    atac        0.750257\n",
       "               highly_accessible  atac        0.756998\n",
       "destvi         highly_accessible  atac        0.790659\n",
       "moscot         highly_accessible  atac        0.924676\n",
       "               highly_variable    atac        0.926016\n",
       "                                  rna         0.975635\n",
       "dtype: float64"
      ]
     },
     "execution_count": 33,
     "metadata": {},
     "output_type": "execute_result"
    }
   ],
   "source": [
    "df.groupby(['method', 'features', 'modality'])[['jsd', 'rmse']].mean().sum(axis=1).sort_values()"
   ]
  },
  {
   "cell_type": "code",
   "execution_count": null,
   "metadata": {},
   "outputs": [],
   "source": []
  }
 ],
 "metadata": {
  "kernelspec": {
   "display_name": "atac2space",
   "language": "python",
   "name": "python3"
  },
  "language_info": {
   "codemirror_mode": {
    "name": "ipython",
    "version": 3
   },
   "file_extension": ".py",
   "mimetype": "text/x-python",
   "name": "python",
   "nbconvert_exporter": "python",
   "pygments_lexer": "ipython3",
   "version": "3.11.5"
  }
 },
 "nbformat": 4,
 "nbformat_minor": 2
}
